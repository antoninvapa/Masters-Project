{
 "cells": [
  {
   "cell_type": "code",
   "execution_count": 1,
   "metadata": {},
   "outputs": [],
   "source": [
    "import numpy as np\n",
    "import matplotlib.pyplot as plt\n",
    "import scipy.stats as stats\n",
    "from astropy.cosmology import WMAP9 as cosmo\n",
    "from astropy import constants\n",
    "from astropy import units as u\n",
    "import matplotlib as mpl\n",
    "\n",
    "import scipy.integrate as integrate\n",
    "\n",
    "mpl.rcParams['agg.path.chunksize'] = 10000\n",
    "plt.rcParams.update({\n",
    "\t'font.family':'serif',\n",
    "\t'mathtext.fontset' : 'cm',\n",
    "\t'mathtext.rm': 'serif',\n",
    "\t'font.weight': 'normal',\n",
    "\t'font.size': 10})\n",
    "plt.rcParams.update({'font.size': 10})"
   ]
  },
  {
   "cell_type": "code",
   "execution_count": 2,
   "metadata": {},
   "outputs": [],
   "source": [
    "G=constants.G\n",
    "H_0=cosmo.H(0).to(u.yr**-1)\n",
    "#H_0=(100*u.km*u.s**-1*u.Mpc**-1).to(u.yr**-1)\n",
    "M_sun=constants.M_sun\n",
    "h=0.73\n",
    "h7=1.05\n",
    "\n",
    "rho_0=((3*H_0**2)/(8*np.pi*G)/M_sun).to(u.Mpc**-3).value\n",
    "omega_m=0.27\n",
    "x_eq=125\n",
    "k_eq=x_eq**-1"
   ]
  },
  {
   "cell_type": "code",
   "execution_count": 18,
   "metadata": {},
   "outputs": [
    {
     "data": {
      "text/plain": [
       "133363631951.67577"
      ]
     },
     "execution_count": 18,
     "metadata": {},
     "output_type": "execute_result"
    }
   ],
   "source": [
    "((3*H_0**2)/(8*np.pi*G)/M_sun).to(u.Mpc**-3).value"
   ]
  },
  {
   "cell_type": "code",
   "execution_count": 3,
   "metadata": {},
   "outputs": [],
   "source": [
    "z=20\n",
    "z_i=1\n",
    "\n",
    "def Time(z):\n",
    "  return ((2*H_0**(-1))/(1+(1+z)**2))\n",
    "\n",
    "t=Time(z)\n",
    "t_0=Time(0)\n",
    "t_i=Time(z_i)\n",
    "ns=0.95\n",
    "kpivot = 2e-3\n",
    "\n",
    "R=11.4*h7**-1"
   ]
  },
  {
   "cell_type": "code",
   "execution_count": 6,
   "metadata": {},
   "outputs": [],
   "source": [
    "def SigmaT(sigma, t):\n",
    "  return sigma*(t/t_i)**(2/3)\n",
    "\n",
    "def TransferFunction(k):\n",
    "    q=2.04/(omega_m*h7**2)\n",
    "    return np.log(1+2.34*q*k)/(2.34*q*k*(1+3.89*q*k+(16.1*q*k)**2+(5.46*q*k)**3+(6.71*q*k)**4)**(1/4))\n",
    "N=1\n",
    "def PowerSpectrum(k):\n",
    "    return N*TransferFunction(k)**2*k*(k/kpivot)**(ns-1)\n",
    "\n",
    "def TopHatNorm(R):\n",
    "\n",
    "    s8= 1/(2*np.pi**2)*integrate.quad(lambda k: k**2*PowerSpectrum(k)*(3/(k*R)**3*(np.sin(k*R)-k*R*np.cos(k*R)))**2, 0, np.inf)[0]\n",
    "\n",
    "    return 0.76*0.76/s8\n",
    "\n",
    "N=TopHatNorm(R)"
   ]
  },
  {
   "cell_type": "code",
   "execution_count": 7,
   "metadata": {},
   "outputs": [
    {
     "data": {
      "text/plain": [
       "Text(0, 0.5, '$IMF$')"
      ]
     },
     "execution_count": 7,
     "metadata": {},
     "output_type": "execute_result"
    },
    {
     "data": {
      "image/png": "[encoded data removed]",
      "text/plain": [
       "<Figure size 432x288 with 1 Axes>"
      ]
     },
     "metadata": {
      "needs_background": "light"
     },
     "output_type": "display_data"
    }
   ],
   "source": [
    "K=np.logspace(-3, 3, 1000)\n",
    "plt.plot(K, TransferFunction(K))\n",
    "plt.xscale('log')\n",
    "plt.yscale('log')\n",
    "plt.xlabel('$k$')\n",
    "plt.ylabel('$IMF$')"
   ]
  },
  {
   "cell_type": "code",
   "execution_count": 8,
   "metadata": {},
   "outputs": [],
   "source": [
    "def TopHatSigma(M):\n",
    "\n",
    "    K=((4*np.pi/3*rho_0)/M)**(1/3)\n",
    "\n",
    "    s = np.zeros(len(K))   \n",
    "    \n",
    "    for i in range(len(K)):\n",
    "        s[i] = (1/(2*np.pi**2)*integrate.quad(lambda k: k**2*PowerSpectrum(k)*(3/(k/K[i])**3*(np.sin(k/K[i])-k/K[i]*np.cos(k/K[i])))**2, 0, np.inf)[0])**(1/2)\n",
    "    \n",
    "    return K, s"
   ]
  },
  {
   "cell_type": "code",
   "execution_count": 9,
   "metadata": {},
   "outputs": [],
   "source": [
    "def GaussianSigma(M):\n",
    "\n",
    "    K=0.643*(((2*np.pi)**(2/3)*rho_0)/M)**(1/3)\n",
    "\n",
    "    s = np.zeros(len(K))    \n",
    "\n",
    "    for i in range(len(K)):\n",
    "        \n",
    "        s[i] = (1/(2*np.pi**2)*integrate.quad(lambda k: k**2*PowerSpectrum(k)*(np.exp(-(k/K[i])**2/2))**2, 0, np.inf)[0])**(1/2)\n",
    "    \n",
    "    return K, s"
   ]
  },
  {
   "cell_type": "code",
   "execution_count": 10,
   "metadata": {},
   "outputs": [],
   "source": [
    "def KSharpSigma(M):\n",
    "  \n",
    "  K=0.414*((6*np.pi**2*rho_0)/M)**(1/3)\n",
    "\n",
    "  s=np.zeros(len(K))\n",
    "\n",
    "  for i in range(len(K)):\n",
    "        \n",
    "      s[i] = integrate.quad(lambda k: k**2*PowerSpectrum(k), 0, K[i])[0]\n",
    "\n",
    "  return K, np.sqrt(1/(2*np.pi**2)*s)"
   ]
  },
  {
   "cell_type": "code",
   "execution_count": 11,
   "metadata": {},
   "outputs": [],
   "source": [
    "M=np.logspace(1,20,10000)"
   ]
  },
  {
   "cell_type": "code",
   "execution_count": 12,
   "metadata": {},
   "outputs": [
    {
     "name": "stderr",
     "output_type": "stream",
     "text": [
      "<ipython-input-8-c12cd466fe77>:8: IntegrationWarning: The maximum number of subdivisions (50) has been achieved.\n",
      "  If increasing the limit yields no improvement it is advised to analyze \n",
      "  the integrand in order to determine the difficulties.  If the position of a \n",
      "  local difficulty can be determined (singularity, discontinuity) one will \n",
      "  probably gain from splitting up the interval and calling the integrator \n",
      "  on the subranges.  Perhaps a special-purpose integrator should be used.\n",
      "  s[i] = (1/(2*np.pi**2)*integrate.quad(lambda k: k**2*PowerSpectrum(k)*(3/(k/K[i])**3*(np.sin(k/K[i])-k/K[i]*np.cos(k/K[i])))**2, 0, np.inf)[0])**(1/2)\n"
     ]
    }
   ],
   "source": [
    "K_ksharp, S_ksharp = KSharpSigma(M)\n",
    "K_th, S_th = TopHatSigma(M)\n",
    "K_g, S_g = GaussianSigma(M)"
   ]
  },
  {
   "cell_type": "code",
   "execution_count": 13,
   "metadata": {},
   "outputs": [],
   "source": [
    "# S_ksharpT=SigmaT(S_ksharp, t)/N\n",
    "# S_thT=SigmaT(S_th, t)/N\n",
    "# S_gT=SigmaT(S_g, t)/N"
   ]
  },
  {
   "cell_type": "code",
   "execution_count": 14,
   "metadata": {},
   "outputs": [],
   "source": [
    "K_ksharp, S_ksharp = KSharpSigma(M)\n",
    "S_ksharpT=SigmaT(S_ksharp, t)"
   ]
  },
  {
   "cell_type": "code",
   "execution_count": 15,
   "metadata": {},
   "outputs": [
    {
     "data": {
      "text/plain": [
       "<matplotlib.legend.Legend at 0x7f950482c970>"
      ]
     },
     "execution_count": 15,
     "metadata": {},
     "output_type": "execute_result"
    },
    {
     "data": {
      "image/png": "[encoded data removed]",
      "text/plain": [
       "<Figure size 576x576 with 1 Axes>"
      ]
     },
     "metadata": {
      "needs_background": "light"
     },
     "output_type": "display_data"
    }
   ],
   "source": [
    "plt.subplots(figsize=(8,8))\n",
    "\n",
    "plt.plot(M, S_ksharpT, c='b', label='k-sharp')\n",
    "plt.plot(M, S_th, c='r', label='Top-Hat')\n",
    "plt.plot(M, S_g, c='green', label='Gaussian')\n",
    "plt.plot((1e2,1e20), (1,1), 'k--')\n",
    "\n",
    "plt.xscale('log')\n",
    "plt.xlabel('$M/M_{\\odot}$')\n",
    "plt.ylabel('$\\sigma$')\n",
    "plt.yscale('log')\n",
    "plt.xlim(1e4,1e20)\n",
    "plt.ylim(1e-2,3e1)\n",
    "plt.legend()"
   ]
  },
  {
   "cell_type": "code",
   "execution_count": 17,
   "metadata": {},
   "outputs": [
    {
     "data": {
      "text/plain": [
       "<matplotlib.legend.Legend at 0x7f95054757f0>"
      ]
     },
     "execution_count": 17,
     "metadata": {},
     "output_type": "execute_result"
    },
    {
     "data": {
      "image/png": "[encoded data removed]",
      "text/plain": [
       "<Figure size 576x576 with 1 Axes>"
      ]
     },
     "metadata": {
      "needs_background": "light"
     },
     "output_type": "display_data"
    }
   ],
   "source": [
    "plt.subplots(figsize=(8,8))\n",
    "# #plt.plot((sigma2(M)[1])/u.Mpc, sigma2t(sigma2(M)[0], t))\n",
    "plt.plot(K_ksharp, S_ksharp**2, c='b', label='k-sharp')\n",
    "# plt.plot(K_th, S_thT, c='r', label='Top-Hat')\n",
    "# plt.plot(K_g, S_gT, c='green', label='Gaussian')\n",
    "plt.xscale('log')\n",
    "plt.xlabel('$k$')\n",
    "plt.ylabel('$\\sigma$')\n",
    "plt.yscale('log')\n",
    "\n",
    "plt.xlim(0.0009,1000)\n",
    "plt.ylim(0.0001,1e5)\n",
    "plt.legend()"
   ]
  },
  {
   "cell_type": "code",
   "execution_count": null,
   "metadata": {},
   "outputs": [],
   "source": [
    "def Delta_c(t):\n",
    "  return 1.686*(t_i/t)**(2/3)\n",
    "\n",
    "def DLogSigma2(M):\n",
    "\n",
    "  sigma_plus=KSharpSigma(1.01*M)[1]\n",
    "  sigma=KSharpSigma(M)[1]\n",
    "  dlogsigma=(np.log(sigma_plus)-np.log(sigma))/(0.01*M)\n",
    "  \n",
    "  return dlogsigma\n"
   ]
  },
  {
   "cell_type": "code",
   "execution_count": null,
   "metadata": {},
   "outputs": [],
   "source": [
    "dlogsdlogm=np.abs(DLogSigma2(M))"
   ]
  },
  {
   "cell_type": "code",
   "execution_count": null,
   "metadata": {},
   "outputs": [],
   "source": [
    "sigma=S_ksharp\n",
    "\n",
    "IMF=rho_0*((Delta_c(t)/sigma))/((2*np.pi)**(1/2)*M)*np.exp(-Delta_c(t)**2/(2*sigma**2))*dlogsdlogm"
   ]
  },
  {
   "cell_type": "code",
   "execution_count": null,
   "metadata": {},
   "outputs": [
    {
     "data": {
      "text/plain": [
       "(1e-12, 100)"
      ]
     },
     "execution_count": 341,
     "metadata": {},
     "output_type": "execute_result"
    },
    {
     "data": {
      "image/png": "[encoded data removed]",
      "text/plain": [
       "<Figure size 432x288 with 1 Axes>"
      ]
     },
     "metadata": {
      "needs_background": "light"
     },
     "output_type": "display_data"
    }
   ],
   "source": [
    "plt.plot(M, IMF)\n",
    "plt.xscale('log')\n",
    "plt.xlabel('$M/M_{\\odot}$')\n",
    "plt.ylabel('$IMF$')\n",
    "plt.yscale('log')\n",
    "plt.xlim(1e7,1e18)\n",
    "plt.ylim(1e-12,100)"
   ]
  },
  {
   "cell_type": "code",
   "execution_count": null,
   "metadata": {},
   "outputs": [
    {
     "data": {
      "text/plain": [
       "array([4.44279551e-03, 4.44090960e-03, 4.43902449e-03, ...,\n",
       "       6.51320226e-21, 6.51037778e-21, 6.50755451e-21])"
      ]
     },
     "execution_count": 284,
     "metadata": {},
     "output_type": "execute_result"
    }
   ],
   "source": [
    "dlogsdlogm"
   ]
  },
  {
   "cell_type": "code",
   "execution_count": null,
   "metadata": {},
   "outputs": [
    {
     "data": {
      "text/plain": [
       "133363631951.67577"
      ]
     },
     "execution_count": 344,
     "metadata": {},
     "output_type": "execute_result"
    }
   ],
   "source": [
    "rho_0\n"
   ]
  },
  {
   "cell_type": "code",
   "execution_count": null,
   "metadata": {},
   "outputs": [],
   "source": [
    "def test(function, sigma):\n",
    "    if function==Delta_c:\n",
    "        print('ok')\n",
    "    print(Delta_c(sigma))"
   ]
  },
  {
   "cell_type": "code",
   "execution_count": null,
   "metadata": {},
   "outputs": [
    {
     "name": "stdout",
     "output_type": "stream",
     "text": [
      "ok\n",
      "305.4879254181157 yr(2/3)\n"
     ]
    }
   ],
   "source": [
    "test(Delta_c, 1)"
   ]
  },
  {
   "cell_type": "code",
   "execution_count": null,
   "metadata": {},
   "outputs": [],
   "source": []
  },
  {
   "cell_type": "code",
   "execution_count": null,
   "metadata": {},
   "outputs": [],
   "source": []
  }
 ],
 "metadata": {
  "kernelspec": {
   "display_name": "Python 3.8.3",
   "language": "python",
   "name": "python3"
  },
  "language_info": {
   "codemirror_mode": {
    "name": "ipython",
    "version": 3
   },
   "file_extension": ".py",
   "mimetype": "text/x-python",
   "name": "python",
   "nbconvert_exporter": "python",
   "pygments_lexer": "ipython3",
   "version": "3.8.3 (default, Jul  2 2020, 11:26:31) \n[Clang 10.0.0 ]"
  },
  "orig_nbformat": 4,
  "vscode": {
   "interpreter": {
    "hash": "881a562e02f309c4fd10f2c8ec208fcd46499745ebb69d5957db3412b8336f91"
   }
  }
 },
 "nbformat": 4,
 "nbformat_minor": 2
}
