{
 "cells": [
  {
   "cell_type": "code",
   "execution_count": 4,
   "metadata": {},
   "outputs": [],
   "source": [
    "import numpy as np\n",
    "import scipy.integrate as integrate\n",
    "from astropy.cosmology import WMAP9 as cosmo\n",
    "from astropy import constants\n",
    "from astropy import units as u\n",
    "import scipy.interpolate\n",
    "import math\n",
    "import matplotlib.pyplot as plt\n",
    "\n",
    "\n",
    "\"\"\"\n",
    "_______________________________________________________________________________________________\n",
    "\"\"\"\n",
    "\n",
    "class GrowthFunction:\n",
    "    def __init__(self, h=0.73, omega_m=0.27,omega_l=0.73):\n",
    "        self.omega_m0 = omega_m\n",
    "        self.omega_l0 = omega_l\n",
    "        self.H_0=((h*100*u.km*u.s**-1*u.Mpc**-1).to(u.Gyr**-1)).value\n",
    "        self.h=h\n",
    "    \n",
    "    \"\"\"\n",
    "    We need to create a growth factor function. Which depends on the cosmological model.\n",
    "    1) find the evolution of the densities\n",
    "    2) define the growth factor\n",
    "    \"\"\"\n",
    "\n",
    "    def Time(self, z):\n",
    "        return 2/3/(1+z)**(3/2)/self.H_0\n",
    "\n",
    "    #hubble\n",
    "    def E_of_z(self, redshift):\n",
    "        \"\"\"\n",
    "        E(z) which describe the evolution of H(z)=E(z)*H0\n",
    "        \"\"\"\n",
    "        Ez = (self.omega_l0 + (1.0 - self.omega_l0 \n",
    "            - self.omega_m0) * (1.0+redshift)**2 \n",
    "            + self.omega_m0 * (1.0+redshift)**3)**(1/2)\n",
    "\n",
    "        return Ez\n",
    "\n",
    "    #matter\n",
    "    def omega_mz(self,redshift):\n",
    "        return self.omega_m0 * (1.0+redshift)**3 / self.E_of_z(redshift)**2.0\n",
    "\n",
    "    #Vacuum\n",
    "    def omega_lz(self,redshift):\n",
    "        return self.omega_l0 / (self.E_of_z(redshift))**2\n",
    "\n",
    "    def g_of_z(self, redshift):\n",
    "        \"\"\"\n",
    "        growth linear factor\n",
    "        \"\"\"\n",
    "\n",
    "        gz = 2.5 * self.omega_mz(redshift) / (self.omega_mz(redshift)**(4/7) \n",
    "        - self.omega_lz(redshift) + ((1 + self.omega_mz(redshift)/2) \n",
    "        * (1 + self.omega_lz(redshift)/70)))\n",
    "\n",
    "        return gz\n",
    "\n",
    "    def D_of_z(self, redshift):\n",
    "        \"\"\"\n",
    "        growth function\n",
    "        \"\"\"\n",
    "        return self.g_of_z(redshift) / self.g_of_z(0.0) / (1.0+redshift)\n",
    "    \n",
    "    def Delta_c(self, redshift):\n",
    "        return 1.686/self.D_of_z(redshift)\n",
    "\n",
    "\n",
    "\"\"\"\n",
    "_______________________________________________________________________________________________\n",
    "\"\"\"\n",
    "\n",
    "class Overdensities:\n",
    "    \n",
    "    def __init__(self,redshift=0,h7=1.05,h=0.73,omega_m=0.27,omega_l=0.73, ns=0.95,sigma8=0.8,Nbins_Sigma=50,logmass_lim=(4, 20)):\n",
    "\n",
    "        if (h<=0.0):\n",
    "            raise ValueError(\"Overdensities(): Negative Hubble constant illegal.\\n\")\n",
    "        elif (h>2.0):\n",
    "            raise ValueError(\"Overdensities(): Reduced Hubble constant h should be in units of 100 km/s/Mpc.\\n\")\n",
    "        if (h7<=0.0):\n",
    "            raise ValueError(\"Overdensities(): Negative Hubble constant illegal.\\n\")\n",
    "        elif (h7>2.0):\n",
    "            raise ValueError(\"Overdensities(): Reduced Hubble constant h7 should be in units of 70 km/s/Mpc.\\n\")\n",
    "        if (redshift<=-1.0):\n",
    "            raise ValueError(\"Overdensities(): Redshift < -1 is illegal.\\n\")\n",
    "        elif (redshift>4000.0):\n",
    "            raise ValueError(\"Overdensities(): Large redshift entered.  TF may be inaccurate.\\n\")\n",
    "\n",
    "        Growth = GrowthFunction(omega_m = omega_m, omega_l = omega_l)\n",
    "\n",
    "        self.omega_m0 = omega_m\n",
    "        self.omega_l0 = omega_l\n",
    "        self.h7=h7\n",
    "        self.h=h\n",
    "        self.Nbins_Sigma = Nbins_Sigma\n",
    "        self.ns = ns\n",
    "        self.redshift = redshift\n",
    "        self.logmass_max = logmass_lim[1]\n",
    "        self.logmass_min = logmass_lim[0]\n",
    "        self.rho_0 = self.omega_m0 * 2.78e+11\n",
    "        self.rho_0 =133363631951.67577\n",
    "        #WMAP pivot scale\n",
    "        self.kpivot = 2e-3\n",
    "\n",
    "        self.D_of_z = Growth.D_of_z\n",
    "        self.g_of_z = Growth.g_of_z\n",
    "\n",
    "        #Normalization of the power spectrum\n",
    "        self.N=1\n",
    "        self.N=sigma8*sigma8 / (self.Sigma_of_R(self.TopHatFilter, 11.4))**2\n",
    "        \n",
    "\n",
    "        # output arrays\n",
    "        # Smother radius [Mpc/h]\n",
    "        self.R = np.empty(self.Nbins_Sigma,dtype='float64')\n",
    "        # mass (M_sun/h)\n",
    "        self.M = np.empty(self.Nbins_Sigma,dtype='float64')\n",
    "        self.logM = np.empty(self.Nbins_Sigma,dtype='float64')\n",
    "        #self.M = np.logspace(self.logmass_min, self.logmass_max, self.Nbins_Sigma)\n",
    "        # sigma(M, z=0, where mass is in [M_sun/h])\n",
    "        # array of sigma for three different filters\n",
    "        self.Sigmas = np.empty(3, dtype=object)\n",
    "        self.Sigmasz = np.empty(3, dtype=object)\n",
    "        self.interpolates = np.empty(3, dtype=object)\n",
    "\n",
    "        #we can initialize sigma(M) for the different filter to then interpolate\n",
    "        self.Filters = (self.TopHatFilter, self.GaussianFilter, self.KSharpFilter)\n",
    "        self.Ints = np.empty(3, dtype=object)\n",
    "\n",
    "        for i in range(3):\n",
    "\n",
    "            s, self.R = self.SigmaM_Array(self.Filters[i])\n",
    "            self.Sigma = s\n",
    "            self.Sigmas[i] = s\n",
    "            sz = self.SigmaM_of_z()\n",
    "            self.Sigmaz = sz\n",
    "            self.Sigmasz[i] = sz\n",
    "            interpolate = self.Interpolator()\n",
    "            self.interpolates[i] = interpolate\n",
    "            int = self.Sigma_of_M_and_z(self.M, interpolate)\n",
    "            self.Ints[i] = int\n",
    "\n",
    "    \"\"\"\n",
    "    Main function \n",
    "    Change filter if needed (self.GaussianFilter <-> self.KSharpFilter <-> self.TopHatFilter)\n",
    "    _______________________________________________________________________________________________\n",
    "    \"\"\"\n",
    "    def S(self, m):\n",
    "        s = np.vectorize(self.S_prep)\n",
    "        return s(m)\n",
    "\n",
    "    def S_Z(self, m, z):\n",
    "        sz = self.D_of_z(z)*self.S(m)\n",
    "        return sz\n",
    "\n",
    "    def S_Z_interpolate(self, m, z, interpolate):\n",
    "        return self.D_of_z(z)*interpolate(np.log10(m))\n",
    "\n",
    "\n",
    "    \"\"\"\n",
    "    _______________________________________________________________________________________________\n",
    "    \"\"\"\n",
    "\n",
    "    \n",
    "    def S_prep(self, m):\n",
    "        gamma_f, c = (2*np.pi)**(2/3), 0.643\n",
    "        R = c*(m/(gamma_f*self.rho_0))**(1/3)\n",
    "        s = integrate.quad(self.integrant, 0, np.inf, args=(R, self.GaussianFilter), epsrel=1e-2, limit=100)[0]\n",
    "        return (s/(2*np.pi**2))**(1/2)\n",
    "\n",
    "    def TransferFunction(self, k):\n",
    "        q=2.04/(self.omega_m0*self.h7**2)\n",
    "        return np.log(1+2.34*q*k)/(2.34*q*k*(1+3.89*q*k+(16.1*q*k)**2+(5.46*q*k)**3+(6.71*q*k)**4)**(1/4))\n",
    "    \n",
    "    def PowerSpectrum(self, k):\n",
    "        return self.N * self.TransferFunction(k)**2 * k * (k/self.kpivot)**(self.ns-1)\n",
    "    \n",
    "    \"\"\"\n",
    "    Now we define each filters. \n",
    "    Using the series expansion at low Rk make the integration more precised (for numerical integration).\n",
    "    \"\"\"\n",
    "\n",
    "    def TopHatFilter(self, x):\n",
    "        if x < 1e-2:\n",
    "            return 1-x**2/10+x**4/280\n",
    "            # return 1./3. - x**2/30. +x**4/840\n",
    "        else:\n",
    "            return 3/(x)**3*(np.sin(x)-x*np.cos(x))\n",
    "        \n",
    "    def GaussianFilter(self, x):\n",
    "        if x < 1e-2:\n",
    "            return 1-x**2/2+x**4/8\n",
    "        else:\n",
    "            return np.exp(-x**2/2)\n",
    "        \n",
    "    def KSharpFilter(self, x):\n",
    "        if x <= 1:\n",
    "            return 1\n",
    "        else:\n",
    "            return 0\n",
    "    \n",
    "    def integrant(self, k, R, Filter):\n",
    "        return k**2*self.PowerSpectrum(k)*Filter(k*R)**2\n",
    "    \n",
    "    def Sigma_of_R(self, Filter, R):\n",
    "\n",
    "        s2 = integrate.quad(self.integrant, 0, np.inf, args=(R, Filter), epsrel=1e-2, limit=100)[0]\n",
    "        \n",
    "        return (s2/(2*np.pi**2))**(1/2)\n",
    "\n",
    "    def Sigma_of_M(self, Filter, M):\n",
    "\n",
    "        if Filter == self.TopHatFilter:\n",
    "            gamma_f, c = 4*np.pi/3, 1\n",
    "        \n",
    "        elif Filter == self.GaussianFilter:\n",
    "            gamma_f, c = (2*np.pi)**(2/3), 0.643\n",
    "        \n",
    "        elif Filter == self.KSharpFilter:\n",
    "            gamma_f, c = 6*np.pi**2, 1\n",
    "\n",
    "        R = c*(M/(gamma_f*self.rho_0))**(1/3)\n",
    "\n",
    "        s = integrate.quad(self.integrant, 0, np.inf, args=(R, Filter,), epsrel=1e-2, limit=200)[0]\n",
    "\n",
    "        return (s/(2*np.pi**2))**(1/2), R\n",
    "    \n",
    "    def SigmaM_Array(self, Filter):\n",
    "        \n",
    "        s = np.empty(self.Nbins_Sigma, dtype='float64')\n",
    "        R = np.empty(self.Nbins_Sigma, dtype='float64')\n",
    "\n",
    "        dm = (self.logmass_max - self.logmass_min)/self.Nbins_Sigma\n",
    "\n",
    "        for i in range(self.Nbins_Sigma):\n",
    "\n",
    "            logM = self.logmass_min + i*dm\n",
    "\n",
    "            M = 10.0**logM\n",
    "\n",
    "            s[i], R[i]= self.Sigma_of_M(Filter, M)\n",
    "\n",
    "            self.M[i] = M\n",
    "\n",
    "            self.logM[i] = logM\n",
    "\n",
    "        return s, R\n",
    "\n",
    "\n",
    "    \"\"\"The final function is ready to be set up\"\"\"\n",
    "\n",
    "    def Interpolator(self):\n",
    "        return scipy.interpolate.InterpolatedUnivariateSpline(self.logM, self.Sigma)\n",
    "\n",
    "    def SigmaM_of_z(self):\n",
    "        sz = self.D_of_z(self.redshift)*self.Sigma\n",
    "        return sz\n",
    "\n",
    "    def Sigma_of_M_and_z(self, M, interpolate):\n",
    "        return self.D_of_z(self.redshift)*interpolate(np.log10(M))\n",
    "\n",
    "\"\"\"\n",
    "_______________________________________________________________________________________________\n",
    "\"\"\"\n",
    "\n",
    "class HaloMassFunction:\n",
    "\n",
    "    def __init__(self, redshift, omega_m=0.27, omega_l=0.73, h=1.05, ns=0.95, sigma8=0.8, mass_function=None, Nbins=50, logmass_lim=(6, 20)):\n",
    "        self.overden = Overdensities(redshift, omega_m=omega_m, omega_l=omega_l, h=h, ns=ns, sigma8=sigma8, Nbins_Sigma=Nbins, logmass_lim=logmass_lim)\n",
    "        self.logM=self.overden.logM\n",
    "        self.M = self.overden.M\n",
    "        self.interpolates=self.overden.interpolates\n",
    "\n",
    "        if mass_function == None:\n",
    "            self.mass_function = self.press_schechter\n",
    "        else:\n",
    "            self.mass_function = mass_function.__get__(self)\n",
    "\n",
    "        self.redshift = redshift\n",
    "        Growth = GrowthFunction(omega_m=omega_m, omega_l=omega_l)\n",
    "\n",
    "        self.Delta_c = Growth.Delta_c\n",
    "\n",
    "        self.S = self.overden.S\n",
    "\n",
    "        self.dndms=np.empty(3, dtype=object)\n",
    "\n",
    "        for i in range(3):\n",
    "\n",
    "            dndm=self.dndm_gen(self.M, self.interpolates[i])\n",
    "\n",
    "            self.dndms[i] = dndm\n",
    "\n",
    "    \"\"\"\n",
    "    Main function \n",
    "    _______________________________________________________________________________________________\n",
    "    \"\"\"\n",
    "    def IMF(self, m, z):\n",
    "        \"\"\"Returns the halo mass function dn/dM in units of h^4 M_sun^-1 Mpc^-3\n",
    "        Requires mass in units of M_sun /h \"\"\"\n",
    "        # Mean matter density at redshift z in units of h^2 Msolar/Mpc^3\n",
    "        #This is rho_c in units of h^-1 M_sun (Mpc/h)^-3\n",
    "        rho_0 = self.overden.rho_0 #self.overden.omega_matter_of_z(self.overden.redshift)\n",
    "\n",
    "        dlogsigma, sigma = self.logderivative(m)\n",
    "        mass_func = self.press_schechter_z(sigma, z)\n",
    "        \n",
    "        IMF = np.abs(dlogsigma)*mass_func/m*rho_0\n",
    "\n",
    "        return IMF\n",
    "    \"\"\"\n",
    "    _______________________________________________________________________________________________\n",
    "    \"\"\"\n",
    "\n",
    "    def logderivative(self, M):\n",
    "        sigma = self.S(M)\n",
    "        sigma_plus = self.S(M**1.001)\n",
    "        return (np.log(sigma_plus*sigma_plus)-np.log(sigma*sigma))/np.log(0.001*M), sigma\n",
    "\n",
    "    def logderivative_filter(self, M, interpolate):\n",
    "        sigma = interpolate(np.log10(M))\n",
    "        sigma_plus = interpolate(1.1*np.log10(M))\n",
    "        return (np.log(sigma_plus*sigma_plus)-np.log(sigma*sigma))/np.log(0.1*M), sigma\n",
    "        \n",
    "    \n",
    "    def dndm_gen(self, M, interpolate):\n",
    "        \"\"\"Returns the halo mass function dn/dM in units of h^4 M_sun^-1 Mpc^-3\n",
    "        Requires mass in units of M_sun /h \"\"\"\n",
    "        # Mean matter density at redshift z in units of h^2 Msolar/Mpc^3\n",
    "        #This is rho_c in units of h^-1 M_sun (Mpc/h)^-3\n",
    "        rho_0 = self.overden.rho_0 #self.overden.omega_matter_of_z(self.overden.redshift)\n",
    "\n",
    "        dlogsigma, sigma = self.logderivative_filter(M, interpolate)\n",
    "        mass_func = self.mass_function(sigma)\n",
    "        \n",
    "        dndM =  np.abs(dlogsigma)*mass_func/M*rho_0\n",
    "\n",
    "        return dndM\n",
    "\n",
    "    def press_schechter_z(self, sigma, z):\n",
    "        \"\"\"Press-Schechter (This form Lacey and Cole eq. 2.11 1993)\"\"\"\n",
    "        nu = self.Delta_c(z) / sigma\n",
    "        return np.sqrt(1/2*np.pi) * nu * np.exp(-0.5*nu*nu)\n",
    "\n",
    "    def press_schechter(self, sigma):\n",
    "        \"\"\"Press-Schechter (This form Lacey and Cole eq. 2.11 1993)\"\"\"\n",
    "        nu = self.Delta_c(self.redshift) / sigma\n",
    "        return np.sqrt(1/2*np.pi) * nu * np.exp(-0.5*nu*nu)\n",
    "\n",
    "    def sheth_tormen(self, sigma):\n",
    "        \"\"\"Sheth-Tormen 1999, eq. 6\"\"\"\n",
    "        nu = self.Delta_c(self.redshift) / sigma\n",
    "        A=0.3222\n",
    "        a=0.707\n",
    "        p=0.3\n",
    "        return A*np.sqrt(2.0*a/math.pi)*(1.0+ np.power( 1.0/(nu*nu*a), p) )*  nu * np.exp(-0.5*a*nu*nu)\n",
    "\n",
    "    def warren(self, sigma):\n",
    "        \"\"\"LANL fitting function - Warren et al. 2005, astro-ph/0506395, eqtn. 5 \"\"\"\n",
    "        A = 0.7234\n",
    "        a = 1.625\n",
    "        b = 0.2538\n",
    "        c = 1.1982\n",
    "        return A*( np.power(sigma, -1.0*a) + b)*np.exp(-1.0*c / sigma / sigma )\n",
    "\n",
    "    def watson_FOF(self, sigma):\n",
    "        \"\"\"Watson 2012, eq. 12\"\"\"\n",
    "        A = 0.282\n",
    "        a = 2.163\n",
    "        b = 1.406\n",
    "        c = 1.210\n",
    "        return A*( np.power(b / sigma, 1.0*a) + 1)*np.exp(-1.0*c / sigma / sigma )\n",
    "\n",
    "\"\"\"\n",
    "_______________________________________________________________________________________________\n",
    "\"\"\"\n",
    "\n",
    "\n",
    "class MergerRate:\n",
    "    def __init__(self, redshift, redshift_lim = (0, 12), M_1=5e13, omega_m=0.27, omega_l=0.73, h=0.73, ns=0.95, sigma8=0.8, Nbins=50, logmass_lim=(6, 20)):\n",
    "        self.omega_m0 = omega_m\n",
    "        self.omega_l0 = omega_l\n",
    "        self.logmass_lim = logmass_lim\n",
    "        self.sigma8 = sigma8\n",
    "        self.h=h\n",
    "        self.Nbins = Nbins\n",
    "        self.ns = ns\n",
    "        self.redshift = redshift\n",
    "        self.logmass_max = logmass_lim[1]\n",
    "        self.logmass_min = logmass_lim[0]\n",
    "        self.rho_0 = self.omega_m0 * 2.78e+11\n",
    "        self.M_1=M_1\n",
    "        self.redshift_max_lim = redshift_lim[1]\n",
    "        self.redshift_min_lim = redshift_lim[0]\n",
    "        #self.rho_0 =133363631951.67577\n",
    "\n",
    "\n",
    "        self.HMF = HaloMassFunction(redshift, omega_m=omega_m, omega_l=omega_l, h=h, ns=ns, sigma8=sigma8, Nbins=Nbins, logmass_lim=logmass_lim)\n",
    "    \n",
    "        Growth = GrowthFunction(omega_m=omega_m, omega_l=omega_l)\n",
    "\n",
    "        self.Delta_c = Growth.Delta_c\n",
    "        self.Time = Growth.Time\n",
    "\n",
    "        overden = Overdensities(0, omega_m=self.omega_m0, omega_l=self.omega_l0, h=self.h, ns=self.ns, sigma8=self.sigma8, \n",
    "        Nbins_Sigma = self.Nbins, logmass_lim=self.logmass_lim)\n",
    "\n",
    "        self.S=overden.S\n",
    "\n",
    "\n",
    "\n",
    "    \"\"\"Create a merger rate at a fixed final mass in terms of the redshift\"\"\"\n",
    "\n",
    "    def MergerRate_M_Z(self, M2, M1, Z):\n",
    "\n",
    "        der, sigma2 = self.logderivative(M2)\n",
    "        sigma1 = self.S(M1)\n",
    "\n",
    "        MR = M2/(2*np.pi)**(1/2)*np.abs(2/3*self.Delta_c(Z)/self.Time(Z)*der)*((sigma1/sigma2)**2/(sigma1**2-sigma2**2))**(3/2)*np.exp(-0.5*self.Delta_c(Z)**2*(1/sigma2**2-1/sigma1**2))\n",
    "\n",
    "        return MR\n",
    "    \n",
    "    def MergerRate_M_Z2(self, M2, M1, Z):\n",
    "\n",
    "        interpolate = self.overden.interpolates[1]\n",
    "\n",
    "        der, sigma2 = self.derivative2(M2, interpolate)\n",
    "        sigma1 = interpolate(np.log10(M1))\n",
    "\n",
    "        MR = M2/(2*np.pi)**(1/2)*np.abs(2/3*self.Delta_c(Z)/self.Time(Z)*der)*((sigma1/sigma2)**2/(sigma1**2-sigma2**2))**(3/2)*np.exp(-0.5*self.Delta_c(Z)**2*(1/sigma2**2-1/sigma1**2))\n",
    "\n",
    "        return MR\n",
    "    \n",
    "    def MR_Sommerville(self, M1, z1, M0, z0):\n",
    "        f=1/np.sqrt(2*np.pi)*(self.Delta_c(z1)-self.Delta_c(z0))/(self.S(M1)-self.S(M0))**(3/2)*np.exp((self.Delta_c(z1)-self.Delta_c(z0))**2/(2*self.S(M1)-2*self.S(M0)))\n",
    "        return M0/M1*f*np.abs(self.logderivative(M0)[0])\n",
    "\n",
    "\n",
    "    \"\"\"Create a merger rate at a fixed redshift in terms of the mass\"\"\"\n",
    "    def MergerRate_of_M2(self):\n",
    "        \n",
    "        overden = Overdensities(self.redshift, omega_m=self.omega_m0, omega_l=self.omega_l0, h=self.h, ns=self.ns, sigma8=self.sigma8, \n",
    "        Nbins_Sigma = self.Nbins, logmass_lim=self.logmass_lim)\n",
    "\n",
    "        interpolate = overden.interpolates[1]\n",
    "\n",
    "        DeltaM = np.empty(self.Nbins, dtype=object)\n",
    "        LogdeltaM = np.empty(self.Nbins, dtype=object)\n",
    "\n",
    "        MR = np.empty(self.Nbins, dtype=object)\n",
    "\n",
    "        logDMmin = -2\n",
    "        logDMmax = 2\n",
    "        sigma1 = interpolate(np.log10(self.M_1))\n",
    "        dlogm = (logDMmax-logDMmin)/self.Nbins\n",
    "\n",
    "        for i in range(self.Nbins):\n",
    "\n",
    "            thislogDM = logDMmin + i*dlogm\n",
    "            thisDM = 10**(thislogDM)*self.M_1\n",
    "            thisM2 = thisDM + self.M_1\n",
    "\n",
    "            der , sigma2 = self.logderivative2(thisM2, interpolate)\n",
    "\n",
    "            MR[i] = 3/1e-3*(2/np.pi)**(1/2)/self.Time(self.redshift)*2/3*thisDM/thisM2*np.abs(der)*self.Delta_c(self.redshift)/sigma2/(1-(sigma2/sigma1)**2)**(3/2)*np.exp(-0.5*self.Delta_c(self.redshift)**2*(1/sigma2**2-1/sigma1**2))\n",
    "            DeltaM[i] = thisDM\n",
    "            LogdeltaM[i] = thislogDM\n",
    "\n",
    "        return MR, DeltaM, LogdeltaM\n",
    "\n",
    "    def logderivative(self, M):\n",
    "        sigma = self.S(M)\n",
    "        sigma_plus = self.S(1.00000000001*M)\n",
    "        return (sigma_plus*sigma_plus-sigma*sigma)/(0.00000000001*M), sigma\n",
    "\n",
    "            \n",
    "    def logderivative2(self, M, interpolate):\n",
    "        sigma = interpolate(np.log10(M))\n",
    "        sigma_plus = interpolate(np.log10(1.1*M))\n",
    "        return (np.log(sigma_plus)-np.log(sigma))/np.log(0.1*M), sigma\n",
    "    \n",
    "    def derivative2(self, M, interpolate):\n",
    "        sigma = interpolate(np.log10(M))\n",
    "        sigma_plus = interpolate(np.log10(1.00000000001*M))\n",
    "        return (sigma_plus*sigma_plus-sigma*sigma)/(0.00000000001*M), sigma\n",
    "    \n",
    "    def Delta_c_derivative(self, z):\n",
    "        DT = self.Delta_c(z)\n",
    "        DTplus = self.Delta_c(1.0001*z)\n",
    "        return (DTplus-DT)/0.0001*z"
   ]
  },
  {
   "cell_type": "code",
   "execution_count": 5,
   "metadata": {},
   "outputs": [
    {
     "data": {
      "text/plain": [
       "0.6989700043360189"
      ]
     },
     "execution_count": 5,
     "metadata": {},
     "output_type": "execute_result"
    }
   ],
   "source": [
    "np.log10(5)"
   ]
  },
  {
   "cell_type": "code",
   "execution_count": 6,
   "metadata": {},
   "outputs": [
    {
     "name": "stderr",
     "output_type": "stream",
     "text": [
      "<ipython-input-4-9953278ae2a5>:227: IntegrationWarning: The integral is probably divergent, or slowly convergent.\n",
      "  s = integrate.quad(self.integrant, 0, np.inf, args=(R, Filter,), epsrel=1e-2, limit=200)[0]\n",
      "<ipython-input-4-9953278ae2a5>:438: RuntimeWarning: divide by zero encountered in true_divide\n",
      "  f=1/np.sqrt(2*np.pi)*(self.Delta_c(z1)-self.Delta_c(z0))/(self.S(M1)-self.S(M0))**(3/2)*np.exp((self.Delta_c(z1)-self.Delta_c(z0))**2/(2*self.S(M1)-2*self.S(M0)))\n"
     ]
    }
   ],
   "source": [
    "MR =MergerRate(0)\n",
    "mp = np.logspace(0, 2, 100)\n",
    "P = MR.MR_Sommerville(1e14/mp, 0.2, 1e14, 0)"
   ]
  },
  {
   "cell_type": "code",
   "execution_count": 7,
   "metadata": {},
   "outputs": [
    {
     "data": {
      "image/png": "[encoded data removed]",
      "text/plain": [
       "<Figure size 432x288 with 1 Axes>"
      ]
     },
     "metadata": {
      "needs_background": "light"
     },
     "output_type": "display_data"
    }
   ],
   "source": [
    "plt.plot(mp, P)\n",
    "plt.yscale('log')\n",
    "plt.xscale('log')"
   ]
  },
  {
   "cell_type": "code",
   "execution_count": 8,
   "metadata": {},
   "outputs": [],
   "source": [
    "from scipy.stats import norm\n",
    "class MergerTree:\n",
    "\n",
    "    def __init__(self, omega_m=0.27, omega_l=0.73, h=0.73, ns=0.95, sigma8=0.8):\n",
    "        self.omega_m0 = omega_m\n",
    "        self.omega_l0 = omega_l\n",
    "        self.sigma8 = sigma8\n",
    "        self.h = h\n",
    "        self.ns = ns\n",
    "        self.rho_0 = self.omega_m0 * 2.78e+11\n",
    "\n",
    "        self.overdensity = Overdensities(0, omega_l=omega_l, omega_m=omega_m, h=h, sigma8=sigma8, ns=ns)\n",
    "        self.MergerRate = MergerRate(0, omega_l=omega_l, omega_m=omega_m, ns=ns, h=h, sigma8=sigma8)\n",
    "        self.Growth = GrowthFunction(omega_m=omega_m, omega_l=omega_l, h=h)\n",
    "\n",
    "        self.sigma = self.overdensity.S\n",
    "        self.Delta_c = self.Growth.Delta_c\n",
    "\n",
    "        m = np.logspace(0, 16, 1000)\n",
    "        sig = self.sigma(m)\n",
    "        int = scipy.interpolate.InterpolatedUnivariateSpline(m, sig)\n",
    "        self.sigma_int = np.vectorize(int)\n",
    "\n",
    "    def MT_Routine(self, M0, z0, z_m):\n",
    "\n",
    "        Ms = []\n",
    "        DM=M0\n",
    "        # Ml = 10**(np.log10(M0)-4)\n",
    "        \n",
    "        Ml=10**4\n",
    "        \n",
    "        i=0\n",
    "\n",
    "        while DM>Ml:\n",
    "            \n",
    "            # Ml = 10**(np.log10(DM)-4)\n",
    "            # sigma_c = self.Delta_c(z_m)\n",
    "            # M_c = self.M_finder(sigma_c**(-3/2)*DM, sigma_c)\n",
    "\n",
    "            # domegaC = 0.8+0.3*np.log10(DM/Ml)*self.OmegaStep(DM, DM-M_c)\n",
    "\n",
    "            domegaC = self.Delta_c(z_m)-self.Delta_c(z0)\n",
    "\n",
    "            M = self.M_picker(DM, domegaC)\n",
    "\n",
    "            DM=DM-M\n",
    "\n",
    "            if M>Ml:\n",
    "                Ms.append(M)\n",
    "                i+=1\n",
    "                \n",
    "            if i==2:\n",
    "                break\n",
    "            \n",
    "        # M_acc = M_and_z[0]-np.sum(np.array(Ms))\n",
    "\n",
    "        return Ms\n",
    "\n",
    "\n",
    "    def M_picker(self, M0, domega):\n",
    "\n",
    "        i=0\n",
    "\n",
    "        while i<1:\n",
    "            \n",
    "            # domega = np.random.uniform(0, domega)\n",
    "\n",
    "            x_output = np.abs(np.random.normal(0,1))\n",
    "\n",
    "            dS = (domega/(2*x_output))**2\n",
    "            \n",
    "            if dS<(domega/2)**2:\n",
    "                i+=1\n",
    "\n",
    "        S = self.sigma(M0)**2+dS\n",
    "\n",
    "        return self.M_finder(M0, S)\n",
    "    \n",
    "    # def Delta_Z(self, num_points):\n",
    "\n",
    "    #     z = np.linspace(10, 30, 100)\n",
    "    #     y = self.Delta_c(z)\n",
    "    #     z_int = scipy.interpolate.interp1d(y, z)\n",
    "    #     y_interp = np.linspace(y[0], y[-1], num_points)\n",
    "\n",
    "    #     return z_int(y_interp)\n",
    "\n",
    "\n",
    "    def M_finder(self, M0, S):\n",
    "        return float(scipy.optimize.fsolve(self.S_for_M, M0, args=S))\n",
    "        \n",
    "    def S_for_M(self, M, S):\n",
    "        return self.sigma_int(M)**2-S\n",
    "    \n",
    "    def derivative(self, M):\n",
    "        sigma = self.sigma(M)\n",
    "        sigma_plus = self.sigma(1.000000001*M)\n",
    "        return (sigma_plus*sigma_plus-sigma*sigma)/(0.000000001*M)\n",
    "    \n",
    "    def z_finder(self, z_0, domega):\n",
    "        Df = self.Delta_c(z_0)+domega\n",
    "        return float(scipy.optimize.fsolve(self.Delta_c_for_z, z_0, args=Df))\n",
    "\n",
    "    def Delta_c_for_z(self, z, D_z_f):\n",
    "        return self.Delta_c(z)-D_z_f\n",
    "\n",
    "    def OmegaStep(self, M0, dMc):\n",
    "        return np.sqrt(np.abs(self.derivative(M0))*dMc)"
   ]
  },
  {
   "cell_type": "code",
   "execution_count": 9,
   "metadata": {},
   "outputs": [
    {
     "name": "stderr",
     "output_type": "stream",
     "text": [
      "<ipython-input-4-9953278ae2a5>:227: IntegrationWarning: The integral is probably divergent, or slowly convergent.\n",
      "  s = integrate.quad(self.integrant, 0, np.inf, args=(R, Filter,), epsrel=1e-2, limit=200)[0]\n"
     ]
    }
   ],
   "source": [
    "z=np.linspace(0, 30, 100)\n",
    "MT = MergerTree()\n",
    "sigma_star = MT.Delta_c(z)/3\n",
    "M = np.zeros(len(z))\n",
    "for i in range(len(M)):\n",
    "    M[i] = np.log10(MT.M_finder(10**(4), sigma_star[i]))\n"
   ]
  },
  {
   "cell_type": "code",
   "execution_count": 10,
   "metadata": {},
   "outputs": [
    {
     "data": {
      "text/plain": [
       "[<matplotlib.lines.Line2D at 0x7fdd557afdf0>]"
      ]
     },
     "execution_count": 10,
     "metadata": {},
     "output_type": "execute_result"
    },
    {
     "data": {
      "image/png": "[encoded data removed]",
      "text/plain": [
       "<Figure size 432x288 with 1 Axes>"
      ]
     },
     "metadata": {
      "needs_background": "light"
     },
     "output_type": "display_data"
    }
   ],
   "source": [
    "z=np.linspace(0, 30,100)\n",
    "plt.plot(z, MT.Delta_c(z))"
   ]
  },
  {
   "cell_type": "code",
   "execution_count": 11,
   "metadata": {},
   "outputs": [
    {
     "data": {
      "text/plain": [
       "array(10.36491526)"
      ]
     },
     "execution_count": 11,
     "metadata": {},
     "output_type": "execute_result"
    }
   ],
   "source": [
    "MT.sigma(10**4)"
   ]
  },
  {
   "cell_type": "code",
   "execution_count": 12,
   "metadata": {},
   "outputs": [
    {
     "data": {
      "text/plain": [
       "(0.0, 30.0)"
      ]
     },
     "execution_count": 12,
     "metadata": {},
     "output_type": "execute_result"
    },
    {
     "data": {
      "image/png": "[encoded data removed]",
      "text/plain": [
       "<Figure size 432x288 with 1 Axes>"
      ]
     },
     "metadata": {
      "needs_background": "light"
     },
     "output_type": "display_data"
    }
   ],
   "source": [
    "plt.plot(M, z)\n",
    "plt.xlim(4, 15)\n",
    "plt.ylim(0, 30)"
   ]
  },
  {
   "cell_type": "code",
   "execution_count": 13,
   "metadata": {},
   "outputs": [
    {
     "name": "stderr",
     "output_type": "stream",
     "text": [
      "<ipython-input-4-9953278ae2a5>:227: IntegrationWarning: The integral is probably divergent, or slowly convergent.\n",
      "  s = integrate.quad(self.integrant, 0, np.inf, args=(R, Filter,), epsrel=1e-2, limit=200)[0]\n"
     ]
    },
    {
     "name": "stdout",
     "output_type": "stream",
     "text": [
      "[666799836234.661, 235249881081.93265]\n",
      "1.4231438636779785\n",
      "[608808104165.5233, 361129717029.6036]\n",
      "1.4261927604675293\n",
      "[598346913282.7728, 359195922003.81854]\n",
      "1.429947853088379\n",
      "[841820637390.0193, 124674488787.36302]\n",
      "1.4347891807556152\n",
      "[789500581154.2634, 196116555044.2589]\n",
      "1.4402170181274414\n",
      "[840407225672.5293, 140760907045.7033]\n",
      "1.4432709217071533\n",
      "[942668617799.9976, 52578583075.22177]\n",
      "1.448157787322998\n",
      "[773022772228.0583, 157183682318.76395]\n",
      "1.451319932937622\n",
      "[866580105602.8552, 112183298165.9176]\n",
      "1.4880318641662598\n",
      "[853431782093.8643, 102059162607.3577]\n",
      "1.507131814956665\n",
      "[892327538125.0645, 88020785161.74385]\n",
      "1.5109128952026367\n",
      "[674939465530.6313, 250650052797.56705]\n",
      "1.5144259929656982\n",
      "[824817343264.7347, 151582911182.15744]\n",
      "1.5208728313446045\n",
      "[799668704949.1918, 151360939763.30084]\n",
      "1.5282008647918701\n",
      "[888081390072.6669, 107178117310.31783]\n",
      "1.5336418151855469\n",
      "[816525273361.0884, 129120996136.24368]\n",
      "1.5385448932647705\n",
      "[593985901126.6125, 255317422777.79758]\n",
      "1.5416319370269775\n",
      "[628851477197.9905, 248630339706.8456]\n",
      "1.544687032699585\n",
      "[802930921042.0712, 158323548325.54205]\n",
      "1.5482759475708008\n",
      "[655899442289.2498, 258450862309.14734]\n",
      "1.5519349575042725\n"
     ]
    }
   ],
   "source": [
    "import time \n",
    "t0 = time.time()\n",
    "MT = MergerTree()\n",
    "for i in range(20):\n",
    "    Ms = MT.MT_Routine(1e12, 10, 11.5)\n",
    "    # print(np.sum(Ms)+M_acc)\n",
    "    print(Ms)\n",
    "    print(time.time()-t0)"
   ]
  },
  {
   "cell_type": "code",
   "execution_count": 14,
   "metadata": {},
   "outputs": [],
   "source": [
    "from itertools import chain\n",
    "\n",
    "mfinder = np.vectorize(MT.M_finder)"
   ]
  },
  {
   "cell_type": "code",
   "execution_count": 15,
   "metadata": {},
   "outputs": [],
   "source": [
    "n_halos=1000\n",
    "\n",
    "Halos =[4.14192626e+04, 1.30983541e+04, 2.34212951e+06, 2.70304337e+05,\n",
    "       4.25275348e+06, 1.55697850e+05, 5.95238475e+05, 8.64868135e+05,\n",
    "       2.40002323e+09, 8.58108271e+04, 6.30215097e+06, 5.16754663e+04,\n",
    "       3.65909688e+07, 2.56068476e+04, 2.73310120e+05, 9.01183149e+04,\n",
    "       5.27713252e+05, 1.71776023e+06, 1.35785260e+07, 6.64251958e+04,\n",
    "       5.26413919e+05, 5.00285807e+04, 7.14737891e+07, 3.11841808e+04,\n",
    "       4.35671325e+06, 3.27777166e+05, 1.69701085e+04, 5.59917758e+05,\n",
    "       2.35281701e+04, 4.08792949e+08, 5.85657292e+05, 1.76794568e+06,\n",
    "       4.88613040e+06, 6.15386295e+08, 1.17603503e+05, 1.91157216e+04,\n",
    "       7.16393453e+06, 8.43446419e+04, 2.48967080e+06, 1.18024885e+04]"
   ]
  },
  {
   "cell_type": "code",
   "execution_count": 16,
   "metadata": {},
   "outputs": [
    {
     "name": "stderr",
     "output_type": "stream",
     "text": [
      "<ipython-input-4-9953278ae2a5>:227: IntegrationWarning: The integral is probably divergent, or slowly convergent.\n",
      "  s = integrate.quad(self.integrant, 0, np.inf, args=(R, Filter,), epsrel=1e-2, limit=200)[0]\n"
     ]
    }
   ],
   "source": [
    "HIMF=HaloMassFunction(0)\n",
    "m = np.logspace(4, 10, 100)"
   ]
  },
  {
   "cell_type": "code",
   "execution_count": 17,
   "metadata": {},
   "outputs": [],
   "source": [
    "def halo_PDF_norm(z):\n",
    "    return integrate.quad(HIMF.IMF, 10**3, 10**10, args=(z), epsrel=1e-4, limit=1000)[0]"
   ]
  },
  {
   "cell_type": "code",
   "execution_count": 18,
   "metadata": {},
   "outputs": [
    {
     "ename": "KeyboardInterrupt",
     "evalue": "",
     "output_type": "error",
     "traceback": [
      "\u001b[0;31m---------------------------------------------------------------------------\u001b[0m",
      "\u001b[0;31mKeyboardInterrupt\u001b[0m                         Traceback (most recent call last)",
      "\u001b[0;32m<ipython-input-18-09d56dcf32a3>\u001b[0m in \u001b[0;36m<module>\u001b[0;34m\u001b[0m\n\u001b[0;32m----> 1\u001b[0;31m \u001b[0mHimf_10\u001b[0m \u001b[0;34m=\u001b[0m \u001b[0mHIMF\u001b[0m\u001b[0;34m.\u001b[0m\u001b[0mIMF\u001b[0m\u001b[0;34m(\u001b[0m\u001b[0mm\u001b[0m\u001b[0;34m,\u001b[0m \u001b[0;36m10\u001b[0m\u001b[0;34m)\u001b[0m\u001b[0;34m/\u001b[0m\u001b[0mhalo_PDF_norm\u001b[0m\u001b[0;34m(\u001b[0m\u001b[0;36m10\u001b[0m\u001b[0;34m)\u001b[0m\u001b[0;34m\u001b[0m\u001b[0;34m\u001b[0m\u001b[0m\n\u001b[0m",
      "\u001b[0;32m<ipython-input-17-88f75843171e>\u001b[0m in \u001b[0;36mhalo_PDF_norm\u001b[0;34m(z)\u001b[0m\n\u001b[1;32m      1\u001b[0m \u001b[0;32mdef\u001b[0m \u001b[0mhalo_PDF_norm\u001b[0m\u001b[0;34m(\u001b[0m\u001b[0mz\u001b[0m\u001b[0;34m)\u001b[0m\u001b[0;34m:\u001b[0m\u001b[0;34m\u001b[0m\u001b[0;34m\u001b[0m\u001b[0m\n\u001b[0;32m----> 2\u001b[0;31m     \u001b[0;32mreturn\u001b[0m \u001b[0mintegrate\u001b[0m\u001b[0;34m.\u001b[0m\u001b[0mquad\u001b[0m\u001b[0;34m(\u001b[0m\u001b[0mHIMF\u001b[0m\u001b[0;34m.\u001b[0m\u001b[0mIMF\u001b[0m\u001b[0;34m,\u001b[0m \u001b[0;36m10\u001b[0m\u001b[0;34m**\u001b[0m\u001b[0;36m3\u001b[0m\u001b[0;34m,\u001b[0m \u001b[0;36m10\u001b[0m\u001b[0;34m**\u001b[0m\u001b[0;36m10\u001b[0m\u001b[0;34m,\u001b[0m \u001b[0margs\u001b[0m\u001b[0;34m=\u001b[0m\u001b[0;34m(\u001b[0m\u001b[0mz\u001b[0m\u001b[0;34m)\u001b[0m\u001b[0;34m,\u001b[0m \u001b[0mepsrel\u001b[0m\u001b[0;34m=\u001b[0m\u001b[0;36m1e-4\u001b[0m\u001b[0;34m,\u001b[0m \u001b[0mlimit\u001b[0m\u001b[0;34m=\u001b[0m\u001b[0;36m1000\u001b[0m\u001b[0;34m)\u001b[0m\u001b[0;34m[\u001b[0m\u001b[0;36m0\u001b[0m\u001b[0;34m]\u001b[0m\u001b[0;34m\u001b[0m\u001b[0;34m\u001b[0m\u001b[0m\n\u001b[0m",
      "\u001b[0;32m~/opt/anaconda3/lib/python3.8/site-packages/scipy/integrate/quadpack.py\u001b[0m in \u001b[0;36mquad\u001b[0;34m(func, a, b, args, full_output, epsabs, epsrel, limit, points, weight, wvar, wopts, maxp1, limlst)\u001b[0m\n\u001b[1;32m    349\u001b[0m \u001b[0;34m\u001b[0m\u001b[0m\n\u001b[1;32m    350\u001b[0m     \u001b[0;32mif\u001b[0m \u001b[0mweight\u001b[0m \u001b[0;32mis\u001b[0m \u001b[0;32mNone\u001b[0m\u001b[0;34m:\u001b[0m\u001b[0;34m\u001b[0m\u001b[0;34m\u001b[0m\u001b[0m\n\u001b[0;32m--> 351\u001b[0;31m         retval = _quad(func, a, b, args, full_output, epsabs, epsrel, limit,\n\u001b[0m\u001b[1;32m    352\u001b[0m                        points)\n\u001b[1;32m    353\u001b[0m     \u001b[0;32melse\u001b[0m\u001b[0;34m:\u001b[0m\u001b[0;34m\u001b[0m\u001b[0;34m\u001b[0m\u001b[0m\n",
      "\u001b[0;32m~/opt/anaconda3/lib/python3.8/site-packages/scipy/integrate/quadpack.py\u001b[0m in \u001b[0;36m_quad\u001b[0;34m(func, a, b, args, full_output, epsabs, epsrel, limit, points)\u001b[0m\n\u001b[1;32m    461\u001b[0m     \u001b[0;32mif\u001b[0m \u001b[0mpoints\u001b[0m \u001b[0;32mis\u001b[0m \u001b[0;32mNone\u001b[0m\u001b[0;34m:\u001b[0m\u001b[0;34m\u001b[0m\u001b[0;34m\u001b[0m\u001b[0m\n\u001b[1;32m    462\u001b[0m         \u001b[0;32mif\u001b[0m \u001b[0minfbounds\u001b[0m \u001b[0;34m==\u001b[0m \u001b[0;36m0\u001b[0m\u001b[0;34m:\u001b[0m\u001b[0;34m\u001b[0m\u001b[0;34m\u001b[0m\u001b[0m\n\u001b[0;32m--> 463\u001b[0;31m             \u001b[0;32mreturn\u001b[0m \u001b[0m_quadpack\u001b[0m\u001b[0;34m.\u001b[0m\u001b[0m_qagse\u001b[0m\u001b[0;34m(\u001b[0m\u001b[0mfunc\u001b[0m\u001b[0;34m,\u001b[0m\u001b[0ma\u001b[0m\u001b[0;34m,\u001b[0m\u001b[0mb\u001b[0m\u001b[0;34m,\u001b[0m\u001b[0margs\u001b[0m\u001b[0;34m,\u001b[0m\u001b[0mfull_output\u001b[0m\u001b[0;34m,\u001b[0m\u001b[0mepsabs\u001b[0m\u001b[0;34m,\u001b[0m\u001b[0mepsrel\u001b[0m\u001b[0;34m,\u001b[0m\u001b[0mlimit\u001b[0m\u001b[0;34m)\u001b[0m\u001b[0;34m\u001b[0m\u001b[0;34m\u001b[0m\u001b[0m\n\u001b[0m\u001b[1;32m    464\u001b[0m         \u001b[0;32melse\u001b[0m\u001b[0;34m:\u001b[0m\u001b[0;34m\u001b[0m\u001b[0;34m\u001b[0m\u001b[0m\n\u001b[1;32m    465\u001b[0m             \u001b[0;32mreturn\u001b[0m \u001b[0m_quadpack\u001b[0m\u001b[0;34m.\u001b[0m\u001b[0m_qagie\u001b[0m\u001b[0;34m(\u001b[0m\u001b[0mfunc\u001b[0m\u001b[0;34m,\u001b[0m\u001b[0mbound\u001b[0m\u001b[0;34m,\u001b[0m\u001b[0minfbounds\u001b[0m\u001b[0;34m,\u001b[0m\u001b[0margs\u001b[0m\u001b[0;34m,\u001b[0m\u001b[0mfull_output\u001b[0m\u001b[0;34m,\u001b[0m\u001b[0mepsabs\u001b[0m\u001b[0;34m,\u001b[0m\u001b[0mepsrel\u001b[0m\u001b[0;34m,\u001b[0m\u001b[0mlimit\u001b[0m\u001b[0;34m)\u001b[0m\u001b[0;34m\u001b[0m\u001b[0;34m\u001b[0m\u001b[0m\n",
      "\u001b[0;32m<ipython-input-4-9953278ae2a5>\u001b[0m in \u001b[0;36mIMF\u001b[0;34m(self, m, z)\u001b[0m\n\u001b[1;32m    306\u001b[0m         \u001b[0mrho_0\u001b[0m \u001b[0;34m=\u001b[0m \u001b[0mself\u001b[0m\u001b[0;34m.\u001b[0m\u001b[0moverden\u001b[0m\u001b[0;34m.\u001b[0m\u001b[0mrho_0\u001b[0m \u001b[0;31m#self.overden.omega_matter_of_z(self.overden.redshift)\u001b[0m\u001b[0;34m\u001b[0m\u001b[0;34m\u001b[0m\u001b[0m\n\u001b[1;32m    307\u001b[0m \u001b[0;34m\u001b[0m\u001b[0m\n\u001b[0;32m--> 308\u001b[0;31m         \u001b[0mdlogsigma\u001b[0m\u001b[0;34m,\u001b[0m \u001b[0msigma\u001b[0m \u001b[0;34m=\u001b[0m \u001b[0mself\u001b[0m\u001b[0;34m.\u001b[0m\u001b[0mlogderivative\u001b[0m\u001b[0;34m(\u001b[0m\u001b[0mm\u001b[0m\u001b[0;34m)\u001b[0m\u001b[0;34m\u001b[0m\u001b[0;34m\u001b[0m\u001b[0m\n\u001b[0m\u001b[1;32m    309\u001b[0m         \u001b[0mmass_func\u001b[0m \u001b[0;34m=\u001b[0m \u001b[0mself\u001b[0m\u001b[0;34m.\u001b[0m\u001b[0mpress_schechter_z\u001b[0m\u001b[0;34m(\u001b[0m\u001b[0msigma\u001b[0m\u001b[0;34m,\u001b[0m \u001b[0mz\u001b[0m\u001b[0;34m)\u001b[0m\u001b[0;34m\u001b[0m\u001b[0;34m\u001b[0m\u001b[0m\n\u001b[1;32m    310\u001b[0m \u001b[0;34m\u001b[0m\u001b[0m\n",
      "\u001b[0;32m<ipython-input-4-9953278ae2a5>\u001b[0m in \u001b[0;36mlogderivative\u001b[0;34m(self, M)\u001b[0m\n\u001b[1;32m    317\u001b[0m \u001b[0;34m\u001b[0m\u001b[0m\n\u001b[1;32m    318\u001b[0m     \u001b[0;32mdef\u001b[0m \u001b[0mlogderivative\u001b[0m\u001b[0;34m(\u001b[0m\u001b[0mself\u001b[0m\u001b[0;34m,\u001b[0m \u001b[0mM\u001b[0m\u001b[0;34m)\u001b[0m\u001b[0;34m:\u001b[0m\u001b[0;34m\u001b[0m\u001b[0;34m\u001b[0m\u001b[0m\n\u001b[0;32m--> 319\u001b[0;31m         \u001b[0msigma\u001b[0m \u001b[0;34m=\u001b[0m \u001b[0mself\u001b[0m\u001b[0;34m.\u001b[0m\u001b[0mS\u001b[0m\u001b[0;34m(\u001b[0m\u001b[0mM\u001b[0m\u001b[0;34m)\u001b[0m\u001b[0;34m\u001b[0m\u001b[0;34m\u001b[0m\u001b[0m\n\u001b[0m\u001b[1;32m    320\u001b[0m         \u001b[0msigma_plus\u001b[0m \u001b[0;34m=\u001b[0m \u001b[0mself\u001b[0m\u001b[0;34m.\u001b[0m\u001b[0mS\u001b[0m\u001b[0;34m(\u001b[0m\u001b[0mM\u001b[0m\u001b[0;34m**\u001b[0m\u001b[0;36m1.001\u001b[0m\u001b[0;34m)\u001b[0m\u001b[0;34m\u001b[0m\u001b[0;34m\u001b[0m\u001b[0m\n\u001b[1;32m    321\u001b[0m         \u001b[0;32mreturn\u001b[0m \u001b[0;34m(\u001b[0m\u001b[0mnp\u001b[0m\u001b[0;34m.\u001b[0m\u001b[0mlog\u001b[0m\u001b[0;34m(\u001b[0m\u001b[0msigma_plus\u001b[0m\u001b[0;34m*\u001b[0m\u001b[0msigma_plus\u001b[0m\u001b[0;34m)\u001b[0m\u001b[0;34m-\u001b[0m\u001b[0mnp\u001b[0m\u001b[0;34m.\u001b[0m\u001b[0mlog\u001b[0m\u001b[0;34m(\u001b[0m\u001b[0msigma\u001b[0m\u001b[0;34m*\u001b[0m\u001b[0msigma\u001b[0m\u001b[0;34m)\u001b[0m\u001b[0;34m)\u001b[0m\u001b[0;34m/\u001b[0m\u001b[0mnp\u001b[0m\u001b[0;34m.\u001b[0m\u001b[0mlog\u001b[0m\u001b[0;34m(\u001b[0m\u001b[0;36m0.001\u001b[0m\u001b[0;34m*\u001b[0m\u001b[0mM\u001b[0m\u001b[0;34m)\u001b[0m\u001b[0;34m,\u001b[0m \u001b[0msigma\u001b[0m\u001b[0;34m\u001b[0m\u001b[0;34m\u001b[0m\u001b[0m\n",
      "\u001b[0;32m<ipython-input-4-9953278ae2a5>\u001b[0m in \u001b[0;36mS\u001b[0;34m(self, m)\u001b[0m\n\u001b[1;32m    151\u001b[0m     \u001b[0;32mdef\u001b[0m \u001b[0mS\u001b[0m\u001b[0;34m(\u001b[0m\u001b[0mself\u001b[0m\u001b[0;34m,\u001b[0m \u001b[0mm\u001b[0m\u001b[0;34m)\u001b[0m\u001b[0;34m:\u001b[0m\u001b[0;34m\u001b[0m\u001b[0;34m\u001b[0m\u001b[0m\n\u001b[1;32m    152\u001b[0m         \u001b[0ms\u001b[0m \u001b[0;34m=\u001b[0m \u001b[0mnp\u001b[0m\u001b[0;34m.\u001b[0m\u001b[0mvectorize\u001b[0m\u001b[0;34m(\u001b[0m\u001b[0mself\u001b[0m\u001b[0;34m.\u001b[0m\u001b[0mS_prep\u001b[0m\u001b[0;34m)\u001b[0m\u001b[0;34m\u001b[0m\u001b[0;34m\u001b[0m\u001b[0m\n\u001b[0;32m--> 153\u001b[0;31m         \u001b[0;32mreturn\u001b[0m \u001b[0ms\u001b[0m\u001b[0;34m(\u001b[0m\u001b[0mm\u001b[0m\u001b[0;34m)\u001b[0m\u001b[0;34m\u001b[0m\u001b[0;34m\u001b[0m\u001b[0m\n\u001b[0m\u001b[1;32m    154\u001b[0m \u001b[0;34m\u001b[0m\u001b[0m\n\u001b[1;32m    155\u001b[0m     \u001b[0;32mdef\u001b[0m \u001b[0mS_Z\u001b[0m\u001b[0;34m(\u001b[0m\u001b[0mself\u001b[0m\u001b[0;34m,\u001b[0m \u001b[0mm\u001b[0m\u001b[0;34m,\u001b[0m \u001b[0mz\u001b[0m\u001b[0;34m)\u001b[0m\u001b[0;34m:\u001b[0m\u001b[0;34m\u001b[0m\u001b[0;34m\u001b[0m\u001b[0m\n",
      "\u001b[0;32m~/opt/anaconda3/lib/python3.8/site-packages/numpy/lib/function_base.py\u001b[0m in \u001b[0;36m__call__\u001b[0;34m(self, *args, **kwargs)\u001b[0m\n\u001b[1;32m   2161\u001b[0m             \u001b[0mvargs\u001b[0m\u001b[0;34m.\u001b[0m\u001b[0mextend\u001b[0m\u001b[0;34m(\u001b[0m\u001b[0;34m[\u001b[0m\u001b[0mkwargs\u001b[0m\u001b[0;34m[\u001b[0m\u001b[0m_n\u001b[0m\u001b[0;34m]\u001b[0m \u001b[0;32mfor\u001b[0m \u001b[0m_n\u001b[0m \u001b[0;32min\u001b[0m \u001b[0mnames\u001b[0m\u001b[0;34m]\u001b[0m\u001b[0;34m)\u001b[0m\u001b[0;34m\u001b[0m\u001b[0;34m\u001b[0m\u001b[0m\n\u001b[1;32m   2162\u001b[0m \u001b[0;34m\u001b[0m\u001b[0m\n\u001b[0;32m-> 2163\u001b[0;31m         \u001b[0;32mreturn\u001b[0m \u001b[0mself\u001b[0m\u001b[0;34m.\u001b[0m\u001b[0m_vectorize_call\u001b[0m\u001b[0;34m(\u001b[0m\u001b[0mfunc\u001b[0m\u001b[0;34m=\u001b[0m\u001b[0mfunc\u001b[0m\u001b[0;34m,\u001b[0m \u001b[0margs\u001b[0m\u001b[0;34m=\u001b[0m\u001b[0mvargs\u001b[0m\u001b[0;34m)\u001b[0m\u001b[0;34m\u001b[0m\u001b[0;34m\u001b[0m\u001b[0m\n\u001b[0m\u001b[1;32m   2164\u001b[0m \u001b[0;34m\u001b[0m\u001b[0m\n\u001b[1;32m   2165\u001b[0m     \u001b[0;32mdef\u001b[0m \u001b[0m_get_ufunc_and_otypes\u001b[0m\u001b[0;34m(\u001b[0m\u001b[0mself\u001b[0m\u001b[0;34m,\u001b[0m \u001b[0mfunc\u001b[0m\u001b[0;34m,\u001b[0m \u001b[0margs\u001b[0m\u001b[0;34m)\u001b[0m\u001b[0;34m:\u001b[0m\u001b[0;34m\u001b[0m\u001b[0;34m\u001b[0m\u001b[0m\n",
      "\u001b[0;32m~/opt/anaconda3/lib/python3.8/site-packages/numpy/lib/function_base.py\u001b[0m in \u001b[0;36m_vectorize_call\u001b[0;34m(self, func, args)\u001b[0m\n\u001b[1;32m   2244\u001b[0m             \u001b[0minputs\u001b[0m \u001b[0;34m=\u001b[0m \u001b[0;34m[\u001b[0m\u001b[0masanyarray\u001b[0m\u001b[0;34m(\u001b[0m\u001b[0ma\u001b[0m\u001b[0;34m,\u001b[0m \u001b[0mdtype\u001b[0m\u001b[0;34m=\u001b[0m\u001b[0mobject\u001b[0m\u001b[0;34m)\u001b[0m \u001b[0;32mfor\u001b[0m \u001b[0ma\u001b[0m \u001b[0;32min\u001b[0m \u001b[0margs\u001b[0m\u001b[0;34m]\u001b[0m\u001b[0;34m\u001b[0m\u001b[0;34m\u001b[0m\u001b[0m\n\u001b[1;32m   2245\u001b[0m \u001b[0;34m\u001b[0m\u001b[0m\n\u001b[0;32m-> 2246\u001b[0;31m             \u001b[0moutputs\u001b[0m \u001b[0;34m=\u001b[0m \u001b[0mufunc\u001b[0m\u001b[0;34m(\u001b[0m\u001b[0;34m*\u001b[0m\u001b[0minputs\u001b[0m\u001b[0;34m)\u001b[0m\u001b[0;34m\u001b[0m\u001b[0;34m\u001b[0m\u001b[0m\n\u001b[0m\u001b[1;32m   2247\u001b[0m \u001b[0;34m\u001b[0m\u001b[0m\n\u001b[1;32m   2248\u001b[0m             \u001b[0;32mif\u001b[0m \u001b[0mufunc\u001b[0m\u001b[0;34m.\u001b[0m\u001b[0mnout\u001b[0m \u001b[0;34m==\u001b[0m \u001b[0;36m1\u001b[0m\u001b[0;34m:\u001b[0m\u001b[0;34m\u001b[0m\u001b[0;34m\u001b[0m\u001b[0m\n",
      "\u001b[0;32m<ipython-input-4-9953278ae2a5>\u001b[0m in \u001b[0;36mS_prep\u001b[0;34m(self, m)\u001b[0m\n\u001b[1;32m    169\u001b[0m         \u001b[0mgamma_f\u001b[0m\u001b[0;34m,\u001b[0m \u001b[0mc\u001b[0m \u001b[0;34m=\u001b[0m \u001b[0;34m(\u001b[0m\u001b[0;36m2\u001b[0m\u001b[0;34m*\u001b[0m\u001b[0mnp\u001b[0m\u001b[0;34m.\u001b[0m\u001b[0mpi\u001b[0m\u001b[0;34m)\u001b[0m\u001b[0;34m**\u001b[0m\u001b[0;34m(\u001b[0m\u001b[0;36m2\u001b[0m\u001b[0;34m/\u001b[0m\u001b[0;36m3\u001b[0m\u001b[0;34m)\u001b[0m\u001b[0;34m,\u001b[0m \u001b[0;36m0.643\u001b[0m\u001b[0;34m\u001b[0m\u001b[0;34m\u001b[0m\u001b[0m\n\u001b[1;32m    170\u001b[0m         \u001b[0mR\u001b[0m \u001b[0;34m=\u001b[0m \u001b[0mc\u001b[0m\u001b[0;34m*\u001b[0m\u001b[0;34m(\u001b[0m\u001b[0mm\u001b[0m\u001b[0;34m/\u001b[0m\u001b[0;34m(\u001b[0m\u001b[0mgamma_f\u001b[0m\u001b[0;34m*\u001b[0m\u001b[0mself\u001b[0m\u001b[0;34m.\u001b[0m\u001b[0mrho_0\u001b[0m\u001b[0;34m)\u001b[0m\u001b[0;34m)\u001b[0m\u001b[0;34m**\u001b[0m\u001b[0;34m(\u001b[0m\u001b[0;36m1\u001b[0m\u001b[0;34m/\u001b[0m\u001b[0;36m3\u001b[0m\u001b[0;34m)\u001b[0m\u001b[0;34m\u001b[0m\u001b[0;34m\u001b[0m\u001b[0m\n\u001b[0;32m--> 171\u001b[0;31m         \u001b[0ms\u001b[0m \u001b[0;34m=\u001b[0m \u001b[0mintegrate\u001b[0m\u001b[0;34m.\u001b[0m\u001b[0mquad\u001b[0m\u001b[0;34m(\u001b[0m\u001b[0mself\u001b[0m\u001b[0;34m.\u001b[0m\u001b[0mintegrant\u001b[0m\u001b[0;34m,\u001b[0m \u001b[0;36m0\u001b[0m\u001b[0;34m,\u001b[0m \u001b[0mnp\u001b[0m\u001b[0;34m.\u001b[0m\u001b[0minf\u001b[0m\u001b[0;34m,\u001b[0m \u001b[0margs\u001b[0m\u001b[0;34m=\u001b[0m\u001b[0;34m(\u001b[0m\u001b[0mR\u001b[0m\u001b[0;34m,\u001b[0m \u001b[0mself\u001b[0m\u001b[0;34m.\u001b[0m\u001b[0mGaussianFilter\u001b[0m\u001b[0;34m)\u001b[0m\u001b[0;34m,\u001b[0m \u001b[0mepsrel\u001b[0m\u001b[0;34m=\u001b[0m\u001b[0;36m1e-2\u001b[0m\u001b[0;34m,\u001b[0m \u001b[0mlimit\u001b[0m\u001b[0;34m=\u001b[0m\u001b[0;36m100\u001b[0m\u001b[0;34m)\u001b[0m\u001b[0;34m[\u001b[0m\u001b[0;36m0\u001b[0m\u001b[0;34m]\u001b[0m\u001b[0;34m\u001b[0m\u001b[0;34m\u001b[0m\u001b[0m\n\u001b[0m\u001b[1;32m    172\u001b[0m         \u001b[0;32mreturn\u001b[0m \u001b[0;34m(\u001b[0m\u001b[0ms\u001b[0m\u001b[0;34m/\u001b[0m\u001b[0;34m(\u001b[0m\u001b[0;36m2\u001b[0m\u001b[0;34m*\u001b[0m\u001b[0mnp\u001b[0m\u001b[0;34m.\u001b[0m\u001b[0mpi\u001b[0m\u001b[0;34m**\u001b[0m\u001b[0;36m2\u001b[0m\u001b[0;34m)\u001b[0m\u001b[0;34m)\u001b[0m\u001b[0;34m**\u001b[0m\u001b[0;34m(\u001b[0m\u001b[0;36m1\u001b[0m\u001b[0;34m/\u001b[0m\u001b[0;36m2\u001b[0m\u001b[0;34m)\u001b[0m\u001b[0;34m\u001b[0m\u001b[0;34m\u001b[0m\u001b[0m\n\u001b[1;32m    173\u001b[0m \u001b[0;34m\u001b[0m\u001b[0m\n",
      "\u001b[0;32m~/opt/anaconda3/lib/python3.8/site-packages/scipy/integrate/quadpack.py\u001b[0m in \u001b[0;36mquad\u001b[0;34m(func, a, b, args, full_output, epsabs, epsrel, limit, points, weight, wvar, wopts, maxp1, limlst)\u001b[0m\n\u001b[1;32m    349\u001b[0m \u001b[0;34m\u001b[0m\u001b[0m\n\u001b[1;32m    350\u001b[0m     \u001b[0;32mif\u001b[0m \u001b[0mweight\u001b[0m \u001b[0;32mis\u001b[0m \u001b[0;32mNone\u001b[0m\u001b[0;34m:\u001b[0m\u001b[0;34m\u001b[0m\u001b[0;34m\u001b[0m\u001b[0m\n\u001b[0;32m--> 351\u001b[0;31m         retval = _quad(func, a, b, args, full_output, epsabs, epsrel, limit,\n\u001b[0m\u001b[1;32m    352\u001b[0m                        points)\n\u001b[1;32m    353\u001b[0m     \u001b[0;32melse\u001b[0m\u001b[0;34m:\u001b[0m\u001b[0;34m\u001b[0m\u001b[0;34m\u001b[0m\u001b[0m\n",
      "\u001b[0;32m~/opt/anaconda3/lib/python3.8/site-packages/scipy/integrate/quadpack.py\u001b[0m in \u001b[0;36m_quad\u001b[0;34m(func, a, b, args, full_output, epsabs, epsrel, limit, points)\u001b[0m\n\u001b[1;32m    463\u001b[0m             \u001b[0;32mreturn\u001b[0m \u001b[0m_quadpack\u001b[0m\u001b[0;34m.\u001b[0m\u001b[0m_qagse\u001b[0m\u001b[0;34m(\u001b[0m\u001b[0mfunc\u001b[0m\u001b[0;34m,\u001b[0m\u001b[0ma\u001b[0m\u001b[0;34m,\u001b[0m\u001b[0mb\u001b[0m\u001b[0;34m,\u001b[0m\u001b[0margs\u001b[0m\u001b[0;34m,\u001b[0m\u001b[0mfull_output\u001b[0m\u001b[0;34m,\u001b[0m\u001b[0mepsabs\u001b[0m\u001b[0;34m,\u001b[0m\u001b[0mepsrel\u001b[0m\u001b[0;34m,\u001b[0m\u001b[0mlimit\u001b[0m\u001b[0;34m)\u001b[0m\u001b[0;34m\u001b[0m\u001b[0;34m\u001b[0m\u001b[0m\n\u001b[1;32m    464\u001b[0m         \u001b[0;32melse\u001b[0m\u001b[0;34m:\u001b[0m\u001b[0;34m\u001b[0m\u001b[0;34m\u001b[0m\u001b[0m\n\u001b[0;32m--> 465\u001b[0;31m             \u001b[0;32mreturn\u001b[0m \u001b[0m_quadpack\u001b[0m\u001b[0;34m.\u001b[0m\u001b[0m_qagie\u001b[0m\u001b[0;34m(\u001b[0m\u001b[0mfunc\u001b[0m\u001b[0;34m,\u001b[0m\u001b[0mbound\u001b[0m\u001b[0;34m,\u001b[0m\u001b[0minfbounds\u001b[0m\u001b[0;34m,\u001b[0m\u001b[0margs\u001b[0m\u001b[0;34m,\u001b[0m\u001b[0mfull_output\u001b[0m\u001b[0;34m,\u001b[0m\u001b[0mepsabs\u001b[0m\u001b[0;34m,\u001b[0m\u001b[0mepsrel\u001b[0m\u001b[0;34m,\u001b[0m\u001b[0mlimit\u001b[0m\u001b[0;34m)\u001b[0m\u001b[0;34m\u001b[0m\u001b[0;34m\u001b[0m\u001b[0m\n\u001b[0m\u001b[1;32m    466\u001b[0m     \u001b[0;32melse\u001b[0m\u001b[0;34m:\u001b[0m\u001b[0;34m\u001b[0m\u001b[0;34m\u001b[0m\u001b[0m\n\u001b[1;32m    467\u001b[0m         \u001b[0;32mif\u001b[0m \u001b[0minfbounds\u001b[0m \u001b[0;34m!=\u001b[0m \u001b[0;36m0\u001b[0m\u001b[0;34m:\u001b[0m\u001b[0;34m\u001b[0m\u001b[0;34m\u001b[0m\u001b[0m\n",
      "\u001b[0;32m<ipython-input-4-9953278ae2a5>\u001b[0m in \u001b[0;36mintegrant\u001b[0;34m(self, k, R, Filter)\u001b[0m\n\u001b[1;32m    204\u001b[0m \u001b[0;34m\u001b[0m\u001b[0m\n\u001b[1;32m    205\u001b[0m     \u001b[0;32mdef\u001b[0m \u001b[0mintegrant\u001b[0m\u001b[0;34m(\u001b[0m\u001b[0mself\u001b[0m\u001b[0;34m,\u001b[0m \u001b[0mk\u001b[0m\u001b[0;34m,\u001b[0m \u001b[0mR\u001b[0m\u001b[0;34m,\u001b[0m \u001b[0mFilter\u001b[0m\u001b[0;34m)\u001b[0m\u001b[0;34m:\u001b[0m\u001b[0;34m\u001b[0m\u001b[0;34m\u001b[0m\u001b[0m\n\u001b[0;32m--> 206\u001b[0;31m         \u001b[0;32mreturn\u001b[0m \u001b[0mk\u001b[0m\u001b[0;34m**\u001b[0m\u001b[0;36m2\u001b[0m\u001b[0;34m*\u001b[0m\u001b[0mself\u001b[0m\u001b[0;34m.\u001b[0m\u001b[0mPowerSpectrum\u001b[0m\u001b[0;34m(\u001b[0m\u001b[0mk\u001b[0m\u001b[0;34m)\u001b[0m\u001b[0;34m*\u001b[0m\u001b[0mFilter\u001b[0m\u001b[0;34m(\u001b[0m\u001b[0mk\u001b[0m\u001b[0;34m*\u001b[0m\u001b[0mR\u001b[0m\u001b[0;34m)\u001b[0m\u001b[0;34m**\u001b[0m\u001b[0;36m2\u001b[0m\u001b[0;34m\u001b[0m\u001b[0;34m\u001b[0m\u001b[0m\n\u001b[0m\u001b[1;32m    207\u001b[0m \u001b[0;34m\u001b[0m\u001b[0m\n\u001b[1;32m    208\u001b[0m     \u001b[0;32mdef\u001b[0m \u001b[0mSigma_of_R\u001b[0m\u001b[0;34m(\u001b[0m\u001b[0mself\u001b[0m\u001b[0;34m,\u001b[0m \u001b[0mFilter\u001b[0m\u001b[0;34m,\u001b[0m \u001b[0mR\u001b[0m\u001b[0;34m)\u001b[0m\u001b[0;34m:\u001b[0m\u001b[0;34m\u001b[0m\u001b[0;34m\u001b[0m\u001b[0m\n",
      "\u001b[0;32m<ipython-input-4-9953278ae2a5>\u001b[0m in \u001b[0;36mGaussianFilter\u001b[0;34m(self, x)\u001b[0m\n\u001b[1;32m    195\u001b[0m             \u001b[0;32mreturn\u001b[0m \u001b[0;36m1\u001b[0m\u001b[0;34m-\u001b[0m\u001b[0mx\u001b[0m\u001b[0;34m**\u001b[0m\u001b[0;36m2\u001b[0m\u001b[0;34m/\u001b[0m\u001b[0;36m2\u001b[0m\u001b[0;34m+\u001b[0m\u001b[0mx\u001b[0m\u001b[0;34m**\u001b[0m\u001b[0;36m4\u001b[0m\u001b[0;34m/\u001b[0m\u001b[0;36m8\u001b[0m\u001b[0;34m\u001b[0m\u001b[0;34m\u001b[0m\u001b[0m\n\u001b[1;32m    196\u001b[0m         \u001b[0;32melse\u001b[0m\u001b[0;34m:\u001b[0m\u001b[0;34m\u001b[0m\u001b[0;34m\u001b[0m\u001b[0m\n\u001b[0;32m--> 197\u001b[0;31m             \u001b[0;32mreturn\u001b[0m \u001b[0mnp\u001b[0m\u001b[0;34m.\u001b[0m\u001b[0mexp\u001b[0m\u001b[0;34m(\u001b[0m\u001b[0;34m-\u001b[0m\u001b[0mx\u001b[0m\u001b[0;34m**\u001b[0m\u001b[0;36m2\u001b[0m\u001b[0;34m/\u001b[0m\u001b[0;36m2\u001b[0m\u001b[0;34m)\u001b[0m\u001b[0;34m\u001b[0m\u001b[0;34m\u001b[0m\u001b[0m\n\u001b[0m\u001b[1;32m    198\u001b[0m \u001b[0;34m\u001b[0m\u001b[0m\n\u001b[1;32m    199\u001b[0m     \u001b[0;32mdef\u001b[0m \u001b[0mKSharpFilter\u001b[0m\u001b[0;34m(\u001b[0m\u001b[0mself\u001b[0m\u001b[0;34m,\u001b[0m \u001b[0mx\u001b[0m\u001b[0;34m)\u001b[0m\u001b[0;34m:\u001b[0m\u001b[0;34m\u001b[0m\u001b[0;34m\u001b[0m\u001b[0m\n",
      "\u001b[0;31mKeyboardInterrupt\u001b[0m: "
     ]
    }
   ],
   "source": [
    "Himf_10 = HIMF.IMF(m, 10)/halo_PDF_norm(10)"
   ]
  },
  {
   "cell_type": "code",
   "execution_count": null,
   "metadata": {},
   "outputs": [
    {
     "data": {
      "image/png": "[encoded data removed]",
      "text/plain": [
       "<Figure size 432x288 with 1 Axes>"
      ]
     },
     "metadata": {
      "needs_background": "light"
     },
     "output_type": "display_data"
    }
   ],
   "source": [
    "plt.hist(Halos, density=True, bins=10**np.linspace(4, 10, 40))\n",
    "M=np.logspace(4, 10, 100)\n",
    "plt.plot(M, Himf_10)\n",
    "plt.xlim(10**4, 10**10)\n",
    "plt.ylim(1e-12,1e-1)\n",
    "plt.xscale('log')\n",
    "plt.yscale('log')"
   ]
  },
  {
   "cell_type": "code",
   "execution_count": null,
   "metadata": {},
   "outputs": [
    {
     "name": "stderr",
     "output_type": "stream",
     "text": [
      "<ipython-input-33-9953278ae2a5>:227: IntegrationWarning: The integral is probably divergent, or slowly convergent.\n",
      "  s = integrate.quad(self.integrant, 0, np.inf, args=(R, Filter,), epsrel=1e-2, limit=200)[0]\n"
     ]
    },
    {
     "name": "stdout",
     "output_type": "stream",
     "text": [
      "10\n"
     ]
    }
   ],
   "source": [
    "MT = MergerTree()\n",
    "z=10\n",
    "Ms= Halos\n",
    "print(z)"
   ]
  },
  {
   "cell_type": "code",
   "execution_count": null,
   "metadata": {},
   "outputs": [
    {
     "name": "stdout",
     "output_type": "stream",
     "text": [
      "10.5\n",
      "0.15018081665039062 54\n",
      "11.0\n",
      "0.29817795753479004 70\n",
      "11.5\n",
      "0.48372983932495117 88\n",
      "12.0\n",
      "0.8337159156799316 109\n",
      "12.5\n",
      "1.3138868808746338 135\n",
      "13.0\n",
      "1.8946187496185303 162\n",
      "13.5\n",
      "2.629276752471924 191\n",
      "14.0\n",
      "3.3422598838806152 222\n",
      "14.5\n",
      "3.99996280670166 256\n",
      "15.0\n",
      "4.64525580406189 294\n",
      "15.5\n",
      "5.3776397705078125 332\n",
      "16.0\n",
      "6.198820114135742 372\n",
      "16.5\n",
      "7.117860794067383 416\n",
      "17.0\n",
      "8.17835283279419 463\n",
      "17.5\n",
      "9.616317987442017 513\n",
      "18.0\n",
      "11.460824012756348 566\n",
      "18.5\n",
      "13.026726961135864 623\n",
      "19.0\n",
      "14.531452894210815 681\n",
      "19.5\n",
      "16.18581986427307 738\n",
      "20.0\n",
      "18.094437837600708 801\n",
      "20.5\n",
      "20.050514936447144 869\n",
      "21.0\n",
      "22.515828847885132 939\n",
      "21.5\n",
      "24.765934944152832 1005\n",
      "22.0\n",
      "27.179109811782837 1075\n",
      "22.5\n",
      "29.76254892349243 1149\n",
      "23.0\n",
      "32.51687812805176 1227\n",
      "23.5\n",
      "35.440794706344604 1309\n",
      "24.0\n",
      "38.56419491767883 1392\n",
      "24.5\n",
      "42.00455594062805 1480\n",
      "25.0\n",
      "45.50125002861023 1565\n",
      "25.5\n",
      "49.25467109680176 1658\n",
      "26.0\n",
      "55.136624813079834 1750\n",
      "26.5\n",
      "59.406564712524414 1843\n",
      "27.0\n",
      "63.78569483757019 1946\n",
      "27.5\n",
      "69.10612893104553 2049\n",
      "28.0\n",
      "74.15097904205322 2155\n",
      "28.5\n",
      "79.28207302093506 2254\n",
      "29.0\n",
      "84.5124158859253 2351\n",
      "29.5\n",
      "89.948570728302 2458\n",
      "30.0\n",
      "95.68574690818787 2570\n"
     ]
    }
   ],
   "source": [
    "t0 = time.time()\n",
    "while z<30:\n",
    "    \n",
    "    Mss=[]\n",
    "    for ii in range(len(Ms)):\n",
    "        routine = MT.MT_Routine(Ms[ii], z, z+0.5)\n",
    "        Mss.append(routine)\n",
    "        \n",
    "    z=z+0.5\n",
    "    Mss = list(chain.from_iterable(Mss))\n",
    "    Ms = Mss\n",
    "    print(z)\n",
    "    print(time.time()-t0, len(Ms))"
   ]
  },
  {
   "cell_type": "code",
   "execution_count": null,
   "metadata": {},
   "outputs": [
    {
     "data": {
      "text/plain": [
       "2570"
      ]
     },
     "execution_count": 71,
     "metadata": {},
     "output_type": "execute_result"
    }
   ],
   "source": [
    "len(Ms)"
   ]
  },
  {
   "cell_type": "code",
   "execution_count": null,
   "metadata": {},
   "outputs": [
    {
     "name": "stderr",
     "output_type": "stream",
     "text": [
      "<ipython-input-33-9953278ae2a5>:227: IntegrationWarning: The integral is probably divergent, or slowly convergent.\n",
      "  s = integrate.quad(self.integrant, 0, np.inf, args=(R, Filter,), epsrel=1e-2, limit=200)[0]\n",
      "<ipython-input-14-88f75843171e>:2: IntegrationWarning: The algorithm does not converge.  Roundoff error is detected\n",
      "  in the extrapolation table.  It is assumed that the requested tolerance\n",
      "  cannot be achieved, and that the returned result (if full_output = 1) is \n",
      "  the best which can be obtained.\n",
      "  return integrate.quad(HIMF.IMF, 10**3, 10**10, args=(z), epsrel=1e-4, limit=1000)[0]\n"
     ]
    },
    {
     "data": {
      "text/plain": [
       "array([1.48058058e-05, 1.12479876e-05, 8.48513695e-06, 6.47949075e-06,\n",
       "       5.11921719e-06, 3.79926100e-06, 3.05086867e-06, 2.24640807e-06,\n",
       "       1.70116484e-06, 1.28478817e-06, 8.60174734e-07, 7.03469381e-07,\n",
       "       5.95965900e-07, 4.28689594e-07, 3.22573520e-07, 2.42199799e-07,\n",
       "       1.83805553e-07, 1.35296069e-07, 1.01603763e-07, 7.90074744e-08,\n",
       "       5.71554722e-08, 4.47130120e-08, 3.21330703e-08, 2.36302391e-08,\n",
       "       1.72838899e-08, 1.07745913e-08, 8.85012756e-09, 7.14609429e-09,\n",
       "       4.98082077e-09, 3.59540306e-09, 2.19300295e-09, 1.87086992e-09,\n",
       "       1.33642405e-09, 9.37718346e-10, 6.95110650e-10, 4.75698810e-10,\n",
       "       3.51639466e-10, 2.39315675e-10, 1.65957876e-10, 1.14146689e-10,\n",
       "       7.88363835e-11, 5.57646339e-11, 3.83721471e-11, 2.49084531e-11,\n",
       "       1.66841853e-11, 1.10899004e-11, 7.39638505e-12, 4.84303004e-12,\n",
       "       3.19726570e-12, 2.07882236e-12, 1.34086494e-12, 8.57760080e-13,\n",
       "       5.43815545e-13, 3.42395157e-13, 2.13605891e-13, 1.32029387e-13,\n",
       "       8.08707476e-14, 4.90187220e-14, 2.94250456e-14, 1.74615034e-14,\n",
       "       1.02687923e-14, 5.96587423e-15, 3.42577528e-15, 1.94351790e-15,\n",
       "       1.08885191e-15, 6.02138711e-16, 3.28518690e-16, 1.76741749e-16,\n",
       "       9.37139466e-17, 4.89444721e-17, 2.51653354e-17, 1.27310801e-17,\n",
       "       6.33239596e-18, 3.09489526e-18, 1.48525204e-18, 6.99396110e-19,\n",
       "       3.22904931e-19, 1.46056714e-19, 6.46705815e-20, 2.80062391e-20,\n",
       "       1.18514476e-20, 4.89602739e-21, 1.99033906e-21, 7.74297842e-22,\n",
       "       2.95782741e-22, 1.09825322e-22, 3.95981663e-23, 1.38433033e-23,\n",
       "       4.68654811e-24, 1.53429443e-24, 4.85030641e-25, 1.47831466e-25,\n",
       "       4.33341474e-26, 1.22263288e-26, 3.30608973e-27, 8.55888268e-28,\n",
       "       2.11706826e-28, 4.99291272e-29, 1.12024165e-29, 2.38557344e-30])"
      ]
     },
     "execution_count": 57,
     "metadata": {},
     "output_type": "execute_result"
    }
   ],
   "source": [
    "HIMF=HaloMassFunction(0)\n",
    "m = np.logspace(4, 10, 100)\n",
    "Himf = HIMF.IMF(m, 30)/np.abs(halo_PDF_norm(30))\n",
    "Himf"
   ]
  },
  {
   "cell_type": "code",
   "execution_count": null,
   "metadata": {},
   "outputs": [
    {
     "data": {
      "text/plain": [
       "<matplotlib.legend.Legend at 0x7fc09fd50f40>"
      ]
     },
     "execution_count": 70,
     "metadata": {},
     "output_type": "execute_result"
    },
    {
     "data": {
      "image/png": "[encoded data removed]",
      "text/plain": [
       "<Figure size 432x288 with 1 Axes>"
      ]
     },
     "metadata": {
      "needs_background": "light"
     },
     "output_type": "display_data"
    }
   ],
   "source": [
    "plt.hist(Ms, bins=10**np.linspace(4,15,40), log=True, density=True)\n",
    "plt.plot(m, Himf, label='30')\n",
    "plt.plot(m, Himf_10, label='10')\n",
    "plt.ylim(1e-10,1e3)\n",
    "plt.xscale('log')\n",
    "plt.yscale('log')\n",
    "plt.xlim(1e4, 1e10)\n",
    "plt.legend()"
   ]
  },
  {
   "cell_type": "code",
   "execution_count": null,
   "metadata": {},
   "outputs": [
    {
     "data": {
      "text/plain": [
       "1826"
      ]
     },
     "execution_count": 22,
     "metadata": {},
     "output_type": "execute_result"
    }
   ],
   "source": [
    "len(Ms)"
   ]
  },
  {
   "cell_type": "code",
   "execution_count": 42,
   "metadata": {},
   "outputs": [],
   "source": [
    "from scipy.stats import norm\n",
    "class MergerTree_2:\n",
    "\n",
    "    def __init__(self, omega_m=0.27, omega_l=0.73, h=0.73, ns=0.95, sigma8=0.8):\n",
    "        self.omega_m0 = omega_m\n",
    "        self.omega_l0 = omega_l\n",
    "        self.sigma8 = sigma8\n",
    "        self.h = h\n",
    "        self.ns = ns\n",
    "        self.rho_0 = self.omega_m0 * 2.78e+11\n",
    "\n",
    "        self.overdensity = Overdensities(0, omega_l=omega_l, omega_m=omega_m, h=h, sigma8=sigma8, ns=ns)\n",
    "        self.MergerRate = MergerRate(0, omega_l=omega_l, omega_m=omega_m, ns=ns, h=h, sigma8=sigma8)\n",
    "        self.Growth = GrowthFunction(omega_m=omega_m, omega_l=omega_l, h=h)\n",
    "\n",
    "        self.sigma = self.overdensity.S\n",
    "        self.Delta_c = self.Growth.Delta_c\n",
    "\n",
    "        m = np.logspace(0, 16, 1000)\n",
    "        sig = self.sigma(m)\n",
    "        int = scipy.interpolate.InterpolatedUnivariateSpline(m, sig)\n",
    "        self.sigma_int = np.vectorize(int)\n",
    "\n",
    "    def MT_routine(self, M0, z0):\n",
    "\n",
    "        dz = 1\n",
    "\n",
    "        M_res = 1e4\n",
    "\n",
    "        P = self.P(M_res, z0, M0, dz)\n",
    "        print(P)\n",
    "\n",
    "        while P>0.01:\n",
    "            dz = dz-0.01\n",
    "            P = self.P(M_res, z0, M0, dz)\n",
    "            print('routine', z)\n",
    "\n",
    "        R = np.random.uniform(0,1)\n",
    "        F = self.F(M_res, z0, M0, dz)\n",
    "        if R>P:\n",
    "            M0 = M0*(1-F)\n",
    "            M1=0\n",
    "\n",
    "        else:\n",
    "            M1 = self.M_gen(M_res, z0, M0, dz)\n",
    "            M0 = M0*(1-F) - M1\n",
    "        \n",
    "        z = z0+dz\n",
    "\n",
    "        return M0, M1, z\n",
    "\n",
    "\n",
    "    def M_gen(self, M_res, z1, M2, dz):\n",
    "\n",
    "        fmax = self.dNdM1(0.9*M_res/2, z1, M2, dz)\n",
    "\n",
    "        ii=0\n",
    "\n",
    "        while ii<1:\n",
    "\n",
    "            x = np.random.uniform( M_res, M2/2, 100)\n",
    "            y = np.random.uniform(0, fmax, 100)\n",
    "\n",
    "            x_accepted = x[(y <= self.dNdM1(x, z1, M2, dz))]\n",
    "            ii+=len(x_accepted)\n",
    "\n",
    "            print('gen')\n",
    "        \n",
    "        return x_accepted[:1][0]\n",
    "\n",
    "\n",
    "    def dfdz_1(self, M1, z1, M2, dz):\n",
    "\n",
    "        s1 = self.sigma(M1)\n",
    "        s2 = self.sigma(M2)\n",
    "\n",
    "        d_delta = self.Delta_c(z1)-self.Delta_c(z1+dz)\n",
    "\n",
    "        f = np.sqrt(2/np.pi) * s1**2/(s1**2-s2**2)**(2/3) * d_delta/dz * self.derivative(M1)\n",
    "\n",
    "        return f\n",
    "    \n",
    "    def dNdM1(self, M1, z1, M2, dz):\n",
    "\n",
    "        dNdM = 1/M1 * self.dfdz_1(M1, z1, M2, dz) * M2 / M1 * dz\n",
    "\n",
    "        return dNdM\n",
    "    \n",
    "    def P(self, M_res, z1, M2, dz):\n",
    "        \n",
    "        print(z1)\n",
    "        P=integrate.quad(self.dNdM1, M_res, M2/2, args = (z1, M2, dz), limit=100)[0]\n",
    "\n",
    "        return P\n",
    "\n",
    "    def F(self, M_res, z1, M2, dz):\n",
    "\n",
    "        F=integrate.quad(lambda m : self.dNdM1(m, z1, M2, dz)*m/M2, 0, M_res, limit=100)[0]\n",
    "\n",
    "        return F\n",
    "\n",
    "    def M_finder(self, M0, S):\n",
    "        return float(scipy.optimize.fsolve(self.S_for_M, M0, args=S))\n",
    "        \n",
    "    def S_for_M(self, M, S):\n",
    "        return self.sigma_int(M)**2-S\n",
    "    \n",
    "    def derivative(self, M):\n",
    "        sigma = np.log(self.sigma(M))\n",
    "        sigma_plus = 1.000000001*np.log(self.sigma(M))\n",
    "        return (sigma_plus*sigma_plus-sigma*sigma)/(0.000000001*np.log(M))\n",
    "    \n",
    "    def z_finder(self, z_0, domega):\n",
    "        Df = self.Delta_c(z_0)+domega\n",
    "        return float(scipy.optimize.fsolve(self.Delta_c_for_z, z_0, args=Df))\n",
    "\n",
    "    def Delta_c_for_z(self, z, D_z_f):\n",
    "        return self.Delta_c(z)-D_z_f\n",
    "\n",
    "    def OmegaStep(self, M0, dMc):\n",
    "        return np.sqrt(np.abs(self.derivative(M0))*dMc)"
   ]
  },
  {
   "cell_type": "code",
   "execution_count": 43,
   "metadata": {},
   "outputs": [
    {
     "name": "stderr",
     "output_type": "stream",
     "text": [
      "<ipython-input-4-9953278ae2a5>:227: IntegrationWarning: The integral is probably divergent, or slowly convergent.\n",
      "  s = integrate.quad(self.integrant, 0, np.inf, args=(R, Filter,), epsrel=1e-2, limit=200)[0]\n"
     ]
    },
    {
     "name": "stdout",
     "output_type": "stream",
     "text": [
      "20\n"
     ]
    },
    {
     "name": "stderr",
     "output_type": "stream",
     "text": [
      "<ipython-input-42-ea895bb29a44>:92: IntegrationWarning: The occurrence of roundoff error is detected, which prevents \n",
      "  the requested tolerance from being achieved.  The error may be \n",
      "  underestimated.\n",
      "  P=integrate.quad(self.dNdM1, M_res, M2/2, args = (z1, M2, dz), limit=100)[0]\n"
     ]
    },
    {
     "name": "stdout",
     "output_type": "stream",
     "text": [
      "-1009.0285952551983\n"
     ]
    },
    {
     "name": "stderr",
     "output_type": "stream",
     "text": [
      "<ipython-input-42-ea895bb29a44>:98: IntegrationWarning: Extremely bad integrand behavior occurs at some points of the\n",
      "  integration interval.\n",
      "  F=integrate.quad(lambda m : self.dNdM1(m, z1, M2, dz)*m/M2, 0, M_res, limit=100)[0]\n"
     ]
    },
    {
     "name": "stdout",
     "output_type": "stream",
     "text": [
      "(564736468.0543985, 0, 21)\n",
      "20\n",
      "-1009.0285952551983\n",
      "(564736468.0543985, 0, 21)\n",
      "20\n",
      "-1009.0285952551983\n",
      "(564736468.0543985, 0, 21)\n",
      "20\n",
      "-1009.0285952551983\n",
      "(564736468.0543985, 0, 21)\n",
      "20\n",
      "-1009.0285952551983\n",
      "(564736468.0543985, 0, 21)\n",
      "20\n",
      "-1009.0285952551983\n",
      "(564736468.0543985, 0, 21)\n",
      "20\n",
      "-1009.0285952551983\n",
      "(564736468.0543985, 0, 21)\n",
      "20\n",
      "-1009.0285952551983\n",
      "(564736468.0543985, 0, 21)\n",
      "20\n",
      "-1009.0285952551983\n",
      "(564736468.0543985, 0, 21)\n",
      "20\n",
      "-1009.0285952551983\n",
      "(564736468.0543985, 0, 21)\n"
     ]
    }
   ],
   "source": [
    "MT2 = MergerTree_2()\n",
    "\n",
    "for i in range(10):\n",
    "    print(MT2.MT_routine(1e6, 20))"
   ]
  },
  {
   "cell_type": "code",
   "execution_count": 48,
   "metadata": {},
   "outputs": [
    {
     "ename": "OSError",
     "evalue": "File does not exist: ahf_halos/snap_N64L16_000.parameter.",
     "output_type": "error",
     "traceback": [
      "\u001b[0;31m---------------------------------------------------------------------------\u001b[0m",
      "\u001b[0;31mOSError\u001b[0m                                   Traceback (most recent call last)",
      "\u001b[0;32m<ipython-input-48-aa689ed778dd>\u001b[0m in \u001b[0;36m<module>\u001b[0;34m\u001b[0m\n\u001b[1;32m      1\u001b[0m \u001b[0;32mimport\u001b[0m \u001b[0mytree\u001b[0m\u001b[0;34m\u001b[0m\u001b[0;34m\u001b[0m\u001b[0m\n\u001b[0;32m----> 2\u001b[0;31m \u001b[0ma\u001b[0m \u001b[0;34m=\u001b[0m \u001b[0mytree\u001b[0m\u001b[0;34m.\u001b[0m\u001b[0mload\u001b[0m\u001b[0;34m(\u001b[0m\u001b[0;34m\"ahf_halos/snap_N64L16_000.parameter\"\u001b[0m\u001b[0;34m,\u001b[0m \u001b[0mhubble_constant\u001b[0m\u001b[0;34m=\u001b[0m\u001b[0;36m0.7\u001b[0m\u001b[0;34m)\u001b[0m\u001b[0;34m\u001b[0m\u001b[0;34m\u001b[0m\u001b[0m\n\u001b[0m\u001b[1;32m      3\u001b[0m \u001b[0mp\u001b[0m \u001b[0;34m=\u001b[0m \u001b[0mytree\u001b[0m\u001b[0;34m.\u001b[0m\u001b[0mTreePlot\u001b[0m\u001b[0;34m(\u001b[0m\u001b[0ma\u001b[0m\u001b[0;34m[\u001b[0m\u001b[0;36m0\u001b[0m\u001b[0;34m]\u001b[0m\u001b[0;34m,\u001b[0m \u001b[0mdot_kwargs\u001b[0m\u001b[0;34m=\u001b[0m\u001b[0;34m{\u001b[0m\u001b[0;34m'rankdir'\u001b[0m\u001b[0;34m:\u001b[0m \u001b[0;34m'LR'\u001b[0m\u001b[0;34m,\u001b[0m \u001b[0;34m'size'\u001b[0m\u001b[0;34m:\u001b[0m \u001b[0;34m'\"12,4\"'\u001b[0m\u001b[0;34m}\u001b[0m\u001b[0;34m)\u001b[0m\u001b[0;34m\u001b[0m\u001b[0;34m\u001b[0m\u001b[0m\n\u001b[1;32m      4\u001b[0m \u001b[0mp\u001b[0m\u001b[0;34m.\u001b[0m\u001b[0msave\u001b[0m\u001b[0;34m(\u001b[0m\u001b[0;34m'tree.png'\u001b[0m\u001b[0;34m)\u001b[0m\u001b[0;34m\u001b[0m\u001b[0;34m\u001b[0m\u001b[0m\n",
      "\u001b[0;32m~/opt/anaconda3/lib/python3.8/site-packages/ytree/data_structures/load.py\u001b[0m in \u001b[0;36mload\u001b[0;34m(filename, method, **kwargs)\u001b[0m\n",
      "\u001b[0;32m~/opt/anaconda3/lib/python3.8/site-packages/ytree/utilities/loading.py\u001b[0m in \u001b[0;36mget_path\u001b[0;34m(filename)\u001b[0m\n",
      "\u001b[0;32m~/opt/anaconda3/lib/python3.8/site-packages/ytree/utilities/loading.py\u001b[0m in \u001b[0;36mcheck_path\u001b[0;34m(filename)\u001b[0m\n",
      "\u001b[0;31mOSError\u001b[0m: File does not exist: ahf_halos/snap_N64L16_000.parameter."
     ]
    }
   ],
   "source": [
    "import ytree\n",
    "a = ytree.load(\"ahf_halos/snap_N64L16_000.parameter\", hubble_constant=0.7)\n",
    "p = ytree.TreePlot(a[0], dot_kwargs={'rankdir': 'LR', 'size': '\"12,4\"'})\n",
    "p.save('tree.png')"
   ]
  },
  {
   "cell_type": "code",
   "execution_count": null,
   "metadata": {},
   "outputs": [],
   "source": []
  },
  {
   "cell_type": "code",
   "execution_count": null,
   "metadata": {},
   "outputs": [],
   "source": []
  }
 ],
 "metadata": {
  "kernelspec": {
   "display_name": "base",
   "language": "python",
   "name": "python3"
  },
  "language_info": {
   "codemirror_mode": {
    "name": "ipython",
    "version": 3
   },
   "file_extension": ".py",
   "mimetype": "text/x-python",
   "name": "python",
   "nbconvert_exporter": "python",
   "pygments_lexer": "ipython3",
   "version": "3.8.3"
  },
  "orig_nbformat": 4,
  "vscode": {
   "interpreter": {
    "hash": "881a562e02f309c4fd10f2c8ec208fcd46499745ebb69d5957db3412b8336f91"
   }
  }
 },
 "nbformat": 4,
 "nbformat_minor": 2
}
