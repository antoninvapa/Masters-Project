{
 "cells": [
  {
   "cell_type": "code",
   "execution_count": 232,
   "metadata": {},
   "outputs": [],
   "source": [
    "import numpy as np\n",
    "import scipy.integrate as integrate\n",
    "from astropy.cosmology import WMAP9 as cosmo\n",
    "from astropy import constants\n",
    "from astropy import units as u\n",
    "import scipy.interpolate\n",
    "import math\n",
    "import matplotlib.pyplot as plt\n",
    "\n",
    "\n",
    "\"\"\"\n",
    "_______________________________________________________________________________________________\n",
    "\"\"\"\n",
    "\n",
    "class GrowthFunction:\n",
    "    def __init__(self, h=0.73, omega_m=0.27,omega_l=0.73):\n",
    "        self.omega_m0 = omega_m\n",
    "        self.omega_l0 = omega_l\n",
    "        self.H_0=((h*100*u.km*u.s**-1*u.Mpc**-1).to(u.Gyr**-1)).value\n",
    "        self.h=h\n",
    "    \n",
    "    \"\"\"\n",
    "    We need to create a growth factor function. Which depends on the cosmological model.\n",
    "    1) find the evolution of the densities\n",
    "    2) define the growth factor\n",
    "    \"\"\"\n",
    "\n",
    "    def Time(self, z):\n",
    "        return 2/3/(1+z)**(3/2)/self.H_0\n",
    "\n",
    "    #hubble\n",
    "    def E_of_z(self, redshift):\n",
    "        \"\"\"\n",
    "        E(z) which describe the evolution of H(z)=E(z)*H0\n",
    "        \"\"\"\n",
    "        Ez = (self.omega_l0 + (1.0 - self.omega_l0 \n",
    "            - self.omega_m0) * (1.0+redshift)**2 \n",
    "            + self.omega_m0 * (1.0+redshift)**3)**(1/2)\n",
    "\n",
    "        return Ez\n",
    "\n",
    "    #matter\n",
    "    def omega_mz(self,redshift):\n",
    "        return self.omega_m0 * (1.0+redshift)**3 / self.E_of_z(redshift)**2.0\n",
    "\n",
    "    #Vacuum\n",
    "    def omega_lz(self,redshift):\n",
    "        return self.omega_l0 / (self.E_of_z(redshift))**2\n",
    "\n",
    "    def g_of_z(self, redshift):\n",
    "        \"\"\"\n",
    "        growth linear factor\n",
    "        \"\"\"\n",
    "\n",
    "        gz = 2.5 * self.omega_mz(redshift) / (self.omega_mz(redshift)**(4/7) \n",
    "        - self.omega_lz(redshift) + ((1 + self.omega_mz(redshift)/2) \n",
    "        * (1 + self.omega_lz(redshift)/70)))\n",
    "\n",
    "        return gz\n",
    "\n",
    "    def D_of_z(self, redshift):\n",
    "        \"\"\"\n",
    "        growth function\n",
    "        \"\"\"\n",
    "        return self.g_of_z(redshift) / self.g_of_z(0.0) / (1.0+redshift)\n",
    "    \n",
    "    def Delta_c(self, redshift):\n",
    "        return 1.686/self.D_of_z(redshift)\n",
    "\n",
    "\n",
    "\"\"\"\n",
    "_______________________________________________________________________________________________\n",
    "\"\"\"\n",
    "\n",
    "class Overdensities:\n",
    "    \n",
    "    def __init__(self,redshift=0,h7=1.05,h=0.73,omega_m=0.27,omega_l=0.73, ns=0.95,sigma8=0.8,Nbins_Sigma=50,logmass_lim=(4, 20)):\n",
    "\n",
    "        if (h<=0.0):\n",
    "            raise ValueError(\"Overdensities(): Negative Hubble constant illegal.\\n\")\n",
    "        elif (h>2.0):\n",
    "            raise ValueError(\"Overdensities(): Reduced Hubble constant h should be in units of 100 km/s/Mpc.\\n\")\n",
    "        if (h7<=0.0):\n",
    "            raise ValueError(\"Overdensities(): Negative Hubble constant illegal.\\n\")\n",
    "        elif (h7>2.0):\n",
    "            raise ValueError(\"Overdensities(): Reduced Hubble constant h7 should be in units of 70 km/s/Mpc.\\n\")\n",
    "        if (redshift<=-1.0):\n",
    "            raise ValueError(\"Overdensities(): Redshift < -1 is illegal.\\n\")\n",
    "        elif (redshift>4000.0):\n",
    "            raise ValueError(\"Overdensities(): Large redshift entered.  TF may be inaccurate.\\n\")\n",
    "\n",
    "        Growth = GrowthFunction(omega_m = omega_m, omega_l = omega_l)\n",
    "\n",
    "        self.omega_m0 = omega_m\n",
    "        self.omega_l0 = omega_l\n",
    "        self.h7=h7\n",
    "        self.h=h\n",
    "        self.Nbins_Sigma = Nbins_Sigma\n",
    "        self.ns = ns\n",
    "        self.redshift = redshift\n",
    "        self.logmass_max = logmass_lim[1]\n",
    "        self.logmass_min = logmass_lim[0]\n",
    "        self.rho_0 = self.omega_m0 * 2.78e+11\n",
    "        self.rho_0 =133363631951.67577\n",
    "        #WMAP pivot scale\n",
    "        self.kpivot = 2e-3\n",
    "\n",
    "        self.D_of_z = Growth.D_of_z\n",
    "        self.g_of_z = Growth.g_of_z\n",
    "\n",
    "        #Normalization of the power spectrum\n",
    "        self.N=1\n",
    "        self.N=sigma8*sigma8 / (self.Sigma_of_R(self.TopHatFilter, 11.4))**2\n",
    "        \n",
    "\n",
    "        # output arrays\n",
    "        # Smother radius [Mpc/h]\n",
    "        self.R = np.empty(self.Nbins_Sigma,dtype='float64')\n",
    "        # mass (M_sun/h)\n",
    "        self.M = np.empty(self.Nbins_Sigma,dtype='float64')\n",
    "        self.logM = np.empty(self.Nbins_Sigma,dtype='float64')\n",
    "        #self.M = np.logspace(self.logmass_min, self.logmass_max, self.Nbins_Sigma)\n",
    "        # sigma(M, z=0, where mass is in [M_sun/h])\n",
    "        # array of sigma for three different filters\n",
    "        self.Sigmas = np.empty(3, dtype=object)\n",
    "        self.Sigmasz = np.empty(3, dtype=object)\n",
    "        self.interpolates = np.empty(3, dtype=object)\n",
    "\n",
    "        #we can initialize sigma(M) for the different filter to then interpolate\n",
    "        self.Filters = (self.TopHatFilter, self.GaussianFilter, self.KSharpFilter)\n",
    "        self.Ints = np.empty(3, dtype=object)\n",
    "\n",
    "        for i in range(3):\n",
    "\n",
    "            s, self.R = self.SigmaM_Array(self.Filters[i])\n",
    "            self.Sigma = s\n",
    "            self.Sigmas[i] = s\n",
    "            sz = self.SigmaM_of_z()\n",
    "            self.Sigmaz = sz\n",
    "            self.Sigmasz[i] = sz\n",
    "            interpolate = self.Interpolator()\n",
    "            self.interpolates[i] = interpolate\n",
    "            int = self.Sigma_of_M_and_z(self.M, interpolate)\n",
    "            self.Ints[i] = int\n",
    "\n",
    "    \"\"\"\n",
    "    Main function \n",
    "    Change filter if needed (self.GaussianFilter <-> self.KSharpFilter <-> self.TopHatFilter)\n",
    "    _______________________________________________________________________________________________\n",
    "    \"\"\"\n",
    "    def S(self, m):\n",
    "        s = np.vectorize(self.S_prep)\n",
    "        return s(m)\n",
    "\n",
    "    def S_Z(self, m, z):\n",
    "        sz = self.D_of_z(z)*self.S(m)\n",
    "        return sz\n",
    "\n",
    "    def S_Z_interpolate(self, m, z, interpolate):\n",
    "        return self.D_of_z(z)*interpolate(np.log10(m))\n",
    "\n",
    "\n",
    "    \"\"\"\n",
    "    _______________________________________________________________________________________________\n",
    "    \"\"\"\n",
    "\n",
    "    \n",
    "    def S_prep(self, m):\n",
    "        gamma_f, c = (2*np.pi)**(2/3), 0.643\n",
    "        R = c*(m/(gamma_f*self.rho_0))**(1/3)\n",
    "        s = integrate.quad(self.integrant, 0, np.inf, args=(R, self.GaussianFilter), epsrel=1e-2, limit=100)[0]\n",
    "        return (s/(2*np.pi**2))**(1/2)\n",
    "\n",
    "    def TransferFunction(self, k):\n",
    "        q=2.04/(self.omega_m0*self.h7**2)\n",
    "        return np.log(1+2.34*q*k)/(2.34*q*k*(1+3.89*q*k+(16.1*q*k)**2+(5.46*q*k)**3+(6.71*q*k)**4)**(1/4))\n",
    "    \n",
    "    def PowerSpectrum(self, k):\n",
    "        return self.N * self.TransferFunction(k)**2 * k * (k/self.kpivot)**(self.ns-1)\n",
    "    \n",
    "    \"\"\"\n",
    "    Now we define each filters. \n",
    "    Using the series expansion at low Rk make the integration more precised (for numerical integration).\n",
    "    \"\"\"\n",
    "\n",
    "    def TopHatFilter(self, x):\n",
    "        if x < 1e-2:\n",
    "            return 1-x**2/10+x**4/280\n",
    "            # return 1./3. - x**2/30. +x**4/840\n",
    "        else:\n",
    "            return 3/(x)**3*(np.sin(x)-x*np.cos(x))\n",
    "        \n",
    "    def GaussianFilter(self, x):\n",
    "        if x < 1e-2:\n",
    "            return 1-x**2/2+x**4/8\n",
    "        else:\n",
    "            return np.exp(-x**2/2)\n",
    "        \n",
    "    def KSharpFilter(self, x):\n",
    "        if x <= 1:\n",
    "            return 1\n",
    "        else:\n",
    "            return 0\n",
    "    \n",
    "    def integrant(self, k, R, Filter):\n",
    "        return k**2*self.PowerSpectrum(k)*Filter(k*R)**2\n",
    "    \n",
    "    def Sigma_of_R(self, Filter, R):\n",
    "\n",
    "        s2 = integrate.quad(self.integrant, 0, np.inf, args=(R, Filter), epsrel=1e-2, limit=100)[0]\n",
    "        \n",
    "        return (s2/(2*np.pi**2))**(1/2)\n",
    "\n",
    "    def Sigma_of_M(self, Filter, M):\n",
    "\n",
    "        if Filter == self.TopHatFilter:\n",
    "            gamma_f, c = 4*np.pi/3, 1\n",
    "        \n",
    "        elif Filter == self.GaussianFilter:\n",
    "            gamma_f, c = (2*np.pi)**(2/3), 0.643\n",
    "        \n",
    "        elif Filter == self.KSharpFilter:\n",
    "            gamma_f, c = 6*np.pi**2, 1\n",
    "\n",
    "        R = c*(M/(gamma_f*self.rho_0))**(1/3)\n",
    "\n",
    "        s = integrate.quad(self.integrant, 0, np.inf, args=(R, Filter,), epsrel=1e-2, limit=200)[0]\n",
    "\n",
    "        return (s/(2*np.pi**2))**(1/2), R\n",
    "    \n",
    "    def SigmaM_Array(self, Filter):\n",
    "        \n",
    "        s = np.empty(self.Nbins_Sigma, dtype='float64')\n",
    "        R = np.empty(self.Nbins_Sigma, dtype='float64')\n",
    "\n",
    "        dm = (self.logmass_max - self.logmass_min)/self.Nbins_Sigma\n",
    "\n",
    "        for i in range(self.Nbins_Sigma):\n",
    "\n",
    "            logM = self.logmass_min + i*dm\n",
    "\n",
    "            M = 10.0**logM\n",
    "\n",
    "            s[i], R[i]= self.Sigma_of_M(Filter, M)\n",
    "\n",
    "            self.M[i] = M\n",
    "\n",
    "            self.logM[i] = logM\n",
    "\n",
    "        return s, R\n",
    "\n",
    "\n",
    "    \"\"\"The final function is ready to be set up\"\"\"\n",
    "\n",
    "    def Interpolator(self):\n",
    "        return scipy.interpolate.InterpolatedUnivariateSpline(self.logM, self.Sigma)\n",
    "\n",
    "    def SigmaM_of_z(self):\n",
    "        sz = self.D_of_z(self.redshift)*self.Sigma\n",
    "        return sz\n",
    "\n",
    "    def Sigma_of_M_and_z(self, M, interpolate):\n",
    "        return self.D_of_z(self.redshift)*interpolate(np.log10(M))\n",
    "\n",
    "\"\"\"\n",
    "_______________________________________________________________________________________________\n",
    "\"\"\"\n",
    "\n",
    "class HaloMassFunction:\n",
    "\n",
    "    def __init__(self, redshift, omega_m=0.27, omega_l=0.73, h=1.05, ns=0.95, sigma8=0.8, mass_function=None, Nbins=50, logmass_lim=(6, 20)):\n",
    "        self.overden = Overdensities(redshift, omega_m=omega_m, omega_l=omega_l, h=h, ns=ns, sigma8=sigma8, Nbins_Sigma=Nbins, logmass_lim=logmass_lim)\n",
    "        self.logM=self.overden.logM\n",
    "        self.M = self.overden.M\n",
    "        self.interpolates=self.overden.interpolates\n",
    "\n",
    "        if mass_function == None:\n",
    "            self.mass_function = self.press_schechter\n",
    "        else:\n",
    "            self.mass_function = mass_function.__get__(self)\n",
    "\n",
    "        self.redshift = redshift\n",
    "        Growth = GrowthFunction(omega_m=omega_m, omega_l=omega_l)\n",
    "\n",
    "        self.Delta_c = Growth.Delta_c\n",
    "\n",
    "        self.S = self.overden.S\n",
    "\n",
    "        self.dndms=np.empty(3, dtype=object)\n",
    "\n",
    "        for i in range(3):\n",
    "\n",
    "            dndm=self.dndm_gen(self.M, self.interpolates[i])\n",
    "\n",
    "            self.dndms[i] = dndm\n",
    "\n",
    "    \"\"\"\n",
    "    Main function \n",
    "    _______________________________________________________________________________________________\n",
    "    \"\"\"\n",
    "    def IMF(self, m, z):\n",
    "        \"\"\"Returns the halo mass function dn/dM in units of h^4 M_sun^-1 Mpc^-3\n",
    "        Requires mass in units of M_sun /h \"\"\"\n",
    "        # Mean matter density at redshift z in units of h^2 Msolar/Mpc^3\n",
    "        #This is rho_c in units of h^-1 M_sun (Mpc/h)^-3\n",
    "        rho_0 = self.overden.rho_0 #self.overden.omega_matter_of_z(self.overden.redshift)\n",
    "\n",
    "        dlogsigma, sigma = self.logderivative(m)\n",
    "        mass_func = self.press_schechter_z(sigma, z)\n",
    "        \n",
    "        IMF = np.abs(dlogsigma)*mass_func/m*rho_0\n",
    "\n",
    "        return IMF\n",
    "    \"\"\"\n",
    "    _______________________________________________________________________________________________\n",
    "    \"\"\"\n",
    "\n",
    "    def logderivative(self, M):\n",
    "        sigma = self.S(M)\n",
    "        sigma_plus = self.S(M**1.01)\n",
    "        return (np.log(sigma_plus*sigma_plus)-np.log(sigma*sigma))/np.log(0.01*M), sigma\n",
    "\n",
    "    def logderivative_filter(self, M, interpolate):\n",
    "        sigma = interpolate(np.log10(M))\n",
    "        sigma_plus = interpolate(1.1*np.log10(M))\n",
    "        return (np.log(sigma_plus*sigma_plus)-np.log(sigma*sigma))/np.log(0.1*M), sigma\n",
    "        \n",
    "    \n",
    "    def dndm_gen(self, M, interpolate):\n",
    "        \"\"\"Returns the halo mass function dn/dM in units of h^4 M_sun^-1 Mpc^-3\n",
    "        Requires mass in units of M_sun /h \"\"\"\n",
    "        # Mean matter density at redshift z in units of h^2 Msolar/Mpc^3\n",
    "        #This is rho_c in units of h^-1 M_sun (Mpc/h)^-3\n",
    "        rho_0 = self.overden.rho_0 #self.overden.omega_matter_of_z(self.overden.redshift)\n",
    "\n",
    "        dlogsigma, sigma = self.logderivative_filter(M, interpolate)\n",
    "        mass_func = self.mass_function(sigma)\n",
    "        \n",
    "        dndM =  np.abs(dlogsigma)*mass_func/M*rho_0\n",
    "\n",
    "        return dndM\n",
    "\n",
    "    def press_schechter_z(self, sigma, z):\n",
    "        \"\"\"Press-Schechter (This form Lacey and Cole eq. 2.11 1993)\"\"\"\n",
    "        nu = self.Delta_c(z) / sigma\n",
    "        return np.sqrt(1/2*np.pi) * nu * np.exp(-0.5*nu*nu)\n",
    "\n",
    "    def press_schechter(self, sigma):\n",
    "        \"\"\"Press-Schechter (This form Lacey and Cole eq. 2.11 1993)\"\"\"\n",
    "        nu = self.Delta_c(self.redshift) / sigma\n",
    "        return np.sqrt(1/2*np.pi) * nu * np.exp(-0.5*nu*nu)\n",
    "\n",
    "    def sheth_tormen(self, sigma):\n",
    "        \"\"\"Sheth-Tormen 1999, eq. 6\"\"\"\n",
    "        nu = self.Delta_c(self.redshift) / sigma\n",
    "        A=0.3222\n",
    "        a=0.707\n",
    "        p=0.3\n",
    "        return A*np.sqrt(2.0*a/math.pi)*(1.0+ np.power( 1.0/(nu*nu*a), p) )*  nu * np.exp(-0.5*a*nu*nu)\n",
    "\n",
    "    def warren(self, sigma):\n",
    "        \"\"\"LANL fitting function - Warren et al. 2005, astro-ph/0506395, eqtn. 5 \"\"\"\n",
    "        A = 0.7234\n",
    "        a = 1.625\n",
    "        b = 0.2538\n",
    "        c = 1.1982\n",
    "        return A*( np.power(sigma, -1.0*a) + b)*np.exp(-1.0*c / sigma / sigma )\n",
    "\n",
    "    def watson_FOF(self, sigma):\n",
    "        \"\"\"Watson 2012, eq. 12\"\"\"\n",
    "        A = 0.282\n",
    "        a = 2.163\n",
    "        b = 1.406\n",
    "        c = 1.210\n",
    "        return A*( np.power(b / sigma, 1.0*a) + 1)*np.exp(-1.0*c / sigma / sigma )\n",
    "\n",
    "\"\"\"\n",
    "_______________________________________________________________________________________________\n",
    "\"\"\"\n",
    "\n",
    "\n",
    "class MergerRate:\n",
    "    def __init__(self, redshift, redshift_lim = (0, 12), M_1=5e13, omega_m=0.27, omega_l=0.73, h=0.73, ns=0.95, sigma8=0.8, Nbins=50, logmass_lim=(6, 20)):\n",
    "        self.omega_m0 = omega_m\n",
    "        self.omega_l0 = omega_l\n",
    "        self.logmass_lim = logmass_lim\n",
    "        self.sigma8 = sigma8\n",
    "        self.h=h\n",
    "        self.Nbins = Nbins\n",
    "        self.ns = ns\n",
    "        self.redshift = redshift\n",
    "        self.logmass_max = logmass_lim[1]\n",
    "        self.logmass_min = logmass_lim[0]\n",
    "        self.rho_0 = self.omega_m0 * 2.78e+11\n",
    "        self.M_1=M_1\n",
    "        self.redshift_max_lim = redshift_lim[1]\n",
    "        self.redshift_min_lim = redshift_lim[0]\n",
    "        #self.rho_0 =133363631951.67577\n",
    "\n",
    "\n",
    "        self.HMF = HaloMassFunction(redshift, omega_m=omega_m, omega_l=omega_l, h=h, ns=ns, sigma8=sigma8, Nbins=Nbins, logmass_lim=logmass_lim)\n",
    "    \n",
    "        Growth = GrowthFunction(omega_m=omega_m, omega_l=omega_l)\n",
    "\n",
    "        self.Delta_c = Growth.Delta_c\n",
    "        self.Time = Growth.Time\n",
    "\n",
    "        overden = Overdensities(0, omega_m=self.omega_m0, omega_l=self.omega_l0, h=self.h, ns=self.ns, sigma8=self.sigma8, \n",
    "        Nbins_Sigma = self.Nbins, logmass_lim=self.logmass_lim)\n",
    "\n",
    "        self.S=overden.S\n",
    "\n",
    "\n",
    "\n",
    "    \"\"\"Create a merger rate at a fixed final mass in terms of the redshift\"\"\"\n",
    "\n",
    "    def MergerRate_M_Z(self, M2, M1, Z):\n",
    "\n",
    "        der, sigma2 = self.logderivative(M2)\n",
    "        sigma1 = self.S(M1)\n",
    "\n",
    "        MR = M2/(2*np.pi)**(1/2)*np.abs(2/3*self.Delta_c(Z)/self.Time(Z)*der)*((sigma1/sigma2)**2/(sigma1**2-sigma2**2))**(3/2)*np.exp(-0.5*self.Delta_c(Z)**2*(1/sigma2**2-1/sigma1**2))\n",
    "\n",
    "        return MR\n",
    "    \n",
    "    def MergerRate_M_Z2(self, M2, M1, Z):\n",
    "\n",
    "        interpolate = self.overden.interpolates[1]\n",
    "\n",
    "        der, sigma2 = self.derivative2(M2, interpolate)\n",
    "        sigma1 = interpolate(np.log10(M1))\n",
    "\n",
    "        MR = M2/(2*np.pi)**(1/2)*np.abs(2/3*self.Delta_c(Z)/self.Time(Z)*der)*((sigma1/sigma2)**2/(sigma1**2-sigma2**2))**(3/2)*np.exp(-0.5*self.Delta_c(Z)**2*(1/sigma2**2-1/sigma1**2))\n",
    "\n",
    "        return MR\n",
    "    \n",
    "    def MR_Sommerville(self, M1, z1, M0, z0):\n",
    "        f=1/np.sqrt(2*np.pi)*(self.Delta_c(z1)-self.Delta_c(z0))/(self.S(M1)-self.S(M0))**(3/2)*np.exp((self.Delta_c(z1)-self.Delta_c(z0))**2/(2*self.S(M1)-2*self.S(M0)))\n",
    "        return M0/M1*f*np.abs(self.logderivative(M0)[0])\n",
    "\n",
    "\n",
    "    \"\"\"Create a merger rate at a fixed redshift in terms of the mass\"\"\"\n",
    "    def MergerRate_of_M2(self):\n",
    "        \n",
    "        overden = Overdensities(self.redshift, omega_m=self.omega_m0, omega_l=self.omega_l0, h=self.h, ns=self.ns, sigma8=self.sigma8, \n",
    "        Nbins_Sigma = self.Nbins, logmass_lim=self.logmass_lim)\n",
    "\n",
    "        interpolate = overden.interpolates[1]\n",
    "\n",
    "        DeltaM = np.empty(self.Nbins, dtype=object)\n",
    "        LogdeltaM = np.empty(self.Nbins, dtype=object)\n",
    "\n",
    "        MR = np.empty(self.Nbins, dtype=object)\n",
    "\n",
    "        logDMmin = -2\n",
    "        logDMmax = 2\n",
    "        sigma1 = interpolate(np.log10(self.M_1))\n",
    "        dlogm = (logDMmax-logDMmin)/self.Nbins\n",
    "\n",
    "        for i in range(self.Nbins):\n",
    "\n",
    "            thislogDM = logDMmin + i*dlogm\n",
    "            thisDM = 10**(thislogDM)*self.M_1\n",
    "            thisM2 = thisDM + self.M_1\n",
    "\n",
    "            der , sigma2 = self.logderivative2(thisM2, interpolate)\n",
    "\n",
    "            MR[i] = 3/1e-3*(2/np.pi)**(1/2)/self.Time(self.redshift)*2/3*thisDM/thisM2*np.abs(der)*self.Delta_c(self.redshift)/sigma2/(1-(sigma2/sigma1)**2)**(3/2)*np.exp(-0.5*self.Delta_c(self.redshift)**2*(1/sigma2**2-1/sigma1**2))\n",
    "            DeltaM[i] = thisDM\n",
    "            LogdeltaM[i] = thislogDM\n",
    "\n",
    "        return MR, DeltaM, LogdeltaM\n",
    "\n",
    "    def logderivative(self, M):\n",
    "        sigma = self.S(M)\n",
    "        sigma_plus = self.S(1.00000000001*M)\n",
    "        return (sigma_plus*sigma_plus-sigma*sigma)/(0.00000000001*M), sigma\n",
    "\n",
    "            \n",
    "    def logderivative2(self, M, interpolate):\n",
    "        sigma = interpolate(np.log10(M))\n",
    "        sigma_plus = interpolate(np.log10(1.1*M))\n",
    "        return (np.log(sigma_plus)-np.log(sigma))/np.log(0.1*M), sigma\n",
    "    \n",
    "    def derivative2(self, M, interpolate):\n",
    "        sigma = interpolate(np.log10(M))\n",
    "        sigma_plus = interpolate(np.log10(1.00000000001*M))\n",
    "        return (sigma_plus*sigma_plus-sigma*sigma)/(0.00000000001*M), sigma\n",
    "    \n",
    "    def Delta_c_derivative(self, z):\n",
    "        DT = self.Delta_c(z)\n",
    "        DTplus = self.Delta_c(1.0001*z)\n",
    "        return (DTplus-DT)/0.0001*z"
   ]
  },
  {
   "cell_type": "code",
   "execution_count": 235,
   "metadata": {},
   "outputs": [
    {
     "data": {
      "text/plain": [
       "0.6989700043360189"
      ]
     },
     "execution_count": 235,
     "metadata": {},
     "output_type": "execute_result"
    }
   ],
   "source": [
    "np.log10(5)"
   ]
  },
  {
   "cell_type": "code",
   "execution_count": 242,
   "metadata": {},
   "outputs": [
    {
     "name": "stderr",
     "output_type": "stream",
     "text": [
      "<ipython-input-232-82f0e58dd7cf>:227: IntegrationWarning: The integral is probably divergent, or slowly convergent.\n",
      "  s = integrate.quad(self.integrant, 0, np.inf, args=(R, Filter,), epsrel=1e-2, limit=200)[0]\n",
      "<ipython-input-232-82f0e58dd7cf>:438: RuntimeWarning: divide by zero encountered in true_divide\n",
      "  f=1/np.sqrt(2*np.pi)*(self.Delta_c(z1)-self.Delta_c(z0))/(self.S(M1)-self.S(M0))**(3/2)*np.exp((self.Delta_c(z1)-self.Delta_c(z0))**2/(2*self.S(M1)-2*self.S(M0)))\n"
     ]
    }
   ],
   "source": [
    "MR =MergerRate(0)\n",
    "mp = np.logspace(0, 2, 100)\n",
    "P = MR.MR_Sommerville(1e14/mp, 0.2, 1e14, 0)"
   ]
  },
  {
   "cell_type": "code",
   "execution_count": 243,
   "metadata": {},
   "outputs": [
    {
     "data": {
      "image/png": "[encoded data removed]",
      "text/plain": [
       "<Figure size 432x288 with 1 Axes>"
      ]
     },
     "metadata": {
      "needs_background": "light"
     },
     "output_type": "display_data"
    }
   ],
   "source": [
    "plt.plot(mp, P)\n",
    "plt.yscale('log')\n",
    "plt.xscale('log')"
   ]
  },
  {
   "cell_type": "code",
   "execution_count": 171,
   "metadata": {},
   "outputs": [],
   "source": [
    "from scipy.stats import norm\n",
    "class MergerTree:\n",
    "\n",
    "    def __init__(self, omega_m=0.27, omega_l=0.73, h=0.73, ns=0.95, sigma8=0.8):\n",
    "        self.omega_m0 = omega_m\n",
    "        self.omega_l0 = omega_l\n",
    "        self.sigma8 = sigma8\n",
    "        self.h = h\n",
    "        self.ns = ns\n",
    "        self.rho_0 = self.omega_m0 * 2.78e+11\n",
    "\n",
    "        self.overdensity = Overdensities(0, omega_l=omega_l, omega_m=omega_m, h=h, sigma8=sigma8, ns=ns)\n",
    "        self.MergerRate = MergerRate(0, omega_l=omega_l, omega_m=omega_m, ns=ns, h=h, sigma8=sigma8)\n",
    "        self.Growth = GrowthFunction(omega_m=omega_m, omega_l=omega_l, h=h)\n",
    "\n",
    "        self.sigma = self.overdensity.S\n",
    "        self.Delta_c = self.Growth.Delta_c\n",
    "\n",
    "        m = np.logspace(0, 16, 1000)\n",
    "        sig = self.sigma(m)\n",
    "        int = scipy.interpolate.InterpolatedUnivariateSpline(m, sig)\n",
    "        self.sigma_int = np.vectorize(int)\n",
    "\n",
    "    def MT_Routine(self, M0, z0, z_m):\n",
    "\n",
    "        Ms = []\n",
    "        DM=M0\n",
    "        # Ml = 10**(np.log10(M0)-4)\n",
    "        \n",
    "        Ml=10**4\n",
    "        \n",
    "        i=0\n",
    "\n",
    "        while DM>Ml:\n",
    "            \n",
    "            # Ml = 10**(np.log10(DM)-4)\n",
    "            # sigma_c = self.Delta_c(z_m)\n",
    "            # M_c = self.M_finder(sigma_c**(-3/2)*DM, sigma_c)\n",
    "\n",
    "            # domegaC = 0.8+0.3*np.log10(DM/Ml)*self.OmegaStep(DM, DM-M_c)\n",
    "\n",
    "            domegaC = self.Delta_c(z_m)-self.Delta_c(z0)\n",
    "\n",
    "            M = self.M_picker(DM, domegaC)\n",
    "\n",
    "            DM=DM-M\n",
    "\n",
    "            if M>Ml:\n",
    "                Ms.append(M)\n",
    "                i+=1\n",
    "                \n",
    "            if i==2:\n",
    "                break\n",
    "            \n",
    "        # M_acc = M_and_z[0]-np.sum(np.array(Ms))\n",
    "\n",
    "        return Ms\n",
    "\n",
    "\n",
    "    def M_picker(self, M0, domega):\n",
    "\n",
    "        i=0\n",
    "\n",
    "        while i<1:\n",
    "            \n",
    "            # domega = np.random.uniform(0, domegaC)\n",
    "\n",
    "            x_output = np.abs(np.random.normal(0,1))\n",
    "\n",
    "            dS = (domega/(2*x_output))**2\n",
    "            \n",
    "            if dS<(domega/2)**2:\n",
    "                i+=1\n",
    "\n",
    "        S = self.sigma(M0)**2+dS\n",
    "\n",
    "        return self.M_finder(M0, S)\n",
    "    \n",
    "    # def Delta_Z(self, num_points):\n",
    "\n",
    "    #     z = np.linspace(10, 30, 100)\n",
    "    #     y = self.Delta_c(z)\n",
    "    #     z_int = scipy.interpolate.interp1d(y, z)\n",
    "    #     y_interp = np.linspace(y[0], y[-1], num_points)\n",
    "\n",
    "    #     return z_int(y_interp)\n",
    "\n",
    "\n",
    "    def M_finder(self, M0, S):\n",
    "        return float(scipy.optimize.fsolve(self.S_for_M, M0, args=S))\n",
    "        \n",
    "    def S_for_M(self, M, S):\n",
    "        return self.sigma_int(M)**2-S\n",
    "    \n",
    "    def derivative(self, M):\n",
    "        sigma = self.sigma(M)\n",
    "        sigma_plus = self.sigma(1.000000001*M)\n",
    "        return (sigma_plus*sigma_plus-sigma*sigma)/(0.000000001*M)\n",
    "    \n",
    "    def z_finder(self, z_0, domega):\n",
    "        Df = self.Delta_c(z_0)+domega\n",
    "        return float(scipy.optimize.fsolve(self.Delta_c_for_z, z_0, args=Df))\n",
    "\n",
    "    def Delta_c_for_z(self, z, D_z_f):\n",
    "        return self.Delta_c(z)-D_z_f\n",
    "\n",
    "    def OmegaStep(self, M0, dMc):\n",
    "        return np.sqrt(np.abs(self.derivative(M0))*dMc)"
   ]
  },
  {
   "cell_type": "code",
   "execution_count": 119,
   "metadata": {},
   "outputs": [
    {
     "name": "stderr",
     "output_type": "stream",
     "text": [
      "<ipython-input-52-612dd980a3df>:227: IntegrationWarning: The integral is probably divergent, or slowly convergent.\n",
      "  s = integrate.quad(self.integrant, 0, np.inf, args=(R, Filter,), epsrel=1e-2, limit=200)[0]\n"
     ]
    }
   ],
   "source": [
    "z=np.linspace(0, 30, 100)\n",
    "MT = MergerTree()\n",
    "sigma_star = MT.Delta_c(z)/3\n",
    "M = np.zeros(len(z))\n",
    "for i in range(len(M)):\n",
    "    M[i] = np.log10(MT.M_finder(10**(4), sigma_star[i]))\n"
   ]
  },
  {
   "cell_type": "code",
   "execution_count": 146,
   "metadata": {},
   "outputs": [
    {
     "data": {
      "text/plain": [
       "[<matplotlib.lines.Line2D at 0x7f814a690eb0>]"
      ]
     },
     "execution_count": 146,
     "metadata": {},
     "output_type": "execute_result"
    },
    {
     "data": {
      "image/png": "[encoded data removed]",
      "text/plain": [
       "<Figure size 432x288 with 1 Axes>"
      ]
     },
     "metadata": {
      "needs_background": "light"
     },
     "output_type": "display_data"
    }
   ],
   "source": [
    "z=np.linspace(0, 30,100)\n",
    "plt.plot(z, MT.Delta_c(z))"
   ]
  },
  {
   "cell_type": "code",
   "execution_count": 85,
   "metadata": {},
   "outputs": [
    {
     "data": {
      "text/plain": [
       "array(10.36491526)"
      ]
     },
     "execution_count": 85,
     "metadata": {},
     "output_type": "execute_result"
    }
   ],
   "source": [
    "MT.sigma(10**4)"
   ]
  },
  {
   "cell_type": "code",
   "execution_count": 4,
   "metadata": {},
   "outputs": [
    {
     "data": {
      "text/plain": [
       "(0.0, 30.0)"
      ]
     },
     "execution_count": 4,
     "metadata": {},
     "output_type": "execute_result"
    },
    {
     "data": {
      "image/png": "[encoded data removed]",
      "text/plain": [
       "<Figure size 432x288 with 1 Axes>"
      ]
     },
     "metadata": {
      "needs_background": "light"
     },
     "output_type": "display_data"
    }
   ],
   "source": [
    "plt.plot(M, z)\n",
    "plt.xlim(4, 15)\n",
    "plt.ylim(0, 30)"
   ]
  },
  {
   "cell_type": "code",
   "execution_count": 172,
   "metadata": {},
   "outputs": [
    {
     "name": "stderr",
     "output_type": "stream",
     "text": [
      "<ipython-input-52-612dd980a3df>:227: IntegrationWarning: The integral is probably divergent, or slowly convergent.\n",
      "  s = integrate.quad(self.integrant, 0, np.inf, args=(R, Filter,), epsrel=1e-2, limit=200)[0]\n"
     ]
    },
    {
     "name": "stdout",
     "output_type": "stream",
     "text": [
      "[928291512015.7325, 49001307739.527534]\n",
      "1.382944107055664\n",
      "[896451243069.2416, 98091439639.53738]\n",
      "1.3857648372650146\n",
      "[572289559278.952, 327451234907.9393]\n",
      "1.3885529041290283\n",
      "[655310614596.8496, 329062788736.91876]\n",
      "1.3910012245178223\n",
      "[774496240144.1401, 147089296155.64185]\n",
      "1.3937249183654785\n",
      "[597536463484.8966, 307706075587.7958]\n",
      "1.3969752788543701\n",
      "[748425930611.8558, 206044446957.352]\n",
      "1.3997561931610107\n",
      "[759638318176.0269, 217338020853.2546]\n",
      "1.402493953704834\n",
      "[879558452439.9855, 93239069565.58504]\n",
      "1.4048960208892822\n",
      "[679794555062.6077, 198376031498.8564]\n",
      "1.4075121879577637\n",
      "[709079782360.453, 236760368919.49496]\n",
      "1.410438060760498\n",
      "[777493150439.3466, 158100341861.95132]\n",
      "1.4141209125518799\n",
      "[592677604073.2397, 307540693376.52875]\n",
      "1.4170079231262207\n",
      "[549945148432.1544, 329424283832.4893]\n",
      "1.41975998878479\n",
      "[587498718454.3547, 294050512336.59766]\n",
      "1.4226529598236084\n",
      "[641024458816.673, 231751362060.64297]\n",
      "1.425058126449585\n",
      "[615277785170.1763, 232882734142.18774]\n",
      "1.4280500411987305\n",
      "[800252989543.7262, 143586660925.3565]\n",
      "1.4309351444244385\n",
      "[760189998922.2909, 182811562572.16714]\n",
      "1.4336981773376465\n",
      "[720341644639.7915, 184285725716.81592]\n",
      "1.436434030532837\n"
     ]
    }
   ],
   "source": [
    "import time \n",
    "t0 = time.time()\n",
    "MT = MergerTree()\n",
    "for i in range(20):\n",
    "    Ms = MT.MT_Routine(1e12, 10, 11.5)\n",
    "    # print(np.sum(Ms)+M_acc)\n",
    "    print(Ms)\n",
    "    print(time.time()-t0)"
   ]
  },
  {
   "cell_type": "code",
   "execution_count": 6,
   "metadata": {},
   "outputs": [],
   "source": [
    "from itertools import chain\n",
    "\n",
    "mfinder = np.vectorize(MT.M_finder)"
   ]
  },
  {
   "cell_type": "code",
   "execution_count": 99,
   "metadata": {},
   "outputs": [],
   "source": [
    "n_halos=1000\n",
    "\n",
    "Halos = [1.17692829e+08, 2.13677185e+07, 4.56340499e+08, 5.65513069e+08,\n",
    "       1.15245076e+07, 1.00602712e+08, 1.32350378e+07, 3.30346724e+09]"
   ]
  },
  {
   "cell_type": "code",
   "execution_count": 53,
   "metadata": {},
   "outputs": [
    {
     "name": "stderr",
     "output_type": "stream",
     "text": [
      "<ipython-input-52-612dd980a3df>:227: IntegrationWarning: The integral is probably divergent, or slowly convergent.\n",
      "  s = integrate.quad(self.integrant, 0, np.inf, args=(R, Filter,), epsrel=1e-2, limit=200)[0]\n"
     ]
    }
   ],
   "source": [
    "HIMF=HaloMassFunction(0)\n",
    "m = np.logspace(4, 10, 100)"
   ]
  },
  {
   "cell_type": "code",
   "execution_count": 247,
   "metadata": {},
   "outputs": [],
   "source": [
    "def halo_PDF_norm(z):\n",
    "    return integrate.quad(HIMF.IMF, 10**3, 10**10, args=(z), epsrel=1e-4, limit=1000)[0]"
   ]
  },
  {
   "cell_type": "code",
   "execution_count": 182,
   "metadata": {},
   "outputs": [
    {
     "ename": "KeyboardInterrupt",
     "evalue": "",
     "output_type": "error",
     "traceback": [
      "\u001b[0;31m---------------------------------------------------------------------------\u001b[0m",
      "\u001b[0;31mKeyboardInterrupt\u001b[0m                         Traceback (most recent call last)",
      "\u001b[0;32m<ipython-input-182-09d56dcf32a3>\u001b[0m in \u001b[0;36m<module>\u001b[0;34m\u001b[0m\n\u001b[0;32m----> 1\u001b[0;31m \u001b[0mHimf_10\u001b[0m \u001b[0;34m=\u001b[0m \u001b[0mHIMF\u001b[0m\u001b[0;34m.\u001b[0m\u001b[0mIMF\u001b[0m\u001b[0;34m(\u001b[0m\u001b[0mm\u001b[0m\u001b[0;34m,\u001b[0m \u001b[0;36m10\u001b[0m\u001b[0;34m)\u001b[0m\u001b[0;34m/\u001b[0m\u001b[0mhalo_PDF_norm\u001b[0m\u001b[0;34m(\u001b[0m\u001b[0;36m10\u001b[0m\u001b[0;34m)\u001b[0m\u001b[0;34m\u001b[0m\u001b[0;34m\u001b[0m\u001b[0m\n\u001b[0m",
      "\u001b[0;32m<ipython-input-180-098ffc4d763d>\u001b[0m in \u001b[0;36mhalo_PDF_norm\u001b[0;34m(z)\u001b[0m\n\u001b[1;32m      1\u001b[0m \u001b[0;32mdef\u001b[0m \u001b[0mhalo_PDF_norm\u001b[0m\u001b[0;34m(\u001b[0m\u001b[0mz\u001b[0m\u001b[0;34m)\u001b[0m\u001b[0;34m:\u001b[0m\u001b[0;34m\u001b[0m\u001b[0;34m\u001b[0m\u001b[0m\n\u001b[0;32m----> 2\u001b[0;31m     \u001b[0;32mreturn\u001b[0m \u001b[0mintegrate\u001b[0m\u001b[0;34m.\u001b[0m\u001b[0mquad\u001b[0m\u001b[0;34m(\u001b[0m\u001b[0mHIMF\u001b[0m\u001b[0;34m.\u001b[0m\u001b[0mIMF\u001b[0m\u001b[0;34m,\u001b[0m \u001b[0;36m10\u001b[0m\u001b[0;34m**\u001b[0m\u001b[0;36m4\u001b[0m\u001b[0;34m,\u001b[0m \u001b[0;36m10\u001b[0m\u001b[0;34m**\u001b[0m\u001b[0;36m10\u001b[0m\u001b[0;34m,\u001b[0m \u001b[0margs\u001b[0m\u001b[0;34m=\u001b[0m\u001b[0;34m(\u001b[0m\u001b[0mz\u001b[0m\u001b[0;34m)\u001b[0m\u001b[0;34m,\u001b[0m \u001b[0mepsrel\u001b[0m\u001b[0;34m=\u001b[0m\u001b[0;36m1e-4\u001b[0m\u001b[0;34m,\u001b[0m \u001b[0mlimit\u001b[0m\u001b[0;34m=\u001b[0m\u001b[0;36m1000\u001b[0m\u001b[0;34m)\u001b[0m\u001b[0;34m[\u001b[0m\u001b[0;36m0\u001b[0m\u001b[0;34m]\u001b[0m\u001b[0;34m\u001b[0m\u001b[0;34m\u001b[0m\u001b[0m\n\u001b[0m",
      "\u001b[0;32m~/opt/anaconda3/lib/python3.8/site-packages/scipy/integrate/quadpack.py\u001b[0m in \u001b[0;36mquad\u001b[0;34m(func, a, b, args, full_output, epsabs, epsrel, limit, points, weight, wvar, wopts, maxp1, limlst)\u001b[0m\n\u001b[1;32m    349\u001b[0m \u001b[0;34m\u001b[0m\u001b[0m\n\u001b[1;32m    350\u001b[0m     \u001b[0;32mif\u001b[0m \u001b[0mweight\u001b[0m \u001b[0;32mis\u001b[0m \u001b[0;32mNone\u001b[0m\u001b[0;34m:\u001b[0m\u001b[0;34m\u001b[0m\u001b[0;34m\u001b[0m\u001b[0m\n\u001b[0;32m--> 351\u001b[0;31m         retval = _quad(func, a, b, args, full_output, epsabs, epsrel, limit,\n\u001b[0m\u001b[1;32m    352\u001b[0m                        points)\n\u001b[1;32m    353\u001b[0m     \u001b[0;32melse\u001b[0m\u001b[0;34m:\u001b[0m\u001b[0;34m\u001b[0m\u001b[0;34m\u001b[0m\u001b[0m\n",
      "\u001b[0;32m~/opt/anaconda3/lib/python3.8/site-packages/scipy/integrate/quadpack.py\u001b[0m in \u001b[0;36m_quad\u001b[0;34m(func, a, b, args, full_output, epsabs, epsrel, limit, points)\u001b[0m\n\u001b[1;32m    461\u001b[0m     \u001b[0;32mif\u001b[0m \u001b[0mpoints\u001b[0m \u001b[0;32mis\u001b[0m \u001b[0;32mNone\u001b[0m\u001b[0;34m:\u001b[0m\u001b[0;34m\u001b[0m\u001b[0;34m\u001b[0m\u001b[0m\n\u001b[1;32m    462\u001b[0m         \u001b[0;32mif\u001b[0m \u001b[0minfbounds\u001b[0m \u001b[0;34m==\u001b[0m \u001b[0;36m0\u001b[0m\u001b[0;34m:\u001b[0m\u001b[0;34m\u001b[0m\u001b[0;34m\u001b[0m\u001b[0m\n\u001b[0;32m--> 463\u001b[0;31m             \u001b[0;32mreturn\u001b[0m \u001b[0m_quadpack\u001b[0m\u001b[0;34m.\u001b[0m\u001b[0m_qagse\u001b[0m\u001b[0;34m(\u001b[0m\u001b[0mfunc\u001b[0m\u001b[0;34m,\u001b[0m\u001b[0ma\u001b[0m\u001b[0;34m,\u001b[0m\u001b[0mb\u001b[0m\u001b[0;34m,\u001b[0m\u001b[0margs\u001b[0m\u001b[0;34m,\u001b[0m\u001b[0mfull_output\u001b[0m\u001b[0;34m,\u001b[0m\u001b[0mepsabs\u001b[0m\u001b[0;34m,\u001b[0m\u001b[0mepsrel\u001b[0m\u001b[0;34m,\u001b[0m\u001b[0mlimit\u001b[0m\u001b[0;34m)\u001b[0m\u001b[0;34m\u001b[0m\u001b[0;34m\u001b[0m\u001b[0m\n\u001b[0m\u001b[1;32m    464\u001b[0m         \u001b[0;32melse\u001b[0m\u001b[0;34m:\u001b[0m\u001b[0;34m\u001b[0m\u001b[0;34m\u001b[0m\u001b[0m\n\u001b[1;32m    465\u001b[0m             \u001b[0;32mreturn\u001b[0m \u001b[0m_quadpack\u001b[0m\u001b[0;34m.\u001b[0m\u001b[0m_qagie\u001b[0m\u001b[0;34m(\u001b[0m\u001b[0mfunc\u001b[0m\u001b[0;34m,\u001b[0m\u001b[0mbound\u001b[0m\u001b[0;34m,\u001b[0m\u001b[0minfbounds\u001b[0m\u001b[0;34m,\u001b[0m\u001b[0margs\u001b[0m\u001b[0;34m,\u001b[0m\u001b[0mfull_output\u001b[0m\u001b[0;34m,\u001b[0m\u001b[0mepsabs\u001b[0m\u001b[0;34m,\u001b[0m\u001b[0mepsrel\u001b[0m\u001b[0;34m,\u001b[0m\u001b[0mlimit\u001b[0m\u001b[0;34m)\u001b[0m\u001b[0;34m\u001b[0m\u001b[0;34m\u001b[0m\u001b[0m\n",
      "\u001b[0;32m<ipython-input-52-612dd980a3df>\u001b[0m in \u001b[0;36mIMF\u001b[0;34m(self, m, z)\u001b[0m\n\u001b[1;32m    306\u001b[0m         \u001b[0mrho_0\u001b[0m \u001b[0;34m=\u001b[0m \u001b[0mself\u001b[0m\u001b[0;34m.\u001b[0m\u001b[0moverden\u001b[0m\u001b[0;34m.\u001b[0m\u001b[0mrho_0\u001b[0m \u001b[0;31m#self.overden.omega_matter_of_z(self.overden.redshift)\u001b[0m\u001b[0;34m\u001b[0m\u001b[0;34m\u001b[0m\u001b[0m\n\u001b[1;32m    307\u001b[0m \u001b[0;34m\u001b[0m\u001b[0m\n\u001b[0;32m--> 308\u001b[0;31m         \u001b[0mdlogsigma\u001b[0m\u001b[0;34m,\u001b[0m \u001b[0msigma\u001b[0m \u001b[0;34m=\u001b[0m \u001b[0mself\u001b[0m\u001b[0;34m.\u001b[0m\u001b[0mlogderivative\u001b[0m\u001b[0;34m(\u001b[0m\u001b[0mm\u001b[0m\u001b[0;34m)\u001b[0m\u001b[0;34m\u001b[0m\u001b[0;34m\u001b[0m\u001b[0m\n\u001b[0m\u001b[1;32m    309\u001b[0m         \u001b[0mmass_func\u001b[0m \u001b[0;34m=\u001b[0m \u001b[0mself\u001b[0m\u001b[0;34m.\u001b[0m\u001b[0mpress_schechter_z\u001b[0m\u001b[0;34m(\u001b[0m\u001b[0msigma\u001b[0m\u001b[0;34m,\u001b[0m \u001b[0mz\u001b[0m\u001b[0;34m)\u001b[0m\u001b[0;34m\u001b[0m\u001b[0;34m\u001b[0m\u001b[0m\n\u001b[1;32m    310\u001b[0m \u001b[0;34m\u001b[0m\u001b[0m\n",
      "\u001b[0;32m<ipython-input-52-612dd980a3df>\u001b[0m in \u001b[0;36mlogderivative\u001b[0;34m(self, M)\u001b[0m\n\u001b[1;32m    317\u001b[0m \u001b[0;34m\u001b[0m\u001b[0m\n\u001b[1;32m    318\u001b[0m     \u001b[0;32mdef\u001b[0m \u001b[0mlogderivative\u001b[0m\u001b[0;34m(\u001b[0m\u001b[0mself\u001b[0m\u001b[0;34m,\u001b[0m \u001b[0mM\u001b[0m\u001b[0;34m)\u001b[0m\u001b[0;34m:\u001b[0m\u001b[0;34m\u001b[0m\u001b[0;34m\u001b[0m\u001b[0m\n\u001b[0;32m--> 319\u001b[0;31m         \u001b[0msigma\u001b[0m \u001b[0;34m=\u001b[0m \u001b[0mself\u001b[0m\u001b[0;34m.\u001b[0m\u001b[0mS\u001b[0m\u001b[0;34m(\u001b[0m\u001b[0mM\u001b[0m\u001b[0;34m)\u001b[0m\u001b[0;34m\u001b[0m\u001b[0;34m\u001b[0m\u001b[0m\n\u001b[0m\u001b[1;32m    320\u001b[0m         \u001b[0msigma_plus\u001b[0m \u001b[0;34m=\u001b[0m \u001b[0mself\u001b[0m\u001b[0;34m.\u001b[0m\u001b[0mS\u001b[0m\u001b[0;34m(\u001b[0m\u001b[0mM\u001b[0m\u001b[0;34m**\u001b[0m\u001b[0;36m1.01\u001b[0m\u001b[0;34m)\u001b[0m\u001b[0;34m\u001b[0m\u001b[0;34m\u001b[0m\u001b[0m\n\u001b[1;32m    321\u001b[0m         \u001b[0;32mreturn\u001b[0m \u001b[0;34m(\u001b[0m\u001b[0mnp\u001b[0m\u001b[0;34m.\u001b[0m\u001b[0mlog\u001b[0m\u001b[0;34m(\u001b[0m\u001b[0msigma_plus\u001b[0m\u001b[0;34m*\u001b[0m\u001b[0msigma_plus\u001b[0m\u001b[0;34m)\u001b[0m\u001b[0;34m-\u001b[0m\u001b[0mnp\u001b[0m\u001b[0;34m.\u001b[0m\u001b[0mlog\u001b[0m\u001b[0;34m(\u001b[0m\u001b[0msigma\u001b[0m\u001b[0;34m*\u001b[0m\u001b[0msigma\u001b[0m\u001b[0;34m)\u001b[0m\u001b[0;34m)\u001b[0m\u001b[0;34m/\u001b[0m\u001b[0mnp\u001b[0m\u001b[0;34m.\u001b[0m\u001b[0mlog\u001b[0m\u001b[0;34m(\u001b[0m\u001b[0;36m0.01\u001b[0m\u001b[0;34m*\u001b[0m\u001b[0mM\u001b[0m\u001b[0;34m)\u001b[0m\u001b[0;34m,\u001b[0m \u001b[0msigma\u001b[0m\u001b[0;34m\u001b[0m\u001b[0;34m\u001b[0m\u001b[0m\n",
      "\u001b[0;32m<ipython-input-52-612dd980a3df>\u001b[0m in \u001b[0;36mS\u001b[0;34m(self, m)\u001b[0m\n\u001b[1;32m    151\u001b[0m     \u001b[0;32mdef\u001b[0m \u001b[0mS\u001b[0m\u001b[0;34m(\u001b[0m\u001b[0mself\u001b[0m\u001b[0;34m,\u001b[0m \u001b[0mm\u001b[0m\u001b[0;34m)\u001b[0m\u001b[0;34m:\u001b[0m\u001b[0;34m\u001b[0m\u001b[0;34m\u001b[0m\u001b[0m\n\u001b[1;32m    152\u001b[0m         \u001b[0ms\u001b[0m \u001b[0;34m=\u001b[0m \u001b[0mnp\u001b[0m\u001b[0;34m.\u001b[0m\u001b[0mvectorize\u001b[0m\u001b[0;34m(\u001b[0m\u001b[0mself\u001b[0m\u001b[0;34m.\u001b[0m\u001b[0mS_prep\u001b[0m\u001b[0;34m)\u001b[0m\u001b[0;34m\u001b[0m\u001b[0;34m\u001b[0m\u001b[0m\n\u001b[0;32m--> 153\u001b[0;31m         \u001b[0;32mreturn\u001b[0m \u001b[0ms\u001b[0m\u001b[0;34m(\u001b[0m\u001b[0mm\u001b[0m\u001b[0;34m)\u001b[0m\u001b[0;34m\u001b[0m\u001b[0;34m\u001b[0m\u001b[0m\n\u001b[0m\u001b[1;32m    154\u001b[0m \u001b[0;34m\u001b[0m\u001b[0m\n\u001b[1;32m    155\u001b[0m     \u001b[0;32mdef\u001b[0m \u001b[0mS_Z\u001b[0m\u001b[0;34m(\u001b[0m\u001b[0mself\u001b[0m\u001b[0;34m,\u001b[0m \u001b[0mm\u001b[0m\u001b[0;34m,\u001b[0m \u001b[0mz\u001b[0m\u001b[0;34m)\u001b[0m\u001b[0;34m:\u001b[0m\u001b[0;34m\u001b[0m\u001b[0;34m\u001b[0m\u001b[0m\n",
      "\u001b[0;32m~/opt/anaconda3/lib/python3.8/site-packages/numpy/lib/function_base.py\u001b[0m in \u001b[0;36m__call__\u001b[0;34m(self, *args, **kwargs)\u001b[0m\n\u001b[1;32m   2161\u001b[0m             \u001b[0mvargs\u001b[0m\u001b[0;34m.\u001b[0m\u001b[0mextend\u001b[0m\u001b[0;34m(\u001b[0m\u001b[0;34m[\u001b[0m\u001b[0mkwargs\u001b[0m\u001b[0;34m[\u001b[0m\u001b[0m_n\u001b[0m\u001b[0;34m]\u001b[0m \u001b[0;32mfor\u001b[0m \u001b[0m_n\u001b[0m \u001b[0;32min\u001b[0m \u001b[0mnames\u001b[0m\u001b[0;34m]\u001b[0m\u001b[0;34m)\u001b[0m\u001b[0;34m\u001b[0m\u001b[0;34m\u001b[0m\u001b[0m\n\u001b[1;32m   2162\u001b[0m \u001b[0;34m\u001b[0m\u001b[0m\n\u001b[0;32m-> 2163\u001b[0;31m         \u001b[0;32mreturn\u001b[0m \u001b[0mself\u001b[0m\u001b[0;34m.\u001b[0m\u001b[0m_vectorize_call\u001b[0m\u001b[0;34m(\u001b[0m\u001b[0mfunc\u001b[0m\u001b[0;34m=\u001b[0m\u001b[0mfunc\u001b[0m\u001b[0;34m,\u001b[0m \u001b[0margs\u001b[0m\u001b[0;34m=\u001b[0m\u001b[0mvargs\u001b[0m\u001b[0;34m)\u001b[0m\u001b[0;34m\u001b[0m\u001b[0;34m\u001b[0m\u001b[0m\n\u001b[0m\u001b[1;32m   2164\u001b[0m \u001b[0;34m\u001b[0m\u001b[0m\n\u001b[1;32m   2165\u001b[0m     \u001b[0;32mdef\u001b[0m \u001b[0m_get_ufunc_and_otypes\u001b[0m\u001b[0;34m(\u001b[0m\u001b[0mself\u001b[0m\u001b[0;34m,\u001b[0m \u001b[0mfunc\u001b[0m\u001b[0;34m,\u001b[0m \u001b[0margs\u001b[0m\u001b[0;34m)\u001b[0m\u001b[0;34m:\u001b[0m\u001b[0;34m\u001b[0m\u001b[0;34m\u001b[0m\u001b[0m\n",
      "\u001b[0;32m~/opt/anaconda3/lib/python3.8/site-packages/numpy/lib/function_base.py\u001b[0m in \u001b[0;36m_vectorize_call\u001b[0;34m(self, func, args)\u001b[0m\n\u001b[1;32m   2239\u001b[0m             \u001b[0mres\u001b[0m \u001b[0;34m=\u001b[0m \u001b[0mfunc\u001b[0m\u001b[0;34m(\u001b[0m\u001b[0;34m)\u001b[0m\u001b[0;34m\u001b[0m\u001b[0;34m\u001b[0m\u001b[0m\n\u001b[1;32m   2240\u001b[0m         \u001b[0;32melse\u001b[0m\u001b[0;34m:\u001b[0m\u001b[0;34m\u001b[0m\u001b[0;34m\u001b[0m\u001b[0m\n\u001b[0;32m-> 2241\u001b[0;31m             \u001b[0mufunc\u001b[0m\u001b[0;34m,\u001b[0m \u001b[0motypes\u001b[0m \u001b[0;34m=\u001b[0m \u001b[0mself\u001b[0m\u001b[0;34m.\u001b[0m\u001b[0m_get_ufunc_and_otypes\u001b[0m\u001b[0;34m(\u001b[0m\u001b[0mfunc\u001b[0m\u001b[0;34m=\u001b[0m\u001b[0mfunc\u001b[0m\u001b[0;34m,\u001b[0m \u001b[0margs\u001b[0m\u001b[0;34m=\u001b[0m\u001b[0margs\u001b[0m\u001b[0;34m)\u001b[0m\u001b[0;34m\u001b[0m\u001b[0;34m\u001b[0m\u001b[0m\n\u001b[0m\u001b[1;32m   2242\u001b[0m \u001b[0;34m\u001b[0m\u001b[0m\n\u001b[1;32m   2243\u001b[0m             \u001b[0;31m# Convert args to object arrays first\u001b[0m\u001b[0;34m\u001b[0m\u001b[0;34m\u001b[0m\u001b[0;34m\u001b[0m\u001b[0m\n",
      "\u001b[0;32m~/opt/anaconda3/lib/python3.8/site-packages/numpy/lib/function_base.py\u001b[0m in \u001b[0;36m_get_ufunc_and_otypes\u001b[0;34m(self, func, args)\u001b[0m\n\u001b[1;32m   2199\u001b[0m \u001b[0;34m\u001b[0m\u001b[0m\n\u001b[1;32m   2200\u001b[0m             \u001b[0minputs\u001b[0m \u001b[0;34m=\u001b[0m \u001b[0;34m[\u001b[0m\u001b[0marg\u001b[0m\u001b[0;34m.\u001b[0m\u001b[0mflat\u001b[0m\u001b[0;34m[\u001b[0m\u001b[0;36m0\u001b[0m\u001b[0;34m]\u001b[0m \u001b[0;32mfor\u001b[0m \u001b[0marg\u001b[0m \u001b[0;32min\u001b[0m \u001b[0margs\u001b[0m\u001b[0;34m]\u001b[0m\u001b[0;34m\u001b[0m\u001b[0;34m\u001b[0m\u001b[0m\n\u001b[0;32m-> 2201\u001b[0;31m             \u001b[0moutputs\u001b[0m \u001b[0;34m=\u001b[0m \u001b[0mfunc\u001b[0m\u001b[0;34m(\u001b[0m\u001b[0;34m*\u001b[0m\u001b[0minputs\u001b[0m\u001b[0;34m)\u001b[0m\u001b[0;34m\u001b[0m\u001b[0;34m\u001b[0m\u001b[0m\n\u001b[0m\u001b[1;32m   2202\u001b[0m \u001b[0;34m\u001b[0m\u001b[0m\n\u001b[1;32m   2203\u001b[0m             \u001b[0;31m# Performance note: profiling indicates that -- for simple\u001b[0m\u001b[0;34m\u001b[0m\u001b[0;34m\u001b[0m\u001b[0;34m\u001b[0m\u001b[0m\n",
      "\u001b[0;32m<ipython-input-52-612dd980a3df>\u001b[0m in \u001b[0;36mS_prep\u001b[0;34m(self, m)\u001b[0m\n\u001b[1;32m    169\u001b[0m         \u001b[0mgamma_f\u001b[0m\u001b[0;34m,\u001b[0m \u001b[0mc\u001b[0m \u001b[0;34m=\u001b[0m \u001b[0;34m(\u001b[0m\u001b[0;36m2\u001b[0m\u001b[0;34m*\u001b[0m\u001b[0mnp\u001b[0m\u001b[0;34m.\u001b[0m\u001b[0mpi\u001b[0m\u001b[0;34m)\u001b[0m\u001b[0;34m**\u001b[0m\u001b[0;34m(\u001b[0m\u001b[0;36m2\u001b[0m\u001b[0;34m/\u001b[0m\u001b[0;36m3\u001b[0m\u001b[0;34m)\u001b[0m\u001b[0;34m,\u001b[0m \u001b[0;36m0.643\u001b[0m\u001b[0;34m\u001b[0m\u001b[0;34m\u001b[0m\u001b[0m\n\u001b[1;32m    170\u001b[0m         \u001b[0mR\u001b[0m \u001b[0;34m=\u001b[0m \u001b[0mc\u001b[0m\u001b[0;34m*\u001b[0m\u001b[0;34m(\u001b[0m\u001b[0mm\u001b[0m\u001b[0;34m/\u001b[0m\u001b[0;34m(\u001b[0m\u001b[0mgamma_f\u001b[0m\u001b[0;34m*\u001b[0m\u001b[0mself\u001b[0m\u001b[0;34m.\u001b[0m\u001b[0mrho_0\u001b[0m\u001b[0;34m)\u001b[0m\u001b[0;34m)\u001b[0m\u001b[0;34m**\u001b[0m\u001b[0;34m(\u001b[0m\u001b[0;36m1\u001b[0m\u001b[0;34m/\u001b[0m\u001b[0;36m3\u001b[0m\u001b[0;34m)\u001b[0m\u001b[0;34m\u001b[0m\u001b[0;34m\u001b[0m\u001b[0m\n\u001b[0;32m--> 171\u001b[0;31m         \u001b[0ms\u001b[0m \u001b[0;34m=\u001b[0m \u001b[0mintegrate\u001b[0m\u001b[0;34m.\u001b[0m\u001b[0mquad\u001b[0m\u001b[0;34m(\u001b[0m\u001b[0mself\u001b[0m\u001b[0;34m.\u001b[0m\u001b[0mintegrant\u001b[0m\u001b[0;34m,\u001b[0m \u001b[0;36m0\u001b[0m\u001b[0;34m,\u001b[0m \u001b[0mnp\u001b[0m\u001b[0;34m.\u001b[0m\u001b[0minf\u001b[0m\u001b[0;34m,\u001b[0m \u001b[0margs\u001b[0m\u001b[0;34m=\u001b[0m\u001b[0;34m(\u001b[0m\u001b[0mR\u001b[0m\u001b[0;34m,\u001b[0m \u001b[0mself\u001b[0m\u001b[0;34m.\u001b[0m\u001b[0mGaussianFilter\u001b[0m\u001b[0;34m)\u001b[0m\u001b[0;34m,\u001b[0m \u001b[0mepsrel\u001b[0m\u001b[0;34m=\u001b[0m\u001b[0;36m1e-2\u001b[0m\u001b[0;34m,\u001b[0m \u001b[0mlimit\u001b[0m\u001b[0;34m=\u001b[0m\u001b[0;36m100\u001b[0m\u001b[0;34m)\u001b[0m\u001b[0;34m[\u001b[0m\u001b[0;36m0\u001b[0m\u001b[0;34m]\u001b[0m\u001b[0;34m\u001b[0m\u001b[0;34m\u001b[0m\u001b[0m\n\u001b[0m\u001b[1;32m    172\u001b[0m         \u001b[0;32mreturn\u001b[0m \u001b[0;34m(\u001b[0m\u001b[0ms\u001b[0m\u001b[0;34m/\u001b[0m\u001b[0;34m(\u001b[0m\u001b[0;36m2\u001b[0m\u001b[0;34m*\u001b[0m\u001b[0mnp\u001b[0m\u001b[0;34m.\u001b[0m\u001b[0mpi\u001b[0m\u001b[0;34m**\u001b[0m\u001b[0;36m2\u001b[0m\u001b[0;34m)\u001b[0m\u001b[0;34m)\u001b[0m\u001b[0;34m**\u001b[0m\u001b[0;34m(\u001b[0m\u001b[0;36m1\u001b[0m\u001b[0;34m/\u001b[0m\u001b[0;36m2\u001b[0m\u001b[0;34m)\u001b[0m\u001b[0;34m\u001b[0m\u001b[0;34m\u001b[0m\u001b[0m\n\u001b[1;32m    173\u001b[0m \u001b[0;34m\u001b[0m\u001b[0m\n",
      "\u001b[0;32m~/opt/anaconda3/lib/python3.8/site-packages/scipy/integrate/quadpack.py\u001b[0m in \u001b[0;36mquad\u001b[0;34m(func, a, b, args, full_output, epsabs, epsrel, limit, points, weight, wvar, wopts, maxp1, limlst)\u001b[0m\n\u001b[1;32m    349\u001b[0m \u001b[0;34m\u001b[0m\u001b[0m\n\u001b[1;32m    350\u001b[0m     \u001b[0;32mif\u001b[0m \u001b[0mweight\u001b[0m \u001b[0;32mis\u001b[0m \u001b[0;32mNone\u001b[0m\u001b[0;34m:\u001b[0m\u001b[0;34m\u001b[0m\u001b[0;34m\u001b[0m\u001b[0m\n\u001b[0;32m--> 351\u001b[0;31m         retval = _quad(func, a, b, args, full_output, epsabs, epsrel, limit,\n\u001b[0m\u001b[1;32m    352\u001b[0m                        points)\n\u001b[1;32m    353\u001b[0m     \u001b[0;32melse\u001b[0m\u001b[0;34m:\u001b[0m\u001b[0;34m\u001b[0m\u001b[0;34m\u001b[0m\u001b[0m\n",
      "\u001b[0;32m~/opt/anaconda3/lib/python3.8/site-packages/scipy/integrate/quadpack.py\u001b[0m in \u001b[0;36m_quad\u001b[0;34m(func, a, b, args, full_output, epsabs, epsrel, limit, points)\u001b[0m\n\u001b[1;32m    463\u001b[0m             \u001b[0;32mreturn\u001b[0m \u001b[0m_quadpack\u001b[0m\u001b[0;34m.\u001b[0m\u001b[0m_qagse\u001b[0m\u001b[0;34m(\u001b[0m\u001b[0mfunc\u001b[0m\u001b[0;34m,\u001b[0m\u001b[0ma\u001b[0m\u001b[0;34m,\u001b[0m\u001b[0mb\u001b[0m\u001b[0;34m,\u001b[0m\u001b[0margs\u001b[0m\u001b[0;34m,\u001b[0m\u001b[0mfull_output\u001b[0m\u001b[0;34m,\u001b[0m\u001b[0mepsabs\u001b[0m\u001b[0;34m,\u001b[0m\u001b[0mepsrel\u001b[0m\u001b[0;34m,\u001b[0m\u001b[0mlimit\u001b[0m\u001b[0;34m)\u001b[0m\u001b[0;34m\u001b[0m\u001b[0;34m\u001b[0m\u001b[0m\n\u001b[1;32m    464\u001b[0m         \u001b[0;32melse\u001b[0m\u001b[0;34m:\u001b[0m\u001b[0;34m\u001b[0m\u001b[0;34m\u001b[0m\u001b[0m\n\u001b[0;32m--> 465\u001b[0;31m             \u001b[0;32mreturn\u001b[0m \u001b[0m_quadpack\u001b[0m\u001b[0;34m.\u001b[0m\u001b[0m_qagie\u001b[0m\u001b[0;34m(\u001b[0m\u001b[0mfunc\u001b[0m\u001b[0;34m,\u001b[0m\u001b[0mbound\u001b[0m\u001b[0;34m,\u001b[0m\u001b[0minfbounds\u001b[0m\u001b[0;34m,\u001b[0m\u001b[0margs\u001b[0m\u001b[0;34m,\u001b[0m\u001b[0mfull_output\u001b[0m\u001b[0;34m,\u001b[0m\u001b[0mepsabs\u001b[0m\u001b[0;34m,\u001b[0m\u001b[0mepsrel\u001b[0m\u001b[0;34m,\u001b[0m\u001b[0mlimit\u001b[0m\u001b[0;34m)\u001b[0m\u001b[0;34m\u001b[0m\u001b[0;34m\u001b[0m\u001b[0m\n\u001b[0m\u001b[1;32m    466\u001b[0m     \u001b[0;32melse\u001b[0m\u001b[0;34m:\u001b[0m\u001b[0;34m\u001b[0m\u001b[0;34m\u001b[0m\u001b[0m\n\u001b[1;32m    467\u001b[0m         \u001b[0;32mif\u001b[0m \u001b[0minfbounds\u001b[0m \u001b[0;34m!=\u001b[0m \u001b[0;36m0\u001b[0m\u001b[0;34m:\u001b[0m\u001b[0;34m\u001b[0m\u001b[0;34m\u001b[0m\u001b[0m\n",
      "\u001b[0;32m<ipython-input-52-612dd980a3df>\u001b[0m in \u001b[0;36mintegrant\u001b[0;34m(self, k, R, Filter)\u001b[0m\n\u001b[1;32m    204\u001b[0m \u001b[0;34m\u001b[0m\u001b[0m\n\u001b[1;32m    205\u001b[0m     \u001b[0;32mdef\u001b[0m \u001b[0mintegrant\u001b[0m\u001b[0;34m(\u001b[0m\u001b[0mself\u001b[0m\u001b[0;34m,\u001b[0m \u001b[0mk\u001b[0m\u001b[0;34m,\u001b[0m \u001b[0mR\u001b[0m\u001b[0;34m,\u001b[0m \u001b[0mFilter\u001b[0m\u001b[0;34m)\u001b[0m\u001b[0;34m:\u001b[0m\u001b[0;34m\u001b[0m\u001b[0;34m\u001b[0m\u001b[0m\n\u001b[0;32m--> 206\u001b[0;31m         \u001b[0;32mreturn\u001b[0m \u001b[0mk\u001b[0m\u001b[0;34m**\u001b[0m\u001b[0;36m2\u001b[0m\u001b[0;34m*\u001b[0m\u001b[0mself\u001b[0m\u001b[0;34m.\u001b[0m\u001b[0mPowerSpectrum\u001b[0m\u001b[0;34m(\u001b[0m\u001b[0mk\u001b[0m\u001b[0;34m)\u001b[0m\u001b[0;34m*\u001b[0m\u001b[0mFilter\u001b[0m\u001b[0;34m(\u001b[0m\u001b[0mk\u001b[0m\u001b[0;34m*\u001b[0m\u001b[0mR\u001b[0m\u001b[0;34m)\u001b[0m\u001b[0;34m**\u001b[0m\u001b[0;36m2\u001b[0m\u001b[0;34m\u001b[0m\u001b[0;34m\u001b[0m\u001b[0m\n\u001b[0m\u001b[1;32m    207\u001b[0m \u001b[0;34m\u001b[0m\u001b[0m\n\u001b[1;32m    208\u001b[0m     \u001b[0;32mdef\u001b[0m \u001b[0mSigma_of_R\u001b[0m\u001b[0;34m(\u001b[0m\u001b[0mself\u001b[0m\u001b[0;34m,\u001b[0m \u001b[0mFilter\u001b[0m\u001b[0;34m,\u001b[0m \u001b[0mR\u001b[0m\u001b[0;34m)\u001b[0m\u001b[0;34m:\u001b[0m\u001b[0;34m\u001b[0m\u001b[0;34m\u001b[0m\u001b[0m\n",
      "\u001b[0;32m<ipython-input-52-612dd980a3df>\u001b[0m in \u001b[0;36mPowerSpectrum\u001b[0;34m(self, k)\u001b[0m\n\u001b[1;32m    177\u001b[0m \u001b[0;34m\u001b[0m\u001b[0m\n\u001b[1;32m    178\u001b[0m     \u001b[0;32mdef\u001b[0m \u001b[0mPowerSpectrum\u001b[0m\u001b[0;34m(\u001b[0m\u001b[0mself\u001b[0m\u001b[0;34m,\u001b[0m \u001b[0mk\u001b[0m\u001b[0;34m)\u001b[0m\u001b[0;34m:\u001b[0m\u001b[0;34m\u001b[0m\u001b[0;34m\u001b[0m\u001b[0m\n\u001b[0;32m--> 179\u001b[0;31m         \u001b[0;32mreturn\u001b[0m \u001b[0mself\u001b[0m\u001b[0;34m.\u001b[0m\u001b[0mN\u001b[0m \u001b[0;34m*\u001b[0m \u001b[0mself\u001b[0m\u001b[0;34m.\u001b[0m\u001b[0mTransferFunction\u001b[0m\u001b[0;34m(\u001b[0m\u001b[0mk\u001b[0m\u001b[0;34m)\u001b[0m\u001b[0;34m**\u001b[0m\u001b[0;36m2\u001b[0m \u001b[0;34m*\u001b[0m \u001b[0mk\u001b[0m \u001b[0;34m*\u001b[0m \u001b[0;34m(\u001b[0m\u001b[0mk\u001b[0m\u001b[0;34m/\u001b[0m\u001b[0mself\u001b[0m\u001b[0;34m.\u001b[0m\u001b[0mkpivot\u001b[0m\u001b[0;34m)\u001b[0m\u001b[0;34m**\u001b[0m\u001b[0;34m(\u001b[0m\u001b[0mself\u001b[0m\u001b[0;34m.\u001b[0m\u001b[0mns\u001b[0m\u001b[0;34m-\u001b[0m\u001b[0;36m1\u001b[0m\u001b[0;34m)\u001b[0m\u001b[0;34m\u001b[0m\u001b[0;34m\u001b[0m\u001b[0m\n\u001b[0m\u001b[1;32m    180\u001b[0m \u001b[0;34m\u001b[0m\u001b[0m\n\u001b[1;32m    181\u001b[0m     \"\"\"\n",
      "\u001b[0;32m<ipython-input-52-612dd980a3df>\u001b[0m in \u001b[0;36mTransferFunction\u001b[0;34m(self, k)\u001b[0m\n\u001b[1;32m    174\u001b[0m     \u001b[0;32mdef\u001b[0m \u001b[0mTransferFunction\u001b[0m\u001b[0;34m(\u001b[0m\u001b[0mself\u001b[0m\u001b[0;34m,\u001b[0m \u001b[0mk\u001b[0m\u001b[0;34m)\u001b[0m\u001b[0;34m:\u001b[0m\u001b[0;34m\u001b[0m\u001b[0;34m\u001b[0m\u001b[0m\n\u001b[1;32m    175\u001b[0m         \u001b[0mq\u001b[0m\u001b[0;34m=\u001b[0m\u001b[0;36m2.04\u001b[0m\u001b[0;34m/\u001b[0m\u001b[0;34m(\u001b[0m\u001b[0mself\u001b[0m\u001b[0;34m.\u001b[0m\u001b[0momega_m0\u001b[0m\u001b[0;34m*\u001b[0m\u001b[0mself\u001b[0m\u001b[0;34m.\u001b[0m\u001b[0mh7\u001b[0m\u001b[0;34m**\u001b[0m\u001b[0;36m2\u001b[0m\u001b[0;34m)\u001b[0m\u001b[0;34m\u001b[0m\u001b[0;34m\u001b[0m\u001b[0m\n\u001b[0;32m--> 176\u001b[0;31m         \u001b[0;32mreturn\u001b[0m \u001b[0mnp\u001b[0m\u001b[0;34m.\u001b[0m\u001b[0mlog\u001b[0m\u001b[0;34m(\u001b[0m\u001b[0;36m1\u001b[0m\u001b[0;34m+\u001b[0m\u001b[0;36m2.34\u001b[0m\u001b[0;34m*\u001b[0m\u001b[0mq\u001b[0m\u001b[0;34m*\u001b[0m\u001b[0mk\u001b[0m\u001b[0;34m)\u001b[0m\u001b[0;34m/\u001b[0m\u001b[0;34m(\u001b[0m\u001b[0;36m2.34\u001b[0m\u001b[0;34m*\u001b[0m\u001b[0mq\u001b[0m\u001b[0;34m*\u001b[0m\u001b[0mk\u001b[0m\u001b[0;34m*\u001b[0m\u001b[0;34m(\u001b[0m\u001b[0;36m1\u001b[0m\u001b[0;34m+\u001b[0m\u001b[0;36m3.89\u001b[0m\u001b[0;34m*\u001b[0m\u001b[0mq\u001b[0m\u001b[0;34m*\u001b[0m\u001b[0mk\u001b[0m\u001b[0;34m+\u001b[0m\u001b[0;34m(\u001b[0m\u001b[0;36m16.1\u001b[0m\u001b[0;34m*\u001b[0m\u001b[0mq\u001b[0m\u001b[0;34m*\u001b[0m\u001b[0mk\u001b[0m\u001b[0;34m)\u001b[0m\u001b[0;34m**\u001b[0m\u001b[0;36m2\u001b[0m\u001b[0;34m+\u001b[0m\u001b[0;34m(\u001b[0m\u001b[0;36m5.46\u001b[0m\u001b[0;34m*\u001b[0m\u001b[0mq\u001b[0m\u001b[0;34m*\u001b[0m\u001b[0mk\u001b[0m\u001b[0;34m)\u001b[0m\u001b[0;34m**\u001b[0m\u001b[0;36m3\u001b[0m\u001b[0;34m+\u001b[0m\u001b[0;34m(\u001b[0m\u001b[0;36m6.71\u001b[0m\u001b[0;34m*\u001b[0m\u001b[0mq\u001b[0m\u001b[0;34m*\u001b[0m\u001b[0mk\u001b[0m\u001b[0;34m)\u001b[0m\u001b[0;34m**\u001b[0m\u001b[0;36m4\u001b[0m\u001b[0;34m)\u001b[0m\u001b[0;34m**\u001b[0m\u001b[0;34m(\u001b[0m\u001b[0;36m1\u001b[0m\u001b[0;34m/\u001b[0m\u001b[0;36m4\u001b[0m\u001b[0;34m)\u001b[0m\u001b[0;34m)\u001b[0m\u001b[0;34m\u001b[0m\u001b[0;34m\u001b[0m\u001b[0m\n\u001b[0m\u001b[1;32m    177\u001b[0m \u001b[0;34m\u001b[0m\u001b[0m\n\u001b[1;32m    178\u001b[0m     \u001b[0;32mdef\u001b[0m \u001b[0mPowerSpectrum\u001b[0m\u001b[0;34m(\u001b[0m\u001b[0mself\u001b[0m\u001b[0;34m,\u001b[0m \u001b[0mk\u001b[0m\u001b[0;34m)\u001b[0m\u001b[0;34m:\u001b[0m\u001b[0;34m\u001b[0m\u001b[0;34m\u001b[0m\u001b[0m\n",
      "\u001b[0;31mKeyboardInterrupt\u001b[0m: "
     ]
    }
   ],
   "source": [
    "Himf_10 = HIMF.IMF(m, 10)/halo_PDF_norm(10)"
   ]
  },
  {
   "cell_type": "code",
   "execution_count": 176,
   "metadata": {},
   "outputs": [
    {
     "data": {
      "image/png": "[encoded data removed]",
      "text/plain": [
       "<Figure size 432x288 with 1 Axes>"
      ]
     },
     "metadata": {
      "needs_background": "light"
     },
     "output_type": "display_data"
    }
   ],
   "source": [
    "plt.hist(Halos, density=True, bins=10**np.linspace(4, 10, 40))\n",
    "M=np.logspace(4, 10, 100)\n",
    "plt.plot(M, Himf_10)\n",
    "plt.xlim(10**4, 10**10)\n",
    "plt.ylim(1e-12,1e-1)\n",
    "plt.xscale('log')\n",
    "plt.yscale('log')"
   ]
  },
  {
   "cell_type": "code",
   "execution_count": 173,
   "metadata": {},
   "outputs": [
    {
     "name": "stderr",
     "output_type": "stream",
     "text": [
      "<ipython-input-52-612dd980a3df>:227: IntegrationWarning: The integral is probably divergent, or slowly convergent.\n",
      "  s = integrate.quad(self.integrant, 0, np.inf, args=(R, Filter,), epsrel=1e-2, limit=200)[0]\n"
     ]
    },
    {
     "name": "stdout",
     "output_type": "stream",
     "text": [
      "10\n"
     ]
    }
   ],
   "source": [
    "MT = MergerTree()\n",
    "z=10\n",
    "Ms= Halos\n",
    "print(z)"
   ]
  },
  {
   "cell_type": "code",
   "execution_count": 175,
   "metadata": {},
   "outputs": [
    {
     "name": "stdout",
     "output_type": "stream",
     "text": [
      "24\n",
      "1.5530941486358643 556\n",
      "26\n",
      "3.614521026611328 858\n",
      "28\n",
      "6.772528171539307 1293\n",
      "30\n",
      "11.387451171875 1864\n"
     ]
    }
   ],
   "source": [
    "t0 = time.time()\n",
    "while z<30:\n",
    "    \n",
    "    Mss=[]\n",
    "    for ii in range(len(Ms)):\n",
    "        routine = MT.MT_Routine(Ms[ii], z, z+2)\n",
    "        Mss.append(routine)\n",
    "        \n",
    "    z=z+2\n",
    "    Mss = list(chain.from_iterable(Mss))\n",
    "    Ms = Mss\n",
    "    print(z)\n",
    "    print(time.time()-t0, len(Ms))"
   ]
  },
  {
   "cell_type": "code",
   "execution_count": 170,
   "metadata": {},
   "outputs": [
    {
     "data": {
      "text/plain": [
       "290"
      ]
     },
     "execution_count": 170,
     "metadata": {},
     "output_type": "execute_result"
    }
   ],
   "source": [
    "len(Ms)"
   ]
  },
  {
   "cell_type": "code",
   "execution_count": 248,
   "metadata": {},
   "outputs": [
    {
     "name": "stderr",
     "output_type": "stream",
     "text": [
      "<ipython-input-232-82f0e58dd7cf>:227: IntegrationWarning: The integral is probably divergent, or slowly convergent.\n",
      "  s = integrate.quad(self.integrant, 0, np.inf, args=(R, Filter,), epsrel=1e-2, limit=200)[0]\n",
      "<ipython-input-247-88f75843171e>:2: IntegrationWarning: The algorithm does not converge.  Roundoff error is detected\n",
      "  in the extrapolation table.  It is assumed that the requested tolerance\n",
      "  cannot be achieved, and that the returned result (if full_output = 1) is \n",
      "  the best which can be obtained.\n",
      "  return integrate.quad(HIMF.IMF, 10**3, 10**10, args=(z), epsrel=1e-4, limit=1000)[0]\n"
     ]
    },
    {
     "data": {
      "text/plain": [
       "array([1.86919470e-05, 1.44780501e-05, 1.10501949e-05, 8.94926179e-06,\n",
       "       7.59267162e-06, 4.87493025e-06, 4.55500418e-06, 3.32928730e-06,\n",
       "       2.56545704e-06, 1.95141370e-06, 1.65666641e-06, 1.14351543e-06,\n",
       "       9.24561282e-07, 6.93799801e-07, 5.38335075e-07, 3.95619832e-07,\n",
       "       3.03729332e-07, 2.35913069e-07, 1.75822783e-07, 1.26086359e-07,\n",
       "       9.30034179e-08, 7.71783990e-08, 5.67595759e-08, 4.20610371e-08,\n",
       "       3.04877231e-08, 2.50349765e-08, 1.57414442e-08, 1.27557211e-08,\n",
       "       9.17378181e-09, 6.77116343e-09, 4.79872013e-09, 3.46636775e-09,\n",
       "       2.63510171e-09, 1.80723539e-09, 1.22387684e-09, 8.68364307e-10,\n",
       "       6.66726602e-10, 4.62051058e-10, 3.28245187e-10, 2.23011039e-10,\n",
       "       1.55782170e-10, 1.01526327e-10, 7.37594867e-11, 4.92559645e-11,\n",
       "       3.31485574e-11, 2.22319793e-11, 1.48175422e-11, 9.80113588e-12,\n",
       "       6.44832446e-12, 4.20543266e-12, 2.72051447e-12, 1.74600356e-12,\n",
       "       1.11048113e-12, 7.00651204e-13, 4.38444785e-13, 2.71748183e-13,\n",
       "       1.66829837e-13, 1.01422061e-13, 6.10295595e-14, 3.63355702e-14,\n",
       "       2.14093116e-14, 1.24638544e-14, 7.17355989e-15, 4.07887133e-15,\n",
       "       2.29020458e-15, 1.26921464e-15, 6.93923530e-16, 3.74097231e-16,\n",
       "       1.98766444e-16, 1.04009941e-16, 5.35816978e-17, 2.71585463e-17,\n",
       "       1.35336878e-17, 6.62651348e-18, 3.18576972e-18, 1.50321077e-18,\n",
       "       6.95017723e-19, 3.14902379e-19, 1.39662910e-19, 6.05808833e-20,\n",
       "       2.56770764e-20, 1.06242637e-20, 4.29456063e-21, 1.68542572e-21,\n",
       "       6.44783171e-22, 2.39750451e-22, 8.65690474e-23, 3.03069000e-23,\n",
       "       1.02744603e-23, 3.36827979e-24, 1.06624153e-24, 3.25406252e-25,\n",
       "       9.55292729e-26, 2.69824374e-26, 7.30549690e-27, 1.89362198e-27,\n",
       "       4.68318932e-28, 1.10735668e-28, 2.48749695e-29, 5.30364590e-30])"
      ]
     },
     "execution_count": 248,
     "metadata": {},
     "output_type": "execute_result"
    }
   ],
   "source": [
    "HIMF=HaloMassFunction(0)\n",
    "m = np.logspace(4, 10, 100)\n",
    "Himf = HIMF.IMF(m, 30)/np.abs(halo_PDF_norm(30))\n",
    "Himf"
   ]
  },
  {
   "cell_type": "code",
   "execution_count": 249,
   "metadata": {},
   "outputs": [
    {
     "data": {
      "text/plain": [
       "<matplotlib.legend.Legend at 0x7f814ccfaf40>"
      ]
     },
     "execution_count": 249,
     "metadata": {},
     "output_type": "execute_result"
    },
    {
     "data": {
      "image/png": "[encoded data removed]",
      "text/plain": [
       "<Figure size 432x288 with 1 Axes>"
      ]
     },
     "metadata": {
      "needs_background": "light"
     },
     "output_type": "display_data"
    }
   ],
   "source": [
    "plt.hist(Ms, bins=10**np.linspace(4,15,40), log=True, density=True)\n",
    "plt.plot(m, Himf, label='30')\n",
    "plt.plot(m, Himf_10, label='10')\n",
    "plt.ylim(1e-10,1e3)\n",
    "plt.xscale('log')\n",
    "plt.yscale('log')\n",
    "plt.xlim(1e4, 1e18)\n",
    "plt.legend()"
   ]
  },
  {
   "cell_type": "code",
   "execution_count": 250,
   "metadata": {},
   "outputs": [
    {
     "data": {
      "text/plain": [
       "1864"
      ]
     },
     "execution_count": 250,
     "metadata": {},
     "output_type": "execute_result"
    }
   ],
   "source": [
    "len(Ms)"
   ]
  },
  {
   "cell_type": "code",
   "execution_count": null,
   "metadata": {},
   "outputs": [],
   "source": []
  }
 ],
 "metadata": {
  "kernelspec": {
   "display_name": "base",
   "language": "python",
   "name": "python3"
  },
  "language_info": {
   "codemirror_mode": {
    "name": "ipython",
    "version": 3
   },
   "file_extension": ".py",
   "mimetype": "text/x-python",
   "name": "python",
   "nbconvert_exporter": "python",
   "pygments_lexer": "ipython3",
   "version": "3.8.3"
  },
  "orig_nbformat": 4,
  "vscode": {
   "interpreter": {
    "hash": "881a562e02f309c4fd10f2c8ec208fcd46499745ebb69d5957db3412b8336f91"
   }
  }
 },
 "nbformat": 4,
 "nbformat_minor": 2
}
